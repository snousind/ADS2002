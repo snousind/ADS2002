{
  "cells": [
    {
      "cell_type": "markdown",
      "metadata": {
        "id": "view-in-github",
        "colab_type": "text"
      },
      "source": [
        "<a href=\"https://colab.research.google.com/github/snousind/ADS2002/blob/main/Imputation.ipynb\" target=\"_parent\"><img src=\"https://colab.research.google.com/assets/colab-badge.svg\" alt=\"Open In Colab\"/></a>"
      ]
    },
    {
      "cell_type": "markdown",
      "metadata": {
        "id": "RbdmMc2kWbAY"
      },
      "source": [
        "# Imputing Missing Data"
      ]
    },
    {
      "cell_type": "markdown",
      "metadata": {
        "id": "UnjuNa-qWbAi"
      },
      "source": [
        "In this notebook we investigate ways for dealing with missing data using Scikit-Learn's imputation routines. There are three main routines we will discuss: `SimpleImputer`, `KNNImputer` and `IterativeImputer`. We will only discuss imputing continuous, numerical values; for imputing categorical values possible approaches are using the mode or `KNNImputer`.\n",
        "\n",
        "We will use the [Pima Indians Diabetes Dataset](https://www.kaggle.com/uciml/pima-indians-diabetes-database), which can be downloaded from [Monash Gitlab](https://gitlab.erc.monash.edu.au/bads/data-challenges-resources/-/tree/main/Machine-Learning/Imputation/pima_indians_diabetes.csv). This aims to predict whether the patient has diabetes from a number of diagnostic measurements. All patients are females of Pima Indian heritage, who are at least 21 years old.\n",
        "\n",
        "Previously, we have dealt with missing data by deleting that entry. However, that means losing valuable data which contributes to the training of your model. A better approach is to impute the data, i.e., infer the missing data from the existing observations.\n",
        "\n",
        "We will concentrate here on Scikit-Learn's imputation routines, although some of the techniques, such as replacement of values with the mean or mode, can be easily implemented in Pandas."
      ]
    },
    {
      "cell_type": "markdown",
      "metadata": {
        "id": "aDsm6BgqWbAm"
      },
      "source": [
        "## Contents"
      ]
    },
    {
      "cell_type": "markdown",
      "metadata": {
        "id": "WFavpnE5WbAo"
      },
      "source": [
        "* Introduction\n",
        "* Preliminary analysis\n",
        "* Cross-validation analysis\n",
        "* Exercises"
      ]
    },
    {
      "cell_type": "markdown",
      "metadata": {
        "id": "4CPyCInpWbAp"
      },
      "source": [
        "## Introduction"
      ]
    },
    {
      "cell_type": "markdown",
      "metadata": {
        "id": "s7CoH4N3WbAq"
      },
      "source": [
        "We first import the standard libraries and the csv file."
      ]
    },
    {
      "cell_type": "code",
      "execution_count": null,
      "metadata": {
        "id": "XO5hfd-1WbAr"
      },
      "outputs": [],
      "source": [
        "import pandas as pd\n",
        "import numpy as np\n",
        "from matplotlib import pyplot as plt\n",
        "import seaborn as sns\n",
        "import warnings\n",
        "warnings.filterwarnings(\"ignore\")\n",
        "\n",
        "pima = pd.read_csv(\"pima_indians_diabetes.csv\")"
      ]
    },
    {
      "cell_type": "markdown",
      "metadata": {
        "id": "Pwe_q2W_WbAu"
      },
      "source": [
        "We can now view a random sample of the data. In the columns `BloodPressure`, `SkinThickness` and `Insulin` there are values of 0, which are clearly not physical. This is indicative of missing values."
      ]
    },
    {
      "cell_type": "code",
      "execution_count": null,
      "metadata": {
        "id": "uSCfTEcyWbAv",
        "outputId": "bdc94db1-c309-4d99-afef-dcd475a7a265"
      },
      "outputs": [
        {
          "data": {
            "text/html": [
              "<div>\n",
              "<style scoped>\n",
              "    .dataframe tbody tr th:only-of-type {\n",
              "        vertical-align: middle;\n",
              "    }\n",
              "\n",
              "    .dataframe tbody tr th {\n",
              "        vertical-align: top;\n",
              "    }\n",
              "\n",
              "    .dataframe thead th {\n",
              "        text-align: right;\n",
              "    }\n",
              "</style>\n",
              "<table border=\"1\" class=\"dataframe\">\n",
              "  <thead>\n",
              "    <tr style=\"text-align: right;\">\n",
              "      <th></th>\n",
              "      <th>Pregnancies</th>\n",
              "      <th>Glucose</th>\n",
              "      <th>BloodPressure</th>\n",
              "      <th>SkinThickness</th>\n",
              "      <th>Insulin</th>\n",
              "      <th>BMI</th>\n",
              "      <th>DiabetesPedigreeFunction</th>\n",
              "      <th>Age</th>\n",
              "      <th>Outcome</th>\n",
              "    </tr>\n",
              "  </thead>\n",
              "  <tbody>\n",
              "    <tr>\n",
              "      <th>571</th>\n",
              "      <td>2</td>\n",
              "      <td>130</td>\n",
              "      <td>96</td>\n",
              "      <td>0</td>\n",
              "      <td>0</td>\n",
              "      <td>22.6</td>\n",
              "      <td>0.268</td>\n",
              "      <td>21</td>\n",
              "      <td>0</td>\n",
              "    </tr>\n",
              "    <tr>\n",
              "      <th>33</th>\n",
              "      <td>6</td>\n",
              "      <td>92</td>\n",
              "      <td>92</td>\n",
              "      <td>0</td>\n",
              "      <td>0</td>\n",
              "      <td>19.9</td>\n",
              "      <td>0.188</td>\n",
              "      <td>28</td>\n",
              "      <td>0</td>\n",
              "    </tr>\n",
              "    <tr>\n",
              "      <th>290</th>\n",
              "      <td>0</td>\n",
              "      <td>78</td>\n",
              "      <td>88</td>\n",
              "      <td>29</td>\n",
              "      <td>40</td>\n",
              "      <td>36.9</td>\n",
              "      <td>0.434</td>\n",
              "      <td>21</td>\n",
              "      <td>0</td>\n",
              "    </tr>\n",
              "    <tr>\n",
              "      <th>445</th>\n",
              "      <td>0</td>\n",
              "      <td>180</td>\n",
              "      <td>78</td>\n",
              "      <td>63</td>\n",
              "      <td>14</td>\n",
              "      <td>59.4</td>\n",
              "      <td>2.420</td>\n",
              "      <td>25</td>\n",
              "      <td>1</td>\n",
              "    </tr>\n",
              "    <tr>\n",
              "      <th>100</th>\n",
              "      <td>1</td>\n",
              "      <td>163</td>\n",
              "      <td>72</td>\n",
              "      <td>0</td>\n",
              "      <td>0</td>\n",
              "      <td>39.0</td>\n",
              "      <td>1.222</td>\n",
              "      <td>33</td>\n",
              "      <td>1</td>\n",
              "    </tr>\n",
              "    <tr>\n",
              "      <th>87</th>\n",
              "      <td>2</td>\n",
              "      <td>100</td>\n",
              "      <td>68</td>\n",
              "      <td>25</td>\n",
              "      <td>71</td>\n",
              "      <td>38.5</td>\n",
              "      <td>0.324</td>\n",
              "      <td>26</td>\n",
              "      <td>0</td>\n",
              "    </tr>\n",
              "    <tr>\n",
              "      <th>716</th>\n",
              "      <td>3</td>\n",
              "      <td>173</td>\n",
              "      <td>78</td>\n",
              "      <td>39</td>\n",
              "      <td>185</td>\n",
              "      <td>33.8</td>\n",
              "      <td>0.970</td>\n",
              "      <td>31</td>\n",
              "      <td>1</td>\n",
              "    </tr>\n",
              "    <tr>\n",
              "      <th>27</th>\n",
              "      <td>1</td>\n",
              "      <td>97</td>\n",
              "      <td>66</td>\n",
              "      <td>15</td>\n",
              "      <td>140</td>\n",
              "      <td>23.2</td>\n",
              "      <td>0.487</td>\n",
              "      <td>22</td>\n",
              "      <td>0</td>\n",
              "    </tr>\n",
              "    <tr>\n",
              "      <th>673</th>\n",
              "      <td>3</td>\n",
              "      <td>123</td>\n",
              "      <td>100</td>\n",
              "      <td>35</td>\n",
              "      <td>240</td>\n",
              "      <td>57.3</td>\n",
              "      <td>0.880</td>\n",
              "      <td>22</td>\n",
              "      <td>0</td>\n",
              "    </tr>\n",
              "    <tr>\n",
              "      <th>141</th>\n",
              "      <td>5</td>\n",
              "      <td>106</td>\n",
              "      <td>82</td>\n",
              "      <td>30</td>\n",
              "      <td>0</td>\n",
              "      <td>39.5</td>\n",
              "      <td>0.286</td>\n",
              "      <td>38</td>\n",
              "      <td>0</td>\n",
              "    </tr>\n",
              "    <tr>\n",
              "      <th>549</th>\n",
              "      <td>4</td>\n",
              "      <td>189</td>\n",
              "      <td>110</td>\n",
              "      <td>31</td>\n",
              "      <td>0</td>\n",
              "      <td>28.5</td>\n",
              "      <td>0.680</td>\n",
              "      <td>37</td>\n",
              "      <td>0</td>\n",
              "    </tr>\n",
              "    <tr>\n",
              "      <th>269</th>\n",
              "      <td>2</td>\n",
              "      <td>146</td>\n",
              "      <td>0</td>\n",
              "      <td>0</td>\n",
              "      <td>0</td>\n",
              "      <td>27.5</td>\n",
              "      <td>0.240</td>\n",
              "      <td>28</td>\n",
              "      <td>1</td>\n",
              "    </tr>\n",
              "    <tr>\n",
              "      <th>621</th>\n",
              "      <td>2</td>\n",
              "      <td>92</td>\n",
              "      <td>76</td>\n",
              "      <td>20</td>\n",
              "      <td>0</td>\n",
              "      <td>24.2</td>\n",
              "      <td>1.698</td>\n",
              "      <td>28</td>\n",
              "      <td>0</td>\n",
              "    </tr>\n",
              "    <tr>\n",
              "      <th>656</th>\n",
              "      <td>2</td>\n",
              "      <td>101</td>\n",
              "      <td>58</td>\n",
              "      <td>35</td>\n",
              "      <td>90</td>\n",
              "      <td>21.8</td>\n",
              "      <td>0.155</td>\n",
              "      <td>22</td>\n",
              "      <td>0</td>\n",
              "    </tr>\n",
              "    <tr>\n",
              "      <th>690</th>\n",
              "      <td>8</td>\n",
              "      <td>107</td>\n",
              "      <td>80</td>\n",
              "      <td>0</td>\n",
              "      <td>0</td>\n",
              "      <td>24.6</td>\n",
              "      <td>0.856</td>\n",
              "      <td>34</td>\n",
              "      <td>0</td>\n",
              "    </tr>\n",
              "    <tr>\n",
              "      <th>219</th>\n",
              "      <td>5</td>\n",
              "      <td>112</td>\n",
              "      <td>66</td>\n",
              "      <td>0</td>\n",
              "      <td>0</td>\n",
              "      <td>37.8</td>\n",
              "      <td>0.261</td>\n",
              "      <td>41</td>\n",
              "      <td>1</td>\n",
              "    </tr>\n",
              "    <tr>\n",
              "      <th>319</th>\n",
              "      <td>6</td>\n",
              "      <td>194</td>\n",
              "      <td>78</td>\n",
              "      <td>0</td>\n",
              "      <td>0</td>\n",
              "      <td>23.5</td>\n",
              "      <td>0.129</td>\n",
              "      <td>59</td>\n",
              "      <td>1</td>\n",
              "    </tr>\n",
              "    <tr>\n",
              "      <th>308</th>\n",
              "      <td>0</td>\n",
              "      <td>128</td>\n",
              "      <td>68</td>\n",
              "      <td>19</td>\n",
              "      <td>180</td>\n",
              "      <td>30.5</td>\n",
              "      <td>1.391</td>\n",
              "      <td>25</td>\n",
              "      <td>1</td>\n",
              "    </tr>\n",
              "    <tr>\n",
              "      <th>154</th>\n",
              "      <td>8</td>\n",
              "      <td>188</td>\n",
              "      <td>78</td>\n",
              "      <td>0</td>\n",
              "      <td>0</td>\n",
              "      <td>47.9</td>\n",
              "      <td>0.137</td>\n",
              "      <td>43</td>\n",
              "      <td>1</td>\n",
              "    </tr>\n",
              "    <tr>\n",
              "      <th>335</th>\n",
              "      <td>0</td>\n",
              "      <td>165</td>\n",
              "      <td>76</td>\n",
              "      <td>43</td>\n",
              "      <td>255</td>\n",
              "      <td>47.9</td>\n",
              "      <td>0.259</td>\n",
              "      <td>26</td>\n",
              "      <td>0</td>\n",
              "    </tr>\n",
              "  </tbody>\n",
              "</table>\n",
              "</div>"
            ],
            "text/plain": [
              "     Pregnancies  Glucose  BloodPressure  SkinThickness  Insulin   BMI  \\\n",
              "571            2      130             96              0        0  22.6   \n",
              "33             6       92             92              0        0  19.9   \n",
              "290            0       78             88             29       40  36.9   \n",
              "445            0      180             78             63       14  59.4   \n",
              "100            1      163             72              0        0  39.0   \n",
              "87             2      100             68             25       71  38.5   \n",
              "716            3      173             78             39      185  33.8   \n",
              "27             1       97             66             15      140  23.2   \n",
              "673            3      123            100             35      240  57.3   \n",
              "141            5      106             82             30        0  39.5   \n",
              "549            4      189            110             31        0  28.5   \n",
              "269            2      146              0              0        0  27.5   \n",
              "621            2       92             76             20        0  24.2   \n",
              "656            2      101             58             35       90  21.8   \n",
              "690            8      107             80              0        0  24.6   \n",
              "219            5      112             66              0        0  37.8   \n",
              "319            6      194             78              0        0  23.5   \n",
              "308            0      128             68             19      180  30.5   \n",
              "154            8      188             78              0        0  47.9   \n",
              "335            0      165             76             43      255  47.9   \n",
              "\n",
              "     DiabetesPedigreeFunction  Age  Outcome  \n",
              "571                     0.268   21        0  \n",
              "33                      0.188   28        0  \n",
              "290                     0.434   21        0  \n",
              "445                     2.420   25        1  \n",
              "100                     1.222   33        1  \n",
              "87                      0.324   26        0  \n",
              "716                     0.970   31        1  \n",
              "27                      0.487   22        0  \n",
              "673                     0.880   22        0  \n",
              "141                     0.286   38        0  \n",
              "549                     0.680   37        0  \n",
              "269                     0.240   28        1  \n",
              "621                     1.698   28        0  \n",
              "656                     0.155   22        0  \n",
              "690                     0.856   34        0  \n",
              "219                     0.261   41        1  \n",
              "319                     0.129   59        1  \n",
              "308                     1.391   25        1  \n",
              "154                     0.137   43        1  \n",
              "335                     0.259   26        0  "
            ]
          },
          "execution_count": 84,
          "metadata": {},
          "output_type": "execute_result"
        }
      ],
      "source": [
        "pima.sample(20)"
      ]
    },
    {
      "cell_type": "markdown",
      "metadata": {
        "id": "y0dKjGTLWbAx"
      },
      "source": [
        "This can be investigated further by displaying the descriptive statistics, for which it is apparent that `Glucose` and `BMI` also have unrealistic values of 0. A value of 0 for `Pregnancies` is a physically realistic value."
      ]
    },
    {
      "cell_type": "code",
      "execution_count": null,
      "metadata": {
        "id": "xREZ7Q4_WbAx",
        "outputId": "4776037c-f161-49fe-833d-2f97e96b5c6a"
      },
      "outputs": [
        {
          "data": {
            "text/html": [
              "<div>\n",
              "<style scoped>\n",
              "    .dataframe tbody tr th:only-of-type {\n",
              "        vertical-align: middle;\n",
              "    }\n",
              "\n",
              "    .dataframe tbody tr th {\n",
              "        vertical-align: top;\n",
              "    }\n",
              "\n",
              "    .dataframe thead th {\n",
              "        text-align: right;\n",
              "    }\n",
              "</style>\n",
              "<table border=\"1\" class=\"dataframe\">\n",
              "  <thead>\n",
              "    <tr style=\"text-align: right;\">\n",
              "      <th></th>\n",
              "      <th>Pregnancies</th>\n",
              "      <th>Glucose</th>\n",
              "      <th>BloodPressure</th>\n",
              "      <th>SkinThickness</th>\n",
              "      <th>Insulin</th>\n",
              "      <th>BMI</th>\n",
              "      <th>DiabetesPedigreeFunction</th>\n",
              "      <th>Age</th>\n",
              "      <th>Outcome</th>\n",
              "    </tr>\n",
              "  </thead>\n",
              "  <tbody>\n",
              "    <tr>\n",
              "      <th>count</th>\n",
              "      <td>768.000000</td>\n",
              "      <td>768.000000</td>\n",
              "      <td>768.000000</td>\n",
              "      <td>768.000000</td>\n",
              "      <td>768.000000</td>\n",
              "      <td>768.000000</td>\n",
              "      <td>768.000000</td>\n",
              "      <td>768.000000</td>\n",
              "      <td>768.000000</td>\n",
              "    </tr>\n",
              "    <tr>\n",
              "      <th>mean</th>\n",
              "      <td>3.845052</td>\n",
              "      <td>120.894531</td>\n",
              "      <td>69.105469</td>\n",
              "      <td>20.536458</td>\n",
              "      <td>79.799479</td>\n",
              "      <td>31.992578</td>\n",
              "      <td>0.471876</td>\n",
              "      <td>33.240885</td>\n",
              "      <td>0.348958</td>\n",
              "    </tr>\n",
              "    <tr>\n",
              "      <th>std</th>\n",
              "      <td>3.369578</td>\n",
              "      <td>31.972618</td>\n",
              "      <td>19.355807</td>\n",
              "      <td>15.952218</td>\n",
              "      <td>115.244002</td>\n",
              "      <td>7.884160</td>\n",
              "      <td>0.331329</td>\n",
              "      <td>11.760232</td>\n",
              "      <td>0.476951</td>\n",
              "    </tr>\n",
              "    <tr>\n",
              "      <th>min</th>\n",
              "      <td>0.000000</td>\n",
              "      <td>0.000000</td>\n",
              "      <td>0.000000</td>\n",
              "      <td>0.000000</td>\n",
              "      <td>0.000000</td>\n",
              "      <td>0.000000</td>\n",
              "      <td>0.078000</td>\n",
              "      <td>21.000000</td>\n",
              "      <td>0.000000</td>\n",
              "    </tr>\n",
              "    <tr>\n",
              "      <th>25%</th>\n",
              "      <td>1.000000</td>\n",
              "      <td>99.000000</td>\n",
              "      <td>62.000000</td>\n",
              "      <td>0.000000</td>\n",
              "      <td>0.000000</td>\n",
              "      <td>27.300000</td>\n",
              "      <td>0.243750</td>\n",
              "      <td>24.000000</td>\n",
              "      <td>0.000000</td>\n",
              "    </tr>\n",
              "    <tr>\n",
              "      <th>50%</th>\n",
              "      <td>3.000000</td>\n",
              "      <td>117.000000</td>\n",
              "      <td>72.000000</td>\n",
              "      <td>23.000000</td>\n",
              "      <td>30.500000</td>\n",
              "      <td>32.000000</td>\n",
              "      <td>0.372500</td>\n",
              "      <td>29.000000</td>\n",
              "      <td>0.000000</td>\n",
              "    </tr>\n",
              "    <tr>\n",
              "      <th>75%</th>\n",
              "      <td>6.000000</td>\n",
              "      <td>140.250000</td>\n",
              "      <td>80.000000</td>\n",
              "      <td>32.000000</td>\n",
              "      <td>127.250000</td>\n",
              "      <td>36.600000</td>\n",
              "      <td>0.626250</td>\n",
              "      <td>41.000000</td>\n",
              "      <td>1.000000</td>\n",
              "    </tr>\n",
              "    <tr>\n",
              "      <th>max</th>\n",
              "      <td>17.000000</td>\n",
              "      <td>199.000000</td>\n",
              "      <td>122.000000</td>\n",
              "      <td>99.000000</td>\n",
              "      <td>846.000000</td>\n",
              "      <td>67.100000</td>\n",
              "      <td>2.420000</td>\n",
              "      <td>81.000000</td>\n",
              "      <td>1.000000</td>\n",
              "    </tr>\n",
              "  </tbody>\n",
              "</table>\n",
              "</div>"
            ],
            "text/plain": [
              "       Pregnancies     Glucose  BloodPressure  SkinThickness     Insulin  \\\n",
              "count   768.000000  768.000000     768.000000     768.000000  768.000000   \n",
              "mean      3.845052  120.894531      69.105469      20.536458   79.799479   \n",
              "std       3.369578   31.972618      19.355807      15.952218  115.244002   \n",
              "min       0.000000    0.000000       0.000000       0.000000    0.000000   \n",
              "25%       1.000000   99.000000      62.000000       0.000000    0.000000   \n",
              "50%       3.000000  117.000000      72.000000      23.000000   30.500000   \n",
              "75%       6.000000  140.250000      80.000000      32.000000  127.250000   \n",
              "max      17.000000  199.000000     122.000000      99.000000  846.000000   \n",
              "\n",
              "              BMI  DiabetesPedigreeFunction         Age     Outcome  \n",
              "count  768.000000                768.000000  768.000000  768.000000  \n",
              "mean    31.992578                  0.471876   33.240885    0.348958  \n",
              "std      7.884160                  0.331329   11.760232    0.476951  \n",
              "min      0.000000                  0.078000   21.000000    0.000000  \n",
              "25%     27.300000                  0.243750   24.000000    0.000000  \n",
              "50%     32.000000                  0.372500   29.000000    0.000000  \n",
              "75%     36.600000                  0.626250   41.000000    1.000000  \n",
              "max     67.100000                  2.420000   81.000000    1.000000  "
            ]
          },
          "execution_count": 85,
          "metadata": {},
          "output_type": "execute_result"
        }
      ],
      "source": [
        "pima.describe()"
      ]
    },
    {
      "cell_type": "markdown",
      "metadata": {
        "id": "2BdzKAU5WbAy"
      },
      "source": [
        "To see how many 0 values there are in these fields, we can sum the number of rows which match this criteria. The two fields with the most missing values are `SkinThickness` and `Insulin`."
      ]
    },
    {
      "cell_type": "code",
      "execution_count": null,
      "metadata": {
        "id": "LXXWdptoWbAy",
        "outputId": "f29f4550-4330-4373-c818-8fc4c76d4d71"
      },
      "outputs": [
        {
          "name": "stdout",
          "output_type": "stream",
          "text": [
            "Glucose            5\n",
            "BloodPressure     35\n",
            "SkinThickness    227\n",
            "Insulin          374\n",
            "BMI               11\n",
            "dtype: int64\n"
          ]
        }
      ],
      "source": [
        "print((pima[['Glucose', 'BloodPressure', 'SkinThickness', 'Insulin', 'BMI']] == 0).sum())"
      ]
    },
    {
      "cell_type": "markdown",
      "metadata": {
        "id": "XzonkDyQWbAz"
      },
      "source": [
        "Since 0 is a valid entry in `Pregnancies` and `Outcome`, we mark the missing values as NaN (not a number). This is the default for missing values for the sklearn imputation routines. Marking the values as NaN gives the same number of missing entries as previously."
      ]
    },
    {
      "cell_type": "code",
      "execution_count": null,
      "metadata": {
        "id": "PKbTo4fRWbAz",
        "outputId": "83e5b06b-e6ed-43f9-f0f4-9d97c2368436"
      },
      "outputs": [
        {
          "name": "stdout",
          "output_type": "stream",
          "text": [
            "Pregnancies                   0\n",
            "Glucose                       5\n",
            "BloodPressure                35\n",
            "SkinThickness               227\n",
            "Insulin                     374\n",
            "BMI                          11\n",
            "DiabetesPedigreeFunction      0\n",
            "Age                           0\n",
            "Outcome                       0\n",
            "dtype: int64\n"
          ]
        }
      ],
      "source": [
        "pima[['Glucose', 'BloodPressure', 'SkinThickness', 'Insulin', 'BMI']] = \\\n",
        "    pima[['Glucose', 'BloodPressure', 'SkinThickness', 'Insulin', 'BMI']].replace(0, np.NaN)\n",
        "print(pima.isnull().sum())"
      ]
    },
    {
      "cell_type": "markdown",
      "metadata": {
        "id": "jCeae5jXWbA0"
      },
      "source": [
        "## Preliminary analysis"
      ]
    },
    {
      "cell_type": "markdown",
      "metadata": {
        "id": "TxkF0iMEWbA0"
      },
      "source": [
        "We now set up a simple random forest model to investigate the effect of a selection of different imputation methods on the accuracy, precision, recall and feature importance. Here the recall is the most significant metric, as we want to minimize false negatives (has diabetes, but not predicted). The function below creates a random forest model for the diabetes data, prints the metrics and feature importance in descending order."
      ]
    },
    {
      "cell_type": "code",
      "execution_count": null,
      "metadata": {
        "id": "ns0fJBVYWbA1"
      },
      "outputs": [],
      "source": [
        "from sklearn.ensemble import RandomForestClassifier\n",
        "from sklearn.model_selection import train_test_split\n",
        "from sklearn.metrics import accuracy_score, precision_score, recall_score\n",
        "\n",
        "def rf_model(pimadf):\n",
        "    Xf = pimadf.drop(columns=['Outcome'])\n",
        "    Yf = np.ravel(pimadf[['Outcome']])\n",
        "\n",
        "    X_train, X_test, Y_train, Y_test = train_test_split(Xf, Yf, test_size=0.2, random_state=0)\n",
        "    rfc = RandomForestClassifier(random_state=0)\n",
        "    rfc.fit(X_train, Y_train) # fit the data to the model\n",
        "    Y_pred = rfc.predict(X_test)\n",
        "    acc = accuracy_score(Y_test,Y_pred)\n",
        "    prec = precision_score(Y_test,Y_pred)\n",
        "    rec = recall_score(Y_test,Y_pred)\n",
        "    print(\"\\n\")\n",
        "    print(\"Testing scores are: accuracy {0:5.3f}, precision {1:5.3f}, recall {2:5.3f}\" .format(acc,prec,rec))\n",
        "\n",
        "    feature_importances = pd.DataFrame(rfc.feature_importances_,\n",
        "                                   index = X_train.columns,\n",
        "                                    columns=['Importance']).sort_values('Importance', ascending=False)\n",
        "    print(\"\\n\")\n",
        "    print(feature_importances)\n"
      ]
    },
    {
      "cell_type": "markdown",
      "metadata": {
        "id": "MXsirczkWbA1"
      },
      "source": [
        "The first example is to drop all rows which have a missing value. This results in approximately half of the dataset being dropped. For this data one of the most important features is `Insulin`, which is the feature with the most missing values."
      ]
    },
    {
      "cell_type": "code",
      "execution_count": null,
      "metadata": {
        "id": "rNR12wucWbA2",
        "outputId": "68107990-8901-43aa-e681-d49e05e2f261"
      },
      "outputs": [
        {
          "name": "stdout",
          "output_type": "stream",
          "text": [
            "Dropping rows\n",
            "\n",
            "\n",
            "Shape of array (392, 9)\n",
            "Shape of original array (768, 9)\n",
            "\n",
            "\n",
            "Testing scores are: accuracy 0.785, precision 0.682, recall 0.600\n",
            "\n",
            "\n",
            "                          Importance\n",
            "Glucose                     0.249054\n",
            "Insulin                     0.149633\n",
            "Age                         0.141292\n",
            "BMI                         0.118842\n",
            "DiabetesPedigreeFunction    0.113555\n",
            "SkinThickness               0.081439\n",
            "BloodPressure               0.075061\n",
            "Pregnancies                 0.071124\n"
          ]
        }
      ],
      "source": [
        "pima_drop = pima.copy()\n",
        "pima_drop.dropna(inplace=True)\n",
        "print('Dropping rows')\n",
        "print(\"\\n\")\n",
        "print('Shape of array',pima_drop.shape)\n",
        "print('Shape of original array',pima.shape)\n",
        "\n",
        "rf_model(pima_drop)"
      ]
    },
    {
      "cell_type": "markdown",
      "metadata": {
        "id": "x1iarstoWbA2"
      },
      "source": [
        "For reference we can plot the distribution of `Insulin` and `SkinThickness` to investigate how different imputation methods affect this. For the other features with missing values the distributions will not be significantly affected, and the exact imputation method probably is not critical to the model."
      ]
    },
    {
      "cell_type": "code",
      "execution_count": null,
      "metadata": {
        "id": "Vu-FDMtCWbA3",
        "outputId": "2b8538b0-9053-4625-931a-ea99a0d0e04c"
      },
      "outputs": [
        {
          "data": {
            "image/png": "[encoded data removed]",
            "text/plain": [
              "<Figure size 720x288 with 2 Axes>"
            ]
          },
          "metadata": {
            "needs_background": "light"
          },
          "output_type": "display_data"
        }
      ],
      "source": [
        "fig, axes = plt.subplots(1, 2, figsize=(10,4))\n",
        "\n",
        "sns.histplot(pima_drop, x=\"Insulin\", stat=\"density\", ax = axes[0])\n",
        "sns.histplot(pima_drop, x=\"SkinThickness\", stat=\"density\", ax = axes[1])\n",
        "axes[1].set_xlim(0,100)\n",
        "axes[1].set_ylim(0,0.06);"
      ]
    },
    {
      "cell_type": "markdown",
      "metadata": {
        "id": "jtEHSbQmWbA4"
      },
      "source": [
        "Replacing the missing values with the mean or the median now results in an increase of all the metrics of the model, and the feature importance of `SkinThickness` and `Insulin` being ranked very low. This is understandable, as replacing the missing values with a constant results in the reduction of the variance of the feature."
      ]
    },
    {
      "cell_type": "code",
      "execution_count": null,
      "metadata": {
        "id": "FMvM-tjUWbA5",
        "outputId": "d5e6f402-46aa-4429-8749-16b7819dfd4c"
      },
      "outputs": [
        {
          "name": "stdout",
          "output_type": "stream",
          "text": [
            "Imputation using mean\n",
            "\n",
            "\n",
            "Testing scores are: accuracy 0.805, precision 0.689, recall 0.660\n",
            "\n",
            "\n",
            "                          Importance\n",
            "Glucose                     0.247231\n",
            "BMI                         0.156630\n",
            "Age                         0.145328\n",
            "DiabetesPedigreeFunction    0.127873\n",
            "Insulin                     0.086596\n",
            "BloodPressure               0.084816\n",
            "Pregnancies                 0.080150\n",
            "SkinThickness               0.071375\n"
          ]
        }
      ],
      "source": [
        "pima_mean = pima.copy()\n",
        "pima_mean.fillna(pima_mean.mean(), inplace=True)\n",
        "\n",
        "print('Imputation using mean')\n",
        "rf_model(pima_mean)"
      ]
    },
    {
      "cell_type": "code",
      "execution_count": null,
      "metadata": {
        "id": "wH3364O3WbA6",
        "outputId": "af94dd66-1774-4f77-ab6c-b7107eff3e4c"
      },
      "outputs": [
        {
          "name": "stdout",
          "output_type": "stream",
          "text": [
            "Imputation using median\n",
            "\n",
            "\n",
            "Testing scores are: accuracy 0.812, precision 0.696, recall 0.681\n",
            "\n",
            "\n",
            "                          Importance\n",
            "Glucose                     0.247677\n",
            "BMI                         0.159408\n",
            "Age                         0.144171\n",
            "DiabetesPedigreeFunction    0.128357\n",
            "Insulin                     0.085797\n",
            "BloodPressure               0.084323\n",
            "Pregnancies                 0.078018\n",
            "SkinThickness               0.072250\n"
          ]
        }
      ],
      "source": [
        "pima_median = pima.copy()\n",
        "pima_median.fillna(pima_mean.median(), inplace=True)\n",
        "\n",
        "print('Imputation using median')\n",
        "rf_model(pima_median)"
      ]
    },
    {
      "cell_type": "markdown",
      "metadata": {
        "id": "jw3oh5HoWbA6"
      },
      "source": [
        "This reduction in variance can be clearly seen by plotting the distributions of the mean and median datasets. For both, the plots are now dominated by a single peak."
      ]
    },
    {
      "cell_type": "code",
      "execution_count": null,
      "metadata": {
        "id": "ek4KX3fBWbA7",
        "outputId": "fa2d781a-734d-4171-9f09-9ff1d3073219"
      },
      "outputs": [
        {
          "data": {
            "image/png": "[encoded data removed]",
            "text/plain": [
              "<Figure size 720x504 with 4 Axes>"
            ]
          },
          "metadata": {
            "needs_background": "light"
          },
          "output_type": "display_data"
        }
      ],
      "source": [
        "fig, axes = plt.subplots(2, 2, figsize=(10,7))\n",
        "\n",
        "sns.histplot(pima_mean, x=\"Insulin\", stat=\"density\", ax = axes[0,0])\n",
        "axes[0,0].set_xlabel('Insulin - Mean')\n",
        "sns.histplot(pima_median, x=\"Insulin\", stat=\"density\", ax = axes[1,0])\n",
        "axes[1,0].set_xlabel('Insulin - Median')\n",
        "sns.histplot(pima_mean, x=\"SkinThickness\", stat=\"density\", ax = axes[0,1])\n",
        "axes[0,1].set_xlabel('SkinThickness - Mean')\n",
        "sns.histplot(pima_median, x=\"SkinThickness\", stat=\"density\", ax = axes[1,1])\n",
        "axes[1,1].set_xlabel('SkinThickness - Median');"
      ]
    },
    {
      "cell_type": "markdown",
      "metadata": {
        "id": "2li-5mzxWbA7"
      },
      "source": [
        "The first machine learning imputer we consider is the k-Nearest Neighbours imputer. This iterates through all the missing values, treating each one as a label, and then finds the corresponding label of its k-Nearest Neighbours. This will be affected by the distance metric that is used, the number of neighbours and the order that the features are imputed. In this case we use the default values and 5 neighbours.\n",
        "\n",
        "The accuracy is slightly higher than for the dataset where we dropped the rows, and similar to using the mean and median. However, the ranking of features is more consistent with the original dataset, especially for `Insulin` and `SkinThickness`."
      ]
    },
    {
      "cell_type": "code",
      "execution_count": null,
      "metadata": {
        "id": "LD3du_y4WbA8",
        "outputId": "cf7d501d-de83-4013-b59d-5c2d51c7fffb"
      },
      "outputs": [
        {
          "name": "stdout",
          "output_type": "stream",
          "text": [
            "Imputation using k-Nearest Neighbours\n",
            "\n",
            "\n",
            "Testing scores are: accuracy 0.805, precision 0.698, recall 0.638\n",
            "\n",
            "\n",
            "                          Importance\n",
            "Glucose                     0.213634\n",
            "Insulin                     0.151706\n",
            "BMI                         0.145919\n",
            "Age                         0.131440\n",
            "DiabetesPedigreeFunction    0.113637\n",
            "SkinThickness               0.098912\n",
            "BloodPressure               0.072798\n",
            "Pregnancies                 0.071954\n"
          ]
        }
      ],
      "source": [
        "from sklearn.impute import KNNImputer\n",
        "\n",
        "pima_knnn = pima.copy()\n",
        "X = pima_knnn.iloc[:,0:8]\n",
        "Xm = X.mean()\n",
        "Xs = X.std()\n",
        "X = (X-X.mean())/X.std()\n",
        "Xt = KNNImputer(n_neighbors=5).fit_transform(X)\n",
        "pima_knnn.iloc[:,0:8] = Xt\n",
        "\n",
        "print('Imputation using k-Nearest Neighbours')\n",
        "pima_knnn.iloc[:,0:8] = Xs*pima_knnn.iloc[:,0:8]+Xm\n",
        "rf_model(pima_knnn)"
      ]
    },
    {
      "cell_type": "markdown",
      "metadata": {
        "id": "VF1NuoTWWbA9"
      },
      "source": [
        "The second method we consider is the sklearn `IterativeImputer`. This is an experimental addition to sklearn, so needs to be enabled as well as imported. As it is experimental, it may change in future versions.\n",
        "\n",
        "`IterativeImputer` works be marking the missing values, and then repeating the imputation process N times or until the data converges. Initially the missing values are set using a simple scheme, such as being replaced by the mean or median. Then on each iteration a machine learning algorithm is used as a regressor to update each column which is marked as having missing values. The non-missing values are used to train the model, and then the model is used to predict the missing values. Any regression technique could be used to predict the missing values. Common ones that are used are BayesianRidge, k-Nearest Neighbours and Random Forest Regression. Using this algorithm with Random Forest Regression is equivalent to the R routine `missForest`. The routine `KNNImputer` is equivalent to `IterativeImputer` with one iteration.\n",
        "\n",
        "In this example, we use the default algorithm, BayesianRidge. This gives that compared to the original dataset the accuracy and precision decreasel but the recall increases, however the feature importance is consistent with the original dataset and the results of `KNNImputer`."
      ]
    },
    {
      "cell_type": "code",
      "execution_count": null,
      "metadata": {
        "id": "3fZu403QWbA9",
        "outputId": "6ad2c5b2-d695-485b-f77b-e95427be41f2"
      },
      "outputs": [
        {
          "name": "stdout",
          "output_type": "stream",
          "text": [
            "Iterative imputation using Bayesian Ridge\n",
            "\n",
            "\n",
            "Testing scores are: accuracy 0.773, precision 0.630, recall 0.617\n",
            "\n",
            "\n",
            "                          Importance\n",
            "Glucose                     0.207493\n",
            "Insulin                     0.165304\n",
            "BMI                         0.139473\n",
            "Age                         0.126682\n",
            "DiabetesPedigreeFunction    0.112677\n",
            "SkinThickness               0.102626\n",
            "BloodPressure               0.074122\n",
            "Pregnancies                 0.071623\n"
          ]
        }
      ],
      "source": [
        "from sklearn.experimental import enable_iterative_imputer\n",
        "from sklearn.impute import IterativeImputer\n",
        "\n",
        "pima_ii = pima.copy()\n",
        "X = pima_ii.iloc[:,0:8]\n",
        "Xm = X.mean()\n",
        "Xs = X.std()\n",
        "X = (X-X.mean())/X.std()\n",
        "Xt = IterativeImputer(max_iter=20, random_state=0).fit_transform(X)\n",
        "pima_ii.iloc[:,0:8] = Xt\n",
        "\n",
        "print('Iterative imputation using Bayesian Ridge')\n",
        "pima_ii.iloc[:,0:8] = Xs*pima_ii.iloc[:,0:8]+Xm\n",
        "rf_model(pima_ii)"
      ]
    },
    {
      "cell_type": "markdown",
      "metadata": {
        "id": "Qgyy7f1XWbA-"
      },
      "source": [
        "Plotting the distributions shows that the `KNNImputer` and `IterativeImputer` gives similar results for `Insulin`, but that `IterativeImputer` seems to give a distribution which is more consistent with the original dataset for `SkinThickness`."
      ]
    },
    {
      "cell_type": "code",
      "execution_count": null,
      "metadata": {
        "id": "jFpHB8MFWbA-",
        "outputId": "8a638f2a-c130-4973-a2d4-68e4231f2ca8"
      },
      "outputs": [
        {
          "data": {
            "image/png": "[encoded data removed]",
            "text/plain": [
              "<Figure size 720x720 with 6 Axes>"
            ]
          },
          "metadata": {
            "needs_background": "light"
          },
          "output_type": "display_data"
        }
      ],
      "source": [
        "fig, axes = plt.subplots(3, 2, figsize=(10,10))\n",
        "\n",
        "sns.histplot(pima_drop, x=\"Insulin\", stat=\"density\", ax = axes[0,0])\n",
        "axes[0,0].set_xlabel('Insulin - Drop Rows')\n",
        "sns.histplot(pima_knnn, x=\"Insulin\", stat=\"density\", ax = axes[1,0])\n",
        "axes[1,0].set_xlabel('Insulin - kNN')\n",
        "sns.histplot(pima_ii, x=\"Insulin\", stat=\"density\", ax = axes[2,0])\n",
        "axes[2,0].set_xlabel('Insulin - Iterative Imputer')\n",
        "sns.histplot(pima_drop, x=\"SkinThickness\", stat=\"density\", ax = axes[0,1])\n",
        "axes[0,1].set_xlabel('SkinThickness - Drop Rows')\n",
        "axes[0,1].set_xlim(0,100)\n",
        "axes[0,1].set_ylim(0,0.06)\n",
        "sns.histplot(pima_knnn, x=\"SkinThickness\", stat=\"density\", ax = axes[1,1])\n",
        "axes[1,1].set_xlabel('SkinThickness - kNN')\n",
        "axes[1,1].set_xlim(0,100)\n",
        "axes[1,1].set_ylim(0,0.06)\n",
        "sns.histplot(pima_ii, x=\"SkinThickness\", stat=\"density\", ax = axes[2,1])\n",
        "axes[2,1].set_xlabel('SkinThickness - Iterative Imputer')\n",
        "axes[2,1].set_xlim(0,100)\n",
        "axes[2,1].set_ylim(0,0.06);\n"
      ]
    },
    {
      "cell_type": "markdown",
      "metadata": {
        "id": "RLPepJQEWbA_"
      },
      "source": [
        "## Cross-validation analysis"
      ]
    },
    {
      "cell_type": "markdown",
      "metadata": {
        "id": "1XJmOmVJWbA_"
      },
      "source": [
        "For all the examples so far we have only considered one realisation of the Random Forest Regressor. To understand the effectiveness of the various imputation algorithms we need to combine this with cross validation. The following code considers the variation of the recall using Logistic Regression for the imputation strategies:\n",
        "* Drop rows with missing values.\n",
        "* Simple imputation using the mean.\n",
        "* Simple imputation using the median.\n",
        "* k-Nearest Neighbours imputation.\n",
        "* Iterative imputation using:\n",
        "    * BayesianRidge,\n",
        "    * DecisionTreeRegressor,\n",
        "    * RandomForestRegressor,\n",
        "    * k-Nearest Neighbours Regression.\n",
        "    \n",
        "The individual scores for each run are stored in a dataframe, for which we can finally investigate the descriptive statistics."
      ]
    },
    {
      "cell_type": "code",
      "execution_count": null,
      "metadata": {
        "id": "BWxa7VAYWbBA"
      },
      "outputs": [],
      "source": [
        "from sklearn.model_selection import cross_val_score\n",
        "from sklearn.linear_model import LogisticRegression\n",
        "from sklearn.model_selection import RepeatedKFold\n",
        "\n",
        "N_SPLITS = RepeatedKFold(n_splits=5, n_repeats=3, random_state=1)\n",
        "classifier = LogisticRegression(solver='newton-cg', C=1.e3)\n",
        "score = 'recall'\n",
        "\n",
        "X_full = pima_drop.drop(columns=['Outcome'])\n",
        "Y_full = np.ravel(pima_drop[['Outcome']])\n",
        "\n",
        "score_drop = pd.DataFrame(\n",
        "    cross_val_score(\n",
        "        classifier, X_full, Y_full, scoring=score, cv=N_SPLITS\n",
        "    ),\n",
        "    columns=['Drop Data']\n",
        ")"
      ]
    },
    {
      "cell_type": "code",
      "execution_count": null,
      "metadata": {
        "id": "m-JN1-YfWbBA"
      },
      "outputs": [],
      "source": [
        "from sklearn.impute import SimpleImputer\n",
        "from sklearn.pipeline import make_pipeline\n",
        "\n",
        "# Estimate the score after imputation (mean and median strategies)\n",
        "X_missing = pima.drop(columns=['Outcome'])\n",
        "Y_missing = np.ravel(pima[['Outcome']])\n",
        "\n",
        "score_simple_imputer = pd.DataFrame()\n",
        "for strategy in ('mean', 'median'):\n",
        "    estimator = make_pipeline(\n",
        "        SimpleImputer(missing_values=np.nan, strategy=strategy),\n",
        "        classifier\n",
        "    )\n",
        "    score_simple_imputer[strategy] = cross_val_score(\n",
        "        estimator, X_missing, Y_missing, scoring=score, cv=N_SPLITS\n",
        "    )\n"
      ]
    },
    {
      "cell_type": "code",
      "execution_count": null,
      "metadata": {
        "id": "gzFU7Q54WbBA"
      },
      "outputs": [],
      "source": [
        "from sklearn.impute import KNNImputer\n",
        "\n",
        "score_knn_imputer = pd.DataFrame()\n",
        "estimator = make_pipeline(\n",
        "    KNNImputer(n_neighbors=15),\n",
        "    classifier\n",
        ")\n",
        "score_knn_imputer['KNeighborsRegressor'] = cross_val_score(\n",
        "        estimator, X_missing, Y_missing, scoring=score, cv=N_SPLITS\n",
        ")\n"
      ]
    },
    {
      "cell_type": "code",
      "execution_count": null,
      "metadata": {
        "id": "gjqiBOd6WbBB"
      },
      "outputs": [],
      "source": [
        "from sklearn.linear_model import BayesianRidge\n",
        "from sklearn.tree import DecisionTreeRegressor\n",
        "from sklearn.ensemble import RandomForestRegressor\n",
        "from sklearn.neighbors import KNeighborsRegressor\n",
        "\n",
        "estimators = [\n",
        "    BayesianRidge(),\n",
        "    DecisionTreeRegressor(random_state=0),\n",
        "    RandomForestRegressor(random_state=0),\n",
        "    KNeighborsRegressor(n_neighbors=15)\n",
        "]\n",
        "score_iterative_imputer = pd.DataFrame()\n",
        "for impute_estimator in estimators:\n",
        "    estimator = make_pipeline(\n",
        "        IterativeImputer(random_state=0, estimator=impute_estimator, max_iter=10),\n",
        "        classifier\n",
        "    )\n",
        "    score_iterative_imputer[impute_estimator.__class__.__name__] = \\\n",
        "        cross_val_score(\n",
        "            estimator, X_missing, Y_missing, scoring=score, cv=N_SPLITS\n",
        "        )\n"
      ]
    },
    {
      "cell_type": "markdown",
      "metadata": {
        "id": "ewz-tyBNWbBD"
      },
      "source": [
        "We can now investigate the descriptive statistics for each imputation method in tabular and graphical format. The green dots in the figure represent the mean values for each method.\n",
        "\n",
        "The first thing to note is that by using imputation with the full dataset, the variance of the model has been reduced significantly, which suggests that the `Drop Data` model suffers from overfitting. This is consistent with the fact that one way to reduce overfitting is to increase the amount of data. In general, as the complexity of the imputer is increased the accuracy also increases, though the result is dependent on the underlying strategy.\n",
        "\n",
        "For this example, the best methods, i.e., those with the highest mean and lowest variance, for imputation seem to:\n",
        "* kNN imputer.\n",
        "* Iterative imputation using BayesianRidge.\n",
        "    \n",
        "As with all modelling, the final strategy for imputation depends on the model that you use, and should be decided on after extensive initial testing."
      ]
    },
    {
      "cell_type": "code",
      "execution_count": null,
      "metadata": {
        "id": "nDnVP3AiWbBE",
        "outputId": "01f81f08-3a7b-4e69-d124-f2e1d36cb5ae"
      },
      "outputs": [
        {
          "data": {
            "text/html": [
              "<div>\n",
              "<style scoped>\n",
              "    .dataframe tbody tr th:only-of-type {\n",
              "        vertical-align: middle;\n",
              "    }\n",
              "\n",
              "    .dataframe tbody tr th {\n",
              "        vertical-align: top;\n",
              "    }\n",
              "\n",
              "    .dataframe thead tr th {\n",
              "        text-align: left;\n",
              "    }\n",
              "</style>\n",
              "<table border=\"1\" class=\"dataframe\">\n",
              "  <thead>\n",
              "    <tr>\n",
              "      <th></th>\n",
              "      <th>Original</th>\n",
              "      <th colspan=\"2\" halign=\"left\">SimpleImputer</th>\n",
              "      <th>KNN</th>\n",
              "      <th colspan=\"4\" halign=\"left\">IterativeImputer</th>\n",
              "    </tr>\n",
              "    <tr>\n",
              "      <th></th>\n",
              "      <th>Drop Data</th>\n",
              "      <th>mean</th>\n",
              "      <th>median</th>\n",
              "      <th>KNeighborsRegressor</th>\n",
              "      <th>BayesianRidge</th>\n",
              "      <th>DecisionTreeRegressor</th>\n",
              "      <th>RandomForestRegressor</th>\n",
              "      <th>KNeighborsRegressor</th>\n",
              "    </tr>\n",
              "  </thead>\n",
              "  <tbody>\n",
              "    <tr>\n",
              "      <th>count</th>\n",
              "      <td>15.000000</td>\n",
              "      <td>15.000000</td>\n",
              "      <td>15.000000</td>\n",
              "      <td>15.000000</td>\n",
              "      <td>15.000000</td>\n",
              "      <td>15.000000</td>\n",
              "      <td>15.000000</td>\n",
              "      <td>15.000000</td>\n",
              "    </tr>\n",
              "    <tr>\n",
              "      <th>mean</th>\n",
              "      <td>0.565916</td>\n",
              "      <td>0.566538</td>\n",
              "      <td>0.563049</td>\n",
              "      <td>0.572443</td>\n",
              "      <td>0.572867</td>\n",
              "      <td>0.563987</td>\n",
              "      <td>0.568799</td>\n",
              "      <td>0.564798</td>\n",
              "    </tr>\n",
              "    <tr>\n",
              "      <th>std</th>\n",
              "      <td>0.118522</td>\n",
              "      <td>0.039510</td>\n",
              "      <td>0.040579</td>\n",
              "      <td>0.039469</td>\n",
              "      <td>0.041718</td>\n",
              "      <td>0.046145</td>\n",
              "      <td>0.037146</td>\n",
              "      <td>0.037866</td>\n",
              "    </tr>\n",
              "    <tr>\n",
              "      <th>min</th>\n",
              "      <td>0.315789</td>\n",
              "      <td>0.517857</td>\n",
              "      <td>0.500000</td>\n",
              "      <td>0.518519</td>\n",
              "      <td>0.518519</td>\n",
              "      <td>0.500000</td>\n",
              "      <td>0.517857</td>\n",
              "      <td>0.519231</td>\n",
              "    </tr>\n",
              "    <tr>\n",
              "      <th>25%</th>\n",
              "      <td>0.524194</td>\n",
              "      <td>0.542816</td>\n",
              "      <td>0.543426</td>\n",
              "      <td>0.542816</td>\n",
              "      <td>0.542816</td>\n",
              "      <td>0.539072</td>\n",
              "      <td>0.550181</td>\n",
              "      <td>0.544029</td>\n",
              "    </tr>\n",
              "    <tr>\n",
              "      <th>50%</th>\n",
              "      <td>0.600000</td>\n",
              "      <td>0.563636</td>\n",
              "      <td>0.553846</td>\n",
              "      <td>0.571429</td>\n",
              "      <td>0.571429</td>\n",
              "      <td>0.551020</td>\n",
              "      <td>0.563636</td>\n",
              "      <td>0.555556</td>\n",
              "    </tr>\n",
              "    <tr>\n",
              "      <th>75%</th>\n",
              "      <td>0.624339</td>\n",
              "      <td>0.581877</td>\n",
              "      <td>0.572948</td>\n",
              "      <td>0.588761</td>\n",
              "      <td>0.594831</td>\n",
              "      <td>0.581877</td>\n",
              "      <td>0.583591</td>\n",
              "      <td>0.578143</td>\n",
              "    </tr>\n",
              "    <tr>\n",
              "      <th>max</th>\n",
              "      <td>0.760000</td>\n",
              "      <td>0.674419</td>\n",
              "      <td>0.674419</td>\n",
              "      <td>0.674419</td>\n",
              "      <td>0.674419</td>\n",
              "      <td>0.674419</td>\n",
              "      <td>0.674419</td>\n",
              "      <td>0.674419</td>\n",
              "    </tr>\n",
              "  </tbody>\n",
              "</table>\n",
              "</div>"
            ],
            "text/plain": [
              "        Original SimpleImputer                            KNN  \\\n",
              "       Drop Data          mean     median KNeighborsRegressor   \n",
              "count  15.000000     15.000000  15.000000           15.000000   \n",
              "mean    0.565916      0.566538   0.563049            0.572443   \n",
              "std     0.118522      0.039510   0.040579            0.039469   \n",
              "min     0.315789      0.517857   0.500000            0.518519   \n",
              "25%     0.524194      0.542816   0.543426            0.542816   \n",
              "50%     0.600000      0.563636   0.553846            0.571429   \n",
              "75%     0.624339      0.581877   0.572948            0.588761   \n",
              "max     0.760000      0.674419   0.674419            0.674419   \n",
              "\n",
              "      IterativeImputer                                              \\\n",
              "         BayesianRidge DecisionTreeRegressor RandomForestRegressor   \n",
              "count        15.000000             15.000000             15.000000   \n",
              "mean          0.572867              0.563987              0.568799   \n",
              "std           0.041718              0.046145              0.037146   \n",
              "min           0.518519              0.500000              0.517857   \n",
              "25%           0.542816              0.539072              0.550181   \n",
              "50%           0.571429              0.551020              0.563636   \n",
              "75%           0.594831              0.581877              0.583591   \n",
              "max           0.674419              0.674419              0.674419   \n",
              "\n",
              "                           \n",
              "      KNeighborsRegressor  \n",
              "count           15.000000  \n",
              "mean             0.564798  \n",
              "std              0.037866  \n",
              "min              0.519231  \n",
              "25%              0.544029  \n",
              "50%              0.555556  \n",
              "75%              0.578143  \n",
              "max              0.674419  "
            ]
          },
          "execution_count": 37,
          "metadata": {},
          "output_type": "execute_result"
        }
      ],
      "source": [
        "scores = pd.concat(\n",
        "    [score_drop, score_simple_imputer, score_knn_imputer, score_iterative_imputer],\n",
        "    keys=['Original', 'SimpleImputer', 'KNN', 'IterativeImputer'], axis=1\n",
        ")\n",
        "\n",
        "scores.describe()"
      ]
    },
    {
      "cell_type": "code",
      "execution_count": null,
      "metadata": {
        "id": "mX8iZNOfWbBF",
        "outputId": "923135c1-2624-4258-e3d2-49041dbba164"
      },
      "outputs": [
        {
          "data": {
            "image/png": "[encoded data removed]",
            "text/plain": [
              "<Figure size 936x432 with 1 Axes>"
            ]
          },
          "metadata": {
            "needs_background": "light"
          },
          "output_type": "display_data"
        }
      ],
      "source": [
        "# plot results\n",
        "fig, ax = plt.subplots(figsize=(13, 6))\n",
        "scores.plot.box(showmeans=True, vert=False, ax=ax)\n",
        "ax.set_title('Pima Indian Diabetes Classification with Different Imputation Methods')\n",
        "ax.set_xlabel('Accuracy (larger is better)')\n",
        "plt.show()"
      ]
    },
    {
      "cell_type": "markdown",
      "metadata": {
        "id": "ZuFIZahEWbBG"
      },
      "source": [
        "## Exercises"
      ]
    },
    {
      "cell_type": "markdown",
      "metadata": {
        "id": "ls0ciAPgWbBG"
      },
      "source": [
        "For the exercises we will use the [Abalone Dataset](https://archive.ics.uci.edu/ml/datasets/Abalone), which can be downloaded from [Monash Gitlab](https://gitlab.erc.monash.edu.au/bads/data-challenges-resources/-/tree/main/Machine-Learning/Imputation/abalone.csv). This consists of physical measurements of abalones from the Tasmanian coast in the 1990s, in an effort to determine their age. Previously the age would need to be determined in the laboratory by counting the number of rings in the shell. Then $Age = Rings + 1.5$. This is a complete dataset, however we will randomly remove entries in two columns to perform imputation.\n",
        "\n",
        "First we load the dataset."
      ]
    },
    {
      "cell_type": "code",
      "execution_count": null,
      "metadata": {
        "id": "gZreUUCHWbBG",
        "outputId": "b20a4c83-65e5-41e7-a5eb-34056dbd9d29"
      },
      "outputs": [
        {
          "data": {
            "text/html": [
              "<div>\n",
              "<style scoped>\n",
              "    .dataframe tbody tr th:only-of-type {\n",
              "        vertical-align: middle;\n",
              "    }\n",
              "\n",
              "    .dataframe tbody tr th {\n",
              "        vertical-align: top;\n",
              "    }\n",
              "\n",
              "    .dataframe thead th {\n",
              "        text-align: right;\n",
              "    }\n",
              "</style>\n",
              "<table border=\"1\" class=\"dataframe\">\n",
              "  <thead>\n",
              "    <tr style=\"text-align: right;\">\n",
              "      <th></th>\n",
              "      <th>Sex</th>\n",
              "      <th>Length</th>\n",
              "      <th>Diameter</th>\n",
              "      <th>Height</th>\n",
              "      <th>Whole weight</th>\n",
              "      <th>Shucked weight</th>\n",
              "      <th>Viscera weight</th>\n",
              "      <th>Shell weight</th>\n",
              "      <th>Rings</th>\n",
              "    </tr>\n",
              "  </thead>\n",
              "  <tbody>\n",
              "    <tr>\n",
              "      <th>0</th>\n",
              "      <td>M</td>\n",
              "      <td>0.455</td>\n",
              "      <td>0.365</td>\n",
              "      <td>0.095</td>\n",
              "      <td>0.5140</td>\n",
              "      <td>0.2245</td>\n",
              "      <td>0.1010</td>\n",
              "      <td>0.150</td>\n",
              "      <td>15</td>\n",
              "    </tr>\n",
              "    <tr>\n",
              "      <th>1</th>\n",
              "      <td>M</td>\n",
              "      <td>0.350</td>\n",
              "      <td>0.265</td>\n",
              "      <td>0.090</td>\n",
              "      <td>0.2255</td>\n",
              "      <td>0.0995</td>\n",
              "      <td>0.0485</td>\n",
              "      <td>0.070</td>\n",
              "      <td>7</td>\n",
              "    </tr>\n",
              "    <tr>\n",
              "      <th>2</th>\n",
              "      <td>F</td>\n",
              "      <td>0.530</td>\n",
              "      <td>0.420</td>\n",
              "      <td>0.135</td>\n",
              "      <td>0.6770</td>\n",
              "      <td>0.2565</td>\n",
              "      <td>0.1415</td>\n",
              "      <td>0.210</td>\n",
              "      <td>9</td>\n",
              "    </tr>\n",
              "    <tr>\n",
              "      <th>3</th>\n",
              "      <td>M</td>\n",
              "      <td>0.440</td>\n",
              "      <td>0.365</td>\n",
              "      <td>0.125</td>\n",
              "      <td>0.5160</td>\n",
              "      <td>0.2155</td>\n",
              "      <td>0.1140</td>\n",
              "      <td>0.155</td>\n",
              "      <td>10</td>\n",
              "    </tr>\n",
              "    <tr>\n",
              "      <th>4</th>\n",
              "      <td>I</td>\n",
              "      <td>0.330</td>\n",
              "      <td>0.255</td>\n",
              "      <td>0.080</td>\n",
              "      <td>0.2050</td>\n",
              "      <td>0.0895</td>\n",
              "      <td>0.0395</td>\n",
              "      <td>0.055</td>\n",
              "      <td>7</td>\n",
              "    </tr>\n",
              "  </tbody>\n",
              "</table>\n",
              "</div>"
            ],
            "text/plain": [
              "  Sex  Length  Diameter  Height  Whole weight  Shucked weight  Viscera weight  \\\n",
              "0   M   0.455     0.365   0.095        0.5140          0.2245          0.1010   \n",
              "1   M   0.350     0.265   0.090        0.2255          0.0995          0.0485   \n",
              "2   F   0.530     0.420   0.135        0.6770          0.2565          0.1415   \n",
              "3   M   0.440     0.365   0.125        0.5160          0.2155          0.1140   \n",
              "4   I   0.330     0.255   0.080        0.2050          0.0895          0.0395   \n",
              "\n",
              "   Shell weight  Rings  \n",
              "0         0.150     15  \n",
              "1         0.070      7  \n",
              "2         0.210      9  \n",
              "3         0.155     10  \n",
              "4         0.055      7  "
            ]
          },
          "execution_count": 96,
          "metadata": {},
          "output_type": "execute_result"
        }
      ],
      "source": [
        "abalone = pd.read_csv(\"abalone.csv\")\n",
        "abalone.head()"
      ]
    },
    {
      "cell_type": "markdown",
      "metadata": {
        "id": "caKBzIgEWbBH"
      },
      "source": [
        "The `Sex` field has three categorical entries: Male (M), Female (F) and Infant (I). Se we need to one-hot encode these fields to create three binary columns."
      ]
    },
    {
      "cell_type": "code",
      "execution_count": null,
      "metadata": {
        "id": "l7NRZjj4WbBI",
        "outputId": "a1ff1957-32c4-4f5e-9cc9-76999b6d3a81"
      },
      "outputs": [
        {
          "data": {
            "text/html": [
              "<div>\n",
              "<style scoped>\n",
              "    .dataframe tbody tr th:only-of-type {\n",
              "        vertical-align: middle;\n",
              "    }\n",
              "\n",
              "    .dataframe tbody tr th {\n",
              "        vertical-align: top;\n",
              "    }\n",
              "\n",
              "    .dataframe thead th {\n",
              "        text-align: right;\n",
              "    }\n",
              "</style>\n",
              "<table border=\"1\" class=\"dataframe\">\n",
              "  <thead>\n",
              "    <tr style=\"text-align: right;\">\n",
              "      <th></th>\n",
              "      <th>Length</th>\n",
              "      <th>Diameter</th>\n",
              "      <th>Height</th>\n",
              "      <th>Whole weight</th>\n",
              "      <th>Shucked weight</th>\n",
              "      <th>Viscera weight</th>\n",
              "      <th>Shell weight</th>\n",
              "      <th>Rings</th>\n",
              "      <th>F</th>\n",
              "      <th>I</th>\n",
              "      <th>M</th>\n",
              "    </tr>\n",
              "  </thead>\n",
              "  <tbody>\n",
              "    <tr>\n",
              "      <th>0</th>\n",
              "      <td>0.455</td>\n",
              "      <td>0.365</td>\n",
              "      <td>0.095</td>\n",
              "      <td>0.5140</td>\n",
              "      <td>0.2245</td>\n",
              "      <td>0.1010</td>\n",
              "      <td>0.150</td>\n",
              "      <td>15</td>\n",
              "      <td>0</td>\n",
              "      <td>0</td>\n",
              "      <td>1</td>\n",
              "    </tr>\n",
              "    <tr>\n",
              "      <th>1</th>\n",
              "      <td>0.350</td>\n",
              "      <td>0.265</td>\n",
              "      <td>0.090</td>\n",
              "      <td>0.2255</td>\n",
              "      <td>0.0995</td>\n",
              "      <td>0.0485</td>\n",
              "      <td>0.070</td>\n",
              "      <td>7</td>\n",
              "      <td>0</td>\n",
              "      <td>0</td>\n",
              "      <td>1</td>\n",
              "    </tr>\n",
              "    <tr>\n",
              "      <th>2</th>\n",
              "      <td>0.530</td>\n",
              "      <td>0.420</td>\n",
              "      <td>0.135</td>\n",
              "      <td>0.6770</td>\n",
              "      <td>0.2565</td>\n",
              "      <td>0.1415</td>\n",
              "      <td>0.210</td>\n",
              "      <td>9</td>\n",
              "      <td>1</td>\n",
              "      <td>0</td>\n",
              "      <td>0</td>\n",
              "    </tr>\n",
              "    <tr>\n",
              "      <th>3</th>\n",
              "      <td>0.440</td>\n",
              "      <td>0.365</td>\n",
              "      <td>0.125</td>\n",
              "      <td>0.5160</td>\n",
              "      <td>0.2155</td>\n",
              "      <td>0.1140</td>\n",
              "      <td>0.155</td>\n",
              "      <td>10</td>\n",
              "      <td>0</td>\n",
              "      <td>0</td>\n",
              "      <td>1</td>\n",
              "    </tr>\n",
              "    <tr>\n",
              "      <th>4</th>\n",
              "      <td>0.330</td>\n",
              "      <td>0.255</td>\n",
              "      <td>0.080</td>\n",
              "      <td>0.2050</td>\n",
              "      <td>0.0895</td>\n",
              "      <td>0.0395</td>\n",
              "      <td>0.055</td>\n",
              "      <td>7</td>\n",
              "      <td>0</td>\n",
              "      <td>1</td>\n",
              "      <td>0</td>\n",
              "    </tr>\n",
              "  </tbody>\n",
              "</table>\n",
              "</div>"
            ],
            "text/plain": [
              "   Length  Diameter  Height  Whole weight  Shucked weight  Viscera weight  \\\n",
              "0   0.455     0.365   0.095        0.5140          0.2245          0.1010   \n",
              "1   0.350     0.265   0.090        0.2255          0.0995          0.0485   \n",
              "2   0.530     0.420   0.135        0.6770          0.2565          0.1415   \n",
              "3   0.440     0.365   0.125        0.5160          0.2155          0.1140   \n",
              "4   0.330     0.255   0.080        0.2050          0.0895          0.0395   \n",
              "\n",
              "   Shell weight  Rings  F  I  M  \n",
              "0         0.150     15  0  0  1  \n",
              "1         0.070      7  0  0  1  \n",
              "2         0.210      9  1  0  0  \n",
              "3         0.155     10  0  0  1  \n",
              "4         0.055      7  0  1  0  "
            ]
          },
          "execution_count": 97,
          "metadata": {},
          "output_type": "execute_result"
        }
      ],
      "source": [
        "dummy = pd.get_dummies(abalone['Sex'])\n",
        "abalone = pd.concat([abalone, dummy], axis=1)\n",
        "abalone.drop(columns=['Sex'], inplace=True)\n",
        "abalone.head()"
      ]
    },
    {
      "cell_type": "markdown",
      "metadata": {
        "id": "HdqB4j-CWbBJ"
      },
      "source": [
        "Last we create a features array (Xf) and a label array (Yf). Then we randomly remove 33% of the `Height` samples and 25% of the `Shell weight` samples from the features array."
      ]
    },
    {
      "cell_type": "code",
      "execution_count": null,
      "metadata": {
        "id": "kr_XBmMbWbBJ",
        "outputId": "f7218314-e083-470a-fbd5-e1b1d99f8c30"
      },
      "outputs": [
        {
          "data": {
            "text/html": [
              "<div>\n",
              "<style scoped>\n",
              "    .dataframe tbody tr th:only-of-type {\n",
              "        vertical-align: middle;\n",
              "    }\n",
              "\n",
              "    .dataframe tbody tr th {\n",
              "        vertical-align: top;\n",
              "    }\n",
              "\n",
              "    .dataframe thead th {\n",
              "        text-align: right;\n",
              "    }\n",
              "</style>\n",
              "<table border=\"1\" class=\"dataframe\">\n",
              "  <thead>\n",
              "    <tr style=\"text-align: right;\">\n",
              "      <th></th>\n",
              "      <th>Length</th>\n",
              "      <th>Diameter</th>\n",
              "      <th>Height</th>\n",
              "      <th>Whole weight</th>\n",
              "      <th>Shucked weight</th>\n",
              "      <th>Viscera weight</th>\n",
              "      <th>Shell weight</th>\n",
              "      <th>F</th>\n",
              "      <th>I</th>\n",
              "      <th>M</th>\n",
              "    </tr>\n",
              "  </thead>\n",
              "  <tbody>\n",
              "    <tr>\n",
              "      <th>count</th>\n",
              "      <td>4177.000000</td>\n",
              "      <td>4177.000000</td>\n",
              "      <td>2799.000000</td>\n",
              "      <td>4177.000000</td>\n",
              "      <td>4177.000000</td>\n",
              "      <td>4177.000000</td>\n",
              "      <td>3133.00000</td>\n",
              "      <td>4177.000000</td>\n",
              "      <td>4177.000000</td>\n",
              "      <td>4177.000000</td>\n",
              "    </tr>\n",
              "    <tr>\n",
              "      <th>mean</th>\n",
              "      <td>0.523992</td>\n",
              "      <td>0.407881</td>\n",
              "      <td>0.140143</td>\n",
              "      <td>0.828742</td>\n",
              "      <td>0.359367</td>\n",
              "      <td>0.180594</td>\n",
              "      <td>0.24140</td>\n",
              "      <td>0.312904</td>\n",
              "      <td>0.321283</td>\n",
              "      <td>0.365813</td>\n",
              "    </tr>\n",
              "    <tr>\n",
              "      <th>std</th>\n",
              "      <td>0.120093</td>\n",
              "      <td>0.099240</td>\n",
              "      <td>0.043434</td>\n",
              "      <td>0.490389</td>\n",
              "      <td>0.221963</td>\n",
              "      <td>0.109614</td>\n",
              "      <td>0.13895</td>\n",
              "      <td>0.463731</td>\n",
              "      <td>0.467025</td>\n",
              "      <td>0.481715</td>\n",
              "    </tr>\n",
              "    <tr>\n",
              "      <th>min</th>\n",
              "      <td>0.075000</td>\n",
              "      <td>0.055000</td>\n",
              "      <td>0.000000</td>\n",
              "      <td>0.002000</td>\n",
              "      <td>0.001000</td>\n",
              "      <td>0.000500</td>\n",
              "      <td>0.00300</td>\n",
              "      <td>0.000000</td>\n",
              "      <td>0.000000</td>\n",
              "      <td>0.000000</td>\n",
              "    </tr>\n",
              "    <tr>\n",
              "      <th>25%</th>\n",
              "      <td>0.450000</td>\n",
              "      <td>0.350000</td>\n",
              "      <td>0.115000</td>\n",
              "      <td>0.441500</td>\n",
              "      <td>0.186000</td>\n",
              "      <td>0.093500</td>\n",
              "      <td>0.13200</td>\n",
              "      <td>0.000000</td>\n",
              "      <td>0.000000</td>\n",
              "      <td>0.000000</td>\n",
              "    </tr>\n",
              "    <tr>\n",
              "      <th>50%</th>\n",
              "      <td>0.545000</td>\n",
              "      <td>0.425000</td>\n",
              "      <td>0.145000</td>\n",
              "      <td>0.799500</td>\n",
              "      <td>0.336000</td>\n",
              "      <td>0.171000</td>\n",
              "      <td>0.23500</td>\n",
              "      <td>0.000000</td>\n",
              "      <td>0.000000</td>\n",
              "      <td>0.000000</td>\n",
              "    </tr>\n",
              "    <tr>\n",
              "      <th>75%</th>\n",
              "      <td>0.615000</td>\n",
              "      <td>0.480000</td>\n",
              "      <td>0.165000</td>\n",
              "      <td>1.153000</td>\n",
              "      <td>0.502000</td>\n",
              "      <td>0.253000</td>\n",
              "      <td>0.33450</td>\n",
              "      <td>1.000000</td>\n",
              "      <td>1.000000</td>\n",
              "      <td>1.000000</td>\n",
              "    </tr>\n",
              "    <tr>\n",
              "      <th>max</th>\n",
              "      <td>0.815000</td>\n",
              "      <td>0.650000</td>\n",
              "      <td>1.130000</td>\n",
              "      <td>2.825500</td>\n",
              "      <td>1.488000</td>\n",
              "      <td>0.760000</td>\n",
              "      <td>0.88500</td>\n",
              "      <td>1.000000</td>\n",
              "      <td>1.000000</td>\n",
              "      <td>1.000000</td>\n",
              "    </tr>\n",
              "  </tbody>\n",
              "</table>\n",
              "</div>"
            ],
            "text/plain": [
              "            Length     Diameter       Height  Whole weight  Shucked weight  \\\n",
              "count  4177.000000  4177.000000  2799.000000   4177.000000     4177.000000   \n",
              "mean      0.523992     0.407881     0.140143      0.828742        0.359367   \n",
              "std       0.120093     0.099240     0.043434      0.490389        0.221963   \n",
              "min       0.075000     0.055000     0.000000      0.002000        0.001000   \n",
              "25%       0.450000     0.350000     0.115000      0.441500        0.186000   \n",
              "50%       0.545000     0.425000     0.145000      0.799500        0.336000   \n",
              "75%       0.615000     0.480000     0.165000      1.153000        0.502000   \n",
              "max       0.815000     0.650000     1.130000      2.825500        1.488000   \n",
              "\n",
              "       Viscera weight  Shell weight            F            I            M  \n",
              "count     4177.000000    3133.00000  4177.000000  4177.000000  4177.000000  \n",
              "mean         0.180594       0.24140     0.312904     0.321283     0.365813  \n",
              "std          0.109614       0.13895     0.463731     0.467025     0.481715  \n",
              "min          0.000500       0.00300     0.000000     0.000000     0.000000  \n",
              "25%          0.093500       0.13200     0.000000     0.000000     0.000000  \n",
              "50%          0.171000       0.23500     0.000000     0.000000     0.000000  \n",
              "75%          0.253000       0.33450     1.000000     1.000000     1.000000  \n",
              "max          0.760000       0.88500     1.000000     1.000000     1.000000  "
            ]
          },
          "execution_count": 98,
          "metadata": {},
          "output_type": "execute_result"
        }
      ],
      "source": [
        "Xf = abalone.drop(columns=['Rings'])\n",
        "Yf = abalone[['Rings']]\n",
        "\n",
        "X = Xf.copy()\n",
        "X['Height'] = X['Height'].sample(frac=0.67)\n",
        "X['Shell weight'] = X['Shell weight'].sample(frac=0.75)\n",
        "\n",
        "X.describe()"
      ]
    },
    {
      "cell_type": "markdown",
      "metadata": {
        "id": "zILR-QmAWbBK"
      },
      "source": [
        "### Exercise 1 (2 marks)"
      ]
    },
    {
      "cell_type": "markdown",
      "metadata": {
        "id": "y4N1l8Y-WbBL"
      },
      "source": [
        "Create a Random Forest Regressor model for the full dataset and determine the accuracy of this model. Use an 80:20 split for training and testing."
      ]
    },
    {
      "cell_type": "code",
      "execution_count": null,
      "metadata": {
        "id": "UfHspo5jWbBL"
      },
      "outputs": [],
      "source": [
        "from sklearn.metrics import r2_score\n",
        "\n",
        "Xf = abalone.drop(columns=['Rings'])\n",
        "Yf = abalone[['Rings']]\n",
        "\n",
        "X_train, X_test, Y_train, Y_test = train_test_split(Xf, Yf, test_size=0.2, random_state=0)\n",
        "rfr = RandomForestRegressor()\n",
        "rfr.fit(X_train, Y_train)\n",
        "Y_pred = rfr.predict(X_test)\n",
        "acc = r2_score(Y_test,Y_pred)\n",
        "print(\"Testing score is %5.2f\" % acc)"
      ]
    },
    {
      "cell_type": "markdown",
      "metadata": {
        "id": "EQtY0iVvWbBL"
      },
      "source": [
        "### Exercise 2 (3 marks)"
      ]
    },
    {
      "cell_type": "markdown",
      "metadata": {
        "id": "lTv2JCvWWbBM"
      },
      "source": [
        "Fill in the missing values of X using `IterativeImputer` with 10 iterations and using the `BayesianRidge` regressor. Calculate the accuracy of the Random Forest Regressor using this imputed dataset."
      ]
    },
    {
      "cell_type": "code",
      "execution_count": null,
      "metadata": {
        "id": "mamaDf0oWbBM"
      },
      "outputs": [],
      "source": [
        "Xt = IterativeImputer(random_state=0, max_iter=10).fit_transform(X)\n",
        "\n",
        "X_train, X_test, Y_train, Y_test = train_test_split(Xt, Yf, test_size=0.2, random_state=0)\n",
        "rfr = RandomForestRegressor()\n",
        "rfr.fit(X_train, Y_train)\n",
        "Y_pred = rfr.predict(X_test)\n",
        "acc = r2_score(Y_test,Y_pred)\n",
        "print(\"Testing score is %5.2f\" % acc)"
      ]
    },
    {
      "cell_type": "markdown",
      "metadata": {
        "id": "SqYJQ2XcWbBN"
      },
      "source": [
        "### Exercise 3 (5 marks)"
      ]
    },
    {
      "cell_type": "markdown",
      "metadata": {
        "id": "vFL3gsRRWbBO"
      },
      "source": [
        "Fill in the missing values of X using `IterativeImputer` with 10 iterations and using `KNeighborsRegressor` for 5, 10, 15 and 20 neighbours. Calculate the accuracy of the Random Forest Regressor using each of these imputed datasets."
      ]
    },
    {
      "cell_type": "code",
      "execution_count": null,
      "metadata": {
        "id": "bfZjUbVgWbBP"
      },
      "outputs": [],
      "source": [
        "for neighbours in (5, 10, 15, 20):\n",
        "    Xt = IterativeImputer(estimator=KNeighborsRegressor(n_neighbors=neighbours),\n",
        "                      random_state=0, max_iter=10).fit_transform(X)\n",
        "\n",
        "    X_train, X_test, Y_train, Y_test = train_test_split(Xt, Yf, test_size=0.2, random_state=0)\n",
        "    rfr = RandomForestRegressor()\n",
        "    rfr.fit(X_train, Y_train)\n",
        "    Y_pred = rfc.predict(X_test)\n",
        "    acc = r2_score(Y_test,Y_pred)\n",
        "    print(\"Neighbours\", neighbours)\n",
        "    print(\"Testing score is %5.2f\" % acc)"
      ]
    },
    {
      "cell_type": "markdown",
      "metadata": {
        "id": "ITkyOE_WWbBQ"
      },
      "source": [
        "### Generative AI Acknowledgement\n",
        "If you used generative AI to assist you with these excercises, document your use below following the guidelines here: https://www.monash.edu/learnhq/build-digital-capabilities/create-online/acknowledging-the-use-of-generative-artificial-intelligence"
      ]
    },
    {
      "cell_type": "markdown",
      "metadata": {
        "id": "rjAbqV8rWbBQ"
      },
      "source": []
    }
  ],
  "metadata": {
    "kernelspec": {
      "display_name": "Python 3 (ipykernel)",
      "language": "python",
      "name": "python3"
    },
    "language_info": {
      "codemirror_mode": {
        "name": "ipython",
        "version": 3
      },
      "file_extension": ".py",
      "mimetype": "text/x-python",
      "name": "python",
      "nbconvert_exporter": "python",
      "pygments_lexer": "ipython3",
      "version": "3.9.7"
    },
    "colab": {
      "provenance": [],
      "include_colab_link": true
    }
  },
  "nbformat": 4,
  "nbformat_minor": 0
}