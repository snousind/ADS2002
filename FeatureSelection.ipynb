{
  "cells": [
    {
      "cell_type": "markdown",
      "metadata": {
        "id": "view-in-github",
        "colab_type": "text"
      },
      "source": [
        "<a href=\"https://colab.research.google.com/github/snousind/ADS2002/blob/main/FeatureSelection.ipynb\" target=\"_parent\"><img src=\"https://colab.research.google.com/assets/colab-badge.svg\" alt=\"Open In Colab\"/></a>"
      ]
    },
    {
      "cell_type": "markdown",
      "metadata": {
        "id": "7xQXRjRg1fG1"
      },
      "source": [
        "# Feature Selection"
      ]
    },
    {
      "cell_type": "markdown",
      "metadata": {
        "id": "y38GdwsH1fG4"
      },
      "source": [
        "For large datasets, feature selection, where we try to choose the best features to fit our models to, is an important preprocessing step. The benefits of this are reducing data storage requirements, reducing calculation times for fitting, and improving the robustness of the model. We have previously investigated embedded methods such as Lasso or Ridge regularization for linear and logistic regression and SVM models which implicitly do this. Here we will investigate some basic techniques using the scikit-learn library which enable us to undertake feature selection. These methods fall into the categories of filter and wrapper methods. For filter methods the filtering is done as a preprocessing step and is independent of the final model we create. Whereas for wrapper methods we require a machine learning algorithm and use the metrics of that model to guide the feature selection.\n",
        "\n",
        "To investigate these basic feature selection methods we will use the Wisconsin Breast Cancer dataset which you will need to download from [Monash Gitlab](https://gitlab.erc.monash.edu.au/bads/data-challenges-resources/-/blob/main/Machine-Learning/Supervised-Methods/kaggle-wisconsin-cancer.csv) or [Kaggle](https://www.kaggle.com/uciml/breast-cancer-wisconsin-data). This datasets records 30 physical features of digitized images of cells, and classifies them as benign (B) or malignant (M).\n",
        "\n"
      ]
    },
    {
      "cell_type": "markdown",
      "metadata": {
        "id": "ifbQ0Bvv1fG5"
      },
      "source": [
        "## Contents"
      ]
    },
    {
      "cell_type": "markdown",
      "metadata": {
        "id": "K60ionBB1fG6"
      },
      "source": [
        "* Inputs\n",
        "* Multicollinearity\n",
        "* Variance threshold\n",
        "* SelectKBest\n",
        "* Select from model\n",
        "* Recursive feature elimination\n",
        "* Sequential feature selection"
      ]
    },
    {
      "cell_type": "markdown",
      "metadata": {
        "id": "mkcKteXH1fG6"
      },
      "source": [
        "## Inputs"
      ]
    },
    {
      "cell_type": "markdown",
      "metadata": {
        "id": "cuZt5nlN1fG7"
      },
      "source": [
        "We first import the standard libraries."
      ]
    },
    {
      "cell_type": "code",
      "execution_count": null,
      "metadata": {
        "id": "I6ChjWRM1fG7"
      },
      "outputs": [],
      "source": [
        "import pandas as pd\n",
        "import numpy as np\n",
        "from matplotlib import pyplot as plt\n",
        "import seaborn as sns"
      ]
    },
    {
      "cell_type": "markdown",
      "metadata": {
        "id": "dUtgblDy1fG8"
      },
      "source": [
        "Read in the csv file to a pandas dataframe and show the descriptive statistics."
      ]
    },
    {
      "cell_type": "code",
      "execution_count": null,
      "metadata": {
        "id": "zUWt3Ox_1fG8",
        "outputId": "cf1498e3-93ad-44e1-d621-247ae1445d74"
      },
      "outputs": [
        {
          "data": {
            "text/html": [
              "<div>\n",
              "<style scoped>\n",
              "    .dataframe tbody tr th:only-of-type {\n",
              "        vertical-align: middle;\n",
              "    }\n",
              "\n",
              "    .dataframe tbody tr th {\n",
              "        vertical-align: top;\n",
              "    }\n",
              "\n",
              "    .dataframe thead th {\n",
              "        text-align: right;\n",
              "    }\n",
              "</style>\n",
              "<table border=\"1\" class=\"dataframe\">\n",
              "  <thead>\n",
              "    <tr style=\"text-align: right;\">\n",
              "      <th></th>\n",
              "      <th>id</th>\n",
              "      <th>radius_mean</th>\n",
              "      <th>texture_mean</th>\n",
              "      <th>perimeter_mean</th>\n",
              "      <th>area_mean</th>\n",
              "      <th>smoothness_mean</th>\n",
              "      <th>compactness_mean</th>\n",
              "      <th>concavity_mean</th>\n",
              "      <th>concave points_mean</th>\n",
              "      <th>symmetry_mean</th>\n",
              "      <th>...</th>\n",
              "      <th>texture_worst</th>\n",
              "      <th>perimeter_worst</th>\n",
              "      <th>area_worst</th>\n",
              "      <th>smoothness_worst</th>\n",
              "      <th>compactness_worst</th>\n",
              "      <th>concavity_worst</th>\n",
              "      <th>concave points_worst</th>\n",
              "      <th>symmetry_worst</th>\n",
              "      <th>fractal_dimension_worst</th>\n",
              "      <th>Unnamed: 32</th>\n",
              "    </tr>\n",
              "  </thead>\n",
              "  <tbody>\n",
              "    <tr>\n",
              "      <th>count</th>\n",
              "      <td>5.690000e+02</td>\n",
              "      <td>569.000000</td>\n",
              "      <td>569.000000</td>\n",
              "      <td>569.000000</td>\n",
              "      <td>569.000000</td>\n",
              "      <td>569.000000</td>\n",
              "      <td>569.000000</td>\n",
              "      <td>569.000000</td>\n",
              "      <td>569.000000</td>\n",
              "      <td>569.000000</td>\n",
              "      <td>...</td>\n",
              "      <td>569.000000</td>\n",
              "      <td>569.000000</td>\n",
              "      <td>569.000000</td>\n",
              "      <td>569.000000</td>\n",
              "      <td>569.000000</td>\n",
              "      <td>569.000000</td>\n",
              "      <td>569.000000</td>\n",
              "      <td>569.000000</td>\n",
              "      <td>569.000000</td>\n",
              "      <td>0.0</td>\n",
              "    </tr>\n",
              "    <tr>\n",
              "      <th>mean</th>\n",
              "      <td>3.037183e+07</td>\n",
              "      <td>14.127292</td>\n",
              "      <td>19.289649</td>\n",
              "      <td>91.969033</td>\n",
              "      <td>654.889104</td>\n",
              "      <td>0.096360</td>\n",
              "      <td>0.104341</td>\n",
              "      <td>0.088799</td>\n",
              "      <td>0.048919</td>\n",
              "      <td>0.181162</td>\n",
              "      <td>...</td>\n",
              "      <td>25.677223</td>\n",
              "      <td>107.261213</td>\n",
              "      <td>880.583128</td>\n",
              "      <td>0.132369</td>\n",
              "      <td>0.254265</td>\n",
              "      <td>0.272188</td>\n",
              "      <td>0.114606</td>\n",
              "      <td>0.290076</td>\n",
              "      <td>0.083946</td>\n",
              "      <td>NaN</td>\n",
              "    </tr>\n",
              "    <tr>\n",
              "      <th>std</th>\n",
              "      <td>1.250206e+08</td>\n",
              "      <td>3.524049</td>\n",
              "      <td>4.301036</td>\n",
              "      <td>24.298981</td>\n",
              "      <td>351.914129</td>\n",
              "      <td>0.014064</td>\n",
              "      <td>0.052813</td>\n",
              "      <td>0.079720</td>\n",
              "      <td>0.038803</td>\n",
              "      <td>0.027414</td>\n",
              "      <td>...</td>\n",
              "      <td>6.146258</td>\n",
              "      <td>33.602542</td>\n",
              "      <td>569.356993</td>\n",
              "      <td>0.022832</td>\n",
              "      <td>0.157336</td>\n",
              "      <td>0.208624</td>\n",
              "      <td>0.065732</td>\n",
              "      <td>0.061867</td>\n",
              "      <td>0.018061</td>\n",
              "      <td>NaN</td>\n",
              "    </tr>\n",
              "    <tr>\n",
              "      <th>min</th>\n",
              "      <td>8.670000e+03</td>\n",
              "      <td>6.981000</td>\n",
              "      <td>9.710000</td>\n",
              "      <td>43.790000</td>\n",
              "      <td>143.500000</td>\n",
              "      <td>0.052630</td>\n",
              "      <td>0.019380</td>\n",
              "      <td>0.000000</td>\n",
              "      <td>0.000000</td>\n",
              "      <td>0.106000</td>\n",
              "      <td>...</td>\n",
              "      <td>12.020000</td>\n",
              "      <td>50.410000</td>\n",
              "      <td>185.200000</td>\n",
              "      <td>0.071170</td>\n",
              "      <td>0.027290</td>\n",
              "      <td>0.000000</td>\n",
              "      <td>0.000000</td>\n",
              "      <td>0.156500</td>\n",
              "      <td>0.055040</td>\n",
              "      <td>NaN</td>\n",
              "    </tr>\n",
              "    <tr>\n",
              "      <th>25%</th>\n",
              "      <td>8.692180e+05</td>\n",
              "      <td>11.700000</td>\n",
              "      <td>16.170000</td>\n",
              "      <td>75.170000</td>\n",
              "      <td>420.300000</td>\n",
              "      <td>0.086370</td>\n",
              "      <td>0.064920</td>\n",
              "      <td>0.029560</td>\n",
              "      <td>0.020310</td>\n",
              "      <td>0.161900</td>\n",
              "      <td>...</td>\n",
              "      <td>21.080000</td>\n",
              "      <td>84.110000</td>\n",
              "      <td>515.300000</td>\n",
              "      <td>0.116600</td>\n",
              "      <td>0.147200</td>\n",
              "      <td>0.114500</td>\n",
              "      <td>0.064930</td>\n",
              "      <td>0.250400</td>\n",
              "      <td>0.071460</td>\n",
              "      <td>NaN</td>\n",
              "    </tr>\n",
              "    <tr>\n",
              "      <th>50%</th>\n",
              "      <td>9.060240e+05</td>\n",
              "      <td>13.370000</td>\n",
              "      <td>18.840000</td>\n",
              "      <td>86.240000</td>\n",
              "      <td>551.100000</td>\n",
              "      <td>0.095870</td>\n",
              "      <td>0.092630</td>\n",
              "      <td>0.061540</td>\n",
              "      <td>0.033500</td>\n",
              "      <td>0.179200</td>\n",
              "      <td>...</td>\n",
              "      <td>25.410000</td>\n",
              "      <td>97.660000</td>\n",
              "      <td>686.500000</td>\n",
              "      <td>0.131300</td>\n",
              "      <td>0.211900</td>\n",
              "      <td>0.226700</td>\n",
              "      <td>0.099930</td>\n",
              "      <td>0.282200</td>\n",
              "      <td>0.080040</td>\n",
              "      <td>NaN</td>\n",
              "    </tr>\n",
              "    <tr>\n",
              "      <th>75%</th>\n",
              "      <td>8.813129e+06</td>\n",
              "      <td>15.780000</td>\n",
              "      <td>21.800000</td>\n",
              "      <td>104.100000</td>\n",
              "      <td>782.700000</td>\n",
              "      <td>0.105300</td>\n",
              "      <td>0.130400</td>\n",
              "      <td>0.130700</td>\n",
              "      <td>0.074000</td>\n",
              "      <td>0.195700</td>\n",
              "      <td>...</td>\n",
              "      <td>29.720000</td>\n",
              "      <td>125.400000</td>\n",
              "      <td>1084.000000</td>\n",
              "      <td>0.146000</td>\n",
              "      <td>0.339100</td>\n",
              "      <td>0.382900</td>\n",
              "      <td>0.161400</td>\n",
              "      <td>0.317900</td>\n",
              "      <td>0.092080</td>\n",
              "      <td>NaN</td>\n",
              "    </tr>\n",
              "    <tr>\n",
              "      <th>max</th>\n",
              "      <td>9.113205e+08</td>\n",
              "      <td>28.110000</td>\n",
              "      <td>39.280000</td>\n",
              "      <td>188.500000</td>\n",
              "      <td>2501.000000</td>\n",
              "      <td>0.163400</td>\n",
              "      <td>0.345400</td>\n",
              "      <td>0.426800</td>\n",
              "      <td>0.201200</td>\n",
              "      <td>0.304000</td>\n",
              "      <td>...</td>\n",
              "      <td>49.540000</td>\n",
              "      <td>251.200000</td>\n",
              "      <td>4254.000000</td>\n",
              "      <td>0.222600</td>\n",
              "      <td>1.058000</td>\n",
              "      <td>1.252000</td>\n",
              "      <td>0.291000</td>\n",
              "      <td>0.663800</td>\n",
              "      <td>0.207500</td>\n",
              "      <td>NaN</td>\n",
              "    </tr>\n",
              "  </tbody>\n",
              "</table>\n",
              "<p>8 rows × 32 columns</p>\n",
              "</div>"
            ],
            "text/plain": [
              "                 id  radius_mean  texture_mean  perimeter_mean    area_mean  \\\n",
              "count  5.690000e+02   569.000000    569.000000      569.000000   569.000000   \n",
              "mean   3.037183e+07    14.127292     19.289649       91.969033   654.889104   \n",
              "std    1.250206e+08     3.524049      4.301036       24.298981   351.914129   \n",
              "min    8.670000e+03     6.981000      9.710000       43.790000   143.500000   \n",
              "25%    8.692180e+05    11.700000     16.170000       75.170000   420.300000   \n",
              "50%    9.060240e+05    13.370000     18.840000       86.240000   551.100000   \n",
              "75%    8.813129e+06    15.780000     21.800000      104.100000   782.700000   \n",
              "max    9.113205e+08    28.110000     39.280000      188.500000  2501.000000   \n",
              "\n",
              "       smoothness_mean  compactness_mean  concavity_mean  concave points_mean  \\\n",
              "count       569.000000        569.000000      569.000000           569.000000   \n",
              "mean          0.096360          0.104341        0.088799             0.048919   \n",
              "std           0.014064          0.052813        0.079720             0.038803   \n",
              "min           0.052630          0.019380        0.000000             0.000000   \n",
              "25%           0.086370          0.064920        0.029560             0.020310   \n",
              "50%           0.095870          0.092630        0.061540             0.033500   \n",
              "75%           0.105300          0.130400        0.130700             0.074000   \n",
              "max           0.163400          0.345400        0.426800             0.201200   \n",
              "\n",
              "       symmetry_mean  ...  texture_worst  perimeter_worst   area_worst  \\\n",
              "count     569.000000  ...     569.000000       569.000000   569.000000   \n",
              "mean        0.181162  ...      25.677223       107.261213   880.583128   \n",
              "std         0.027414  ...       6.146258        33.602542   569.356993   \n",
              "min         0.106000  ...      12.020000        50.410000   185.200000   \n",
              "25%         0.161900  ...      21.080000        84.110000   515.300000   \n",
              "50%         0.179200  ...      25.410000        97.660000   686.500000   \n",
              "75%         0.195700  ...      29.720000       125.400000  1084.000000   \n",
              "max         0.304000  ...      49.540000       251.200000  4254.000000   \n",
              "\n",
              "       smoothness_worst  compactness_worst  concavity_worst  \\\n",
              "count        569.000000         569.000000       569.000000   \n",
              "mean           0.132369           0.254265         0.272188   \n",
              "std            0.022832           0.157336         0.208624   \n",
              "min            0.071170           0.027290         0.000000   \n",
              "25%            0.116600           0.147200         0.114500   \n",
              "50%            0.131300           0.211900         0.226700   \n",
              "75%            0.146000           0.339100         0.382900   \n",
              "max            0.222600           1.058000         1.252000   \n",
              "\n",
              "       concave points_worst  symmetry_worst  fractal_dimension_worst  \\\n",
              "count            569.000000      569.000000               569.000000   \n",
              "mean               0.114606        0.290076                 0.083946   \n",
              "std                0.065732        0.061867                 0.018061   \n",
              "min                0.000000        0.156500                 0.055040   \n",
              "25%                0.064930        0.250400                 0.071460   \n",
              "50%                0.099930        0.282200                 0.080040   \n",
              "75%                0.161400        0.317900                 0.092080   \n",
              "max                0.291000        0.663800                 0.207500   \n",
              "\n",
              "       Unnamed: 32  \n",
              "count          0.0  \n",
              "mean           NaN  \n",
              "std            NaN  \n",
              "min            NaN  \n",
              "25%            NaN  \n",
              "50%            NaN  \n",
              "75%            NaN  \n",
              "max            NaN  \n",
              "\n",
              "[8 rows x 32 columns]"
            ]
          },
          "execution_count": 3,
          "metadata": {},
          "output_type": "execute_result"
        }
      ],
      "source": [
        "df = pd.read_csv('kaggle-wisconsin-cancer.csv') # read the dataset in to a pandas dataframe\n",
        "df.describe()"
      ]
    },
    {
      "cell_type": "markdown",
      "metadata": {
        "id": "34QyV-J51fG9"
      },
      "source": [
        "The diagnosis corresponds to M (malignant) or B (benign), with 37% M. For this problem we want to minimize false negatives, i.e., predictions that the tumour is benign, when it is actually malignant. Hence we want to maximize the recall = TP/(TP+FN).\n",
        "\n",
        "We create a dataframe of the features, and undertake some minimal cleaning. Then we convert the diagnosis from categories to a binary classification where 1 represents M and 0 represents B."
      ]
    },
    {
      "cell_type": "markdown",
      "metadata": {
        "id": "V0gXaPad1fG-"
      },
      "source": [
        "## Multicollinearity"
      ]
    },
    {
      "cell_type": "markdown",
      "metadata": {
        "id": "w8Et5OdO1fG-"
      },
      "source": [
        "The first filtering method we should undertake is to remove features which have very high absolute correlation to reduce the problem of collinearity. We can determine whether this is required by displaying the maximum and minimum values of the correlation matrix for the features. This demonstrates that some features have high positive correlation, but high negative correlation is not a problem."
      ]
    },
    {
      "cell_type": "code",
      "execution_count": null,
      "metadata": {
        "id": "2HkT_Sb21fG-",
        "outputId": "92d8e1aa-a3c7-465a-b3cd-3da8f2074337"
      },
      "outputs": [
        {
          "name": "stdout",
          "output_type": "stream",
          "text": [
            "Minimum correlation is -0.312\n",
            "Maximum correlation is 0.998\n"
          ]
        }
      ],
      "source": [
        "corrs = features.corr() # calculate the correlation table\n",
        "upper_tri = corrs.where(np.triu(np.ones(corrs.shape),k=1).astype(np.bool))\n",
        "print('Minimum correlation is',np.round(upper_tri.min().min(),3))\n",
        "print('Maximum correlation is',np.round(upper_tri.max().max(),3))"
      ]
    },
    {
      "cell_type": "markdown",
      "metadata": {
        "id": "NpAUJbzH1fG-"
      },
      "source": [
        "To get an idea of the correlated features we can display the correlation matrix. The features that are highly correlated in this case are the biege entries, which corresponds to approximately 7 features."
      ]
    },
    {
      "cell_type": "code",
      "execution_count": null,
      "metadata": {
        "id": "Ky88n1cY1fG_",
        "outputId": "79ece94b-decf-4c14-e3e5-b35811bbfd91"
      },
      "outputs": [
        {
          "data": {
            "image/png": "[encoded data removed]",
            "text/plain": [
              "<Figure size 720x576 with 2 Axes>"
            ]
          },
          "metadata": {
            "needs_background": "light"
          },
          "output_type": "display_data"
        }
      ],
      "source": [
        "# as this is a symmetric table, set up a mask so that we only plot values below the main diagonal\n",
        "mask = np.triu(np.ones_like(corrs, dtype=np.bool))\n",
        "f, ax = plt.subplots(figsize=(10, 8)) # initialise the plots and axes\n",
        "# plot the correlations as a seaborn heatmap, with a colourbar\n",
        "sns.heatmap(corrs, mask=mask, center=0, annot=False, square=True, linewidths=.5)\n",
        "# do some fiddling so that the top and bottom are not obscured\n",
        "bottom, top = ax.get_ylim()\n",
        "ax.set_ylim(bottom + 0.5, top - 0.5);"
      ]
    },
    {
      "cell_type": "markdown",
      "metadata": {
        "id": "ZUhYCfRq1fG_"
      },
      "source": [
        "We can then iterate through the columns of the matrix and drop any columns which have an absolute correlation greater than some critical value. Those columns can be displayed and then dropped from the features."
      ]
    },
    {
      "cell_type": "code",
      "execution_count": null,
      "metadata": {
        "id": "h4V8TTZa1fG_",
        "outputId": "b1b707dd-bbbb-4579-feae-220905c80e56"
      },
      "outputs": [
        {
          "name": "stdout",
          "output_type": "stream",
          "text": [
            "['perimeter_mean', 'area_mean', 'perimeter_se', 'area_se', 'radius_worst', 'perimeter_worst', 'area_worst']\n"
          ]
        }
      ],
      "source": [
        "upper_tri = corrs.where(np.triu(np.ones(corrs.shape),k=1).astype(np.bool))\n",
        "to_drop = [column for column in upper_tri.columns if any(np.abs(upper_tri[column]) > 0.95)]\n",
        "print(to_drop)\n",
        "tfeatures = features.drop(features[to_drop], axis=1)"
      ]
    },
    {
      "cell_type": "markdown",
      "metadata": {
        "id": "mv2gDLHc1fG_"
      },
      "source": [
        "As a check, we should compare the model accuracy with the full feature set and the reduced feature set. To do this we introduce a function which fits an sklearn model and calculates the accuracy, precision and recall. This uses the sklearn `StandardScalar` as a pipeline to first normalize the features."
      ]
    },
    {
      "cell_type": "code",
      "execution_count": null,
      "metadata": {
        "id": "479w3hSy1fG_"
      },
      "outputs": [],
      "source": [
        "def model_accuracy(model, features, labels, randomnumb=42):\n",
        "    '''Convenience function to fit an sklearn model and calculate the accuracy, precision and recall'''\n",
        "    import numpy as np\n",
        "    from sklearn.pipeline import make_pipeline\n",
        "    from sklearn.preprocessing import StandardScaler\n",
        "    from sklearn.metrics import accuracy_score, precision_score, recall_score # import the score functions\n",
        "    from sklearn.model_selection import train_test_split\n",
        "\n",
        "    X_train, X_test, y_train, y_test = train_test_split(features, labels, random_state=randomnumb)\n",
        "    pipe = make_pipeline(StandardScaler(), model)\n",
        "    pipe.fit(X_train, y_train)  # apply scaling on training data\n",
        "    y_pred= pipe.predict(X_test) # calculate the predicted values of the model for the test features\n",
        "\n",
        "    accuracy = np.round(accuracy_score(y_test, y_pred),3)\n",
        "    precision = np.round(precision_score(y_test, y_pred),3)\n",
        "    recall = np.round(recall_score(y_test, y_pred),3)\n",
        "\n",
        "    print('Metrics for', model)\n",
        "    print('Accuracy ', accuracy)\n",
        "    print('Precision ', precision)\n",
        "    print('Recall ', recall)\n",
        "    print('\\n')\n",
        "\n",
        "    return (accuracy, precision, recall)"
      ]
    },
    {
      "cell_type": "markdown",
      "metadata": {
        "id": "0lAetl-71fHA"
      },
      "source": [
        "We can then use a simple logistic regression model to compare the results for the full dataset and the trimmed dataset. This doesn't take into account cross-validation or optimization of parameters. For each of the accuracy measurements the reduction is approximately 1.5%, so in what follows we will use the trimmed dataset (tfeatures)."
      ]
    },
    {
      "cell_type": "code",
      "execution_count": null,
      "metadata": {
        "id": "lPBiePdU1fHA",
        "outputId": "6bf6d934-daf5-4c29-8cd1-e036f272d7ca"
      },
      "outputs": [
        {
          "name": "stdout",
          "output_type": "stream",
          "text": [
            "Full set of features\n",
            "Metrics for LogisticRegression(penalty='none')\n",
            "Accuracy  0.944\n",
            "Precision  0.883\n",
            "Recall  0.981\n",
            "\n",
            "\n",
            "Trimmed set of features\n",
            "Metrics for LogisticRegression(penalty='none')\n",
            "Accuracy  0.93\n",
            "Precision  0.867\n",
            "Recall  0.963\n",
            "\n",
            "\n"
          ]
        }
      ],
      "source": [
        "from sklearn.linear_model import LogisticRegression\n",
        "\n",
        "print('Full set of features')\n",
        "logreg = LogisticRegression(penalty='none')\n",
        "model_accuracy(logreg, features, labels)\n",
        "\n",
        "print('Trimmed set of features')\n",
        "logreg = LogisticRegression(penalty='none')\n",
        "model_accuracy(logreg, tfeatures, labels);"
      ]
    },
    {
      "cell_type": "markdown",
      "metadata": {
        "id": "cumpsCHF1fHA"
      },
      "source": [
        "## Variance Threshold"
      ]
    },
    {
      "cell_type": "markdown",
      "metadata": {
        "id": "48m-LuO61fHB"
      },
      "source": [
        "The simplest filtering of features that we can perform is to remove the features with the lowest variance or standard deviation. The rationale is that at least for linear models the magnitude of the model coefficients will be proportional to the variance of that feature. We can see that a number of features have very low variance and are candidates for being eliminated."
      ]
    },
    {
      "cell_type": "code",
      "execution_count": null,
      "metadata": {
        "id": "6qmKAgWT1fHB",
        "outputId": "0a253590-6c07-4990-b3a2-01e37aadfe99"
      },
      "outputs": [
        {
          "data": {
            "image/png": "[encoded data removed]",
            "text/plain": [
              "<Figure size 576x504 with 1 Axes>"
            ]
          },
          "metadata": {
            "needs_background": "light"
          },
          "output_type": "display_data"
        }
      ],
      "source": [
        "std_scores = pd.DataFrame(tfeatures.std())\n",
        "std_scores.columns = ['Std']  # name output columns\n",
        "std_scores.sort_values(by='Std', inplace=True)\n",
        "\n",
        "std_scores.plot(kind='barh', figsize=(8, 7)) # plot these as a bar plot\n",
        "plt.axvline(x=0.1, color='.5') # add the reference line y = 0\n",
        "plt.xlabel('Standard Deviation');"
      ]
    },
    {
      "cell_type": "markdown",
      "metadata": {
        "id": "nx6_zN6v1fHB"
      },
      "source": [
        "If we include only features with a variance greater that 0.1, this reduces our dataset to 7 features. The recall reduces by another 2%, though the precision and accuracy both improve."
      ]
    },
    {
      "cell_type": "code",
      "execution_count": null,
      "metadata": {
        "id": "0LGtmw2u1fHB",
        "outputId": "e10350ab-86b9-47bc-eb71-bf488ccb35c8"
      },
      "outputs": [
        {
          "name": "stdout",
          "output_type": "stream",
          "text": [
            "(569, 7)\n",
            "\n",
            "\n",
            "Variance threshold\n",
            "Metrics for LogisticRegression(penalty='none')\n",
            "Accuracy  0.958\n",
            "Precision  0.944\n",
            "Recall  0.944\n",
            "\n",
            "\n"
          ]
        }
      ],
      "source": [
        "features_highvar = tfeatures.loc[:, tfeatures.std() > 0.1]\n",
        "\n",
        "print(features_highvar.shape)\n",
        "print('\\n')\n",
        "print('Variance threshold')\n",
        "logreg = LogisticRegression(penalty='none')\n",
        "accuracy, precision, recall = model_accuracy(logreg, features_highvar, labels);"
      ]
    },
    {
      "cell_type": "markdown",
      "metadata": {
        "id": "Ftam19Rg1fHC"
      },
      "source": [
        "## SelectKBest"
      ]
    },
    {
      "cell_type": "markdown",
      "metadata": {
        "id": "_tcK4HX51fHC"
      },
      "source": [
        "sklearn provides a number of functions which allow feature selection based on statistical tests comparing the feature set and the data labels. We will just consider `SelectKBest` here, which chooses the features with the highest statistical scores. To investigate other methods, see the sklearn documentation. The two common tests for classification problems are the chi2 (chi squared) test and the f_classif (ANOVA F-value) test. The f_classif is the default test for classification problems. For regression problems you would use f_regression, which calculates the correlation between features and labels.\n",
        "\n",
        "`SelectKBest` works the same as other sklearn models where you instantiate the model, then fit the data to the model and then extract the information. In this case we just want the scores, so we don't specify how many features to extract. We can then extract the scores and display then based on their chi2 ranking."
      ]
    },
    {
      "cell_type": "code",
      "execution_count": null,
      "metadata": {
        "id": "Qih7ZYv11fHC",
        "outputId": "dd16ff48-83e8-4f83-8483-cb9625b12d03"
      },
      "outputs": [
        {
          "data": {
            "text/plain": [
              "<matplotlib.axes._subplots.AxesSubplot at 0x102ffdc90>"
            ]
          },
          "execution_count": 12,
          "metadata": {},
          "output_type": "execute_result"
        },
        {
          "data": {
            "image/png": "[encoded data removed]",
            "text/plain": [
              "<Figure size 576x504 with 1 Axes>"
            ]
          },
          "metadata": {
            "needs_background": "light"
          },
          "output_type": "display_data"
        }
      ],
      "source": [
        "from sklearn.feature_selection import SelectKBest\n",
        "from sklearn.feature_selection import chi2, f_regression\n",
        "\n",
        "features_new = SelectKBest(chi2).fit(tfeatures, labels)\n",
        "df_scores = pd.DataFrame(features_new.scores_)\n",
        "df_columns = pd.DataFrame(tfeatures.columns)\n",
        "# concatenate dataframes\n",
        "chi2_scores = pd.concat([df_columns, df_scores],axis=1)\n",
        "chi2_scores.columns = ['Feature_Name','Chi2 Score']  # name output columns\n",
        "chi2_scores.set_index('Feature_Name', inplace=True)\n",
        "\n",
        "chi2_scores.sort_values(by='Chi2 Score').plot(kind='barh', figsize=(8, 7)) # plot these as a bar plot"
      ]
    },
    {
      "cell_type": "markdown",
      "metadata": {
        "id": "uQ-N1r801fHC"
      },
      "source": [
        "To extract the k best features we then specify the number of features and fit and transform the data. We can then fit a logistic regression model to this transformed data. As can seen for this dataset the metrics all are very high, which suggests that the model is accurate and robust."
      ]
    },
    {
      "cell_type": "code",
      "execution_count": null,
      "metadata": {
        "id": "peuNNePT1fHC",
        "outputId": "88bac974-f8ab-4225-b301-0f235d57d333"
      },
      "outputs": [
        {
          "name": "stdout",
          "output_type": "stream",
          "text": [
            "Chi2 test for SelectKBest with 4 features\n",
            "Metrics for LogisticRegression(penalty='none')\n",
            "Accuracy  0.972\n",
            "Precision  0.963\n",
            "Recall  0.963\n",
            "\n",
            "\n"
          ]
        }
      ],
      "source": [
        "features_chi2 = SelectKBest(chi2, k=4).fit_transform(tfeatures, labels)\n",
        "\n",
        "print('Chi2 test for SelectKBest with 4 features')\n",
        "logreg = LogisticRegression(penalty='none')\n",
        "accuracy, precision, recall = model_accuracy(logreg, features_chi2, labels)\n"
      ]
    },
    {
      "cell_type": "markdown",
      "metadata": {
        "id": "ULJ7rjmw1fHC"
      },
      "source": [
        "We can repeat the process using the ANOVA F-value test. In this case the distribution of scores is not quite as strong as for the chi2 test, and the accuracy metrics all decrease."
      ]
    },
    {
      "cell_type": "code",
      "execution_count": null,
      "metadata": {
        "id": "Lx_a1fsP1fHC",
        "outputId": "3717158d-b0e5-4041-a585-9be827c3c77d"
      },
      "outputs": [
        {
          "data": {
            "text/plain": [
              "<matplotlib.axes._subplots.AxesSubplot at 0x1b17975d10>"
            ]
          },
          "execution_count": 14,
          "metadata": {},
          "output_type": "execute_result"
        },
        {
          "data": {
            "image/png": "[encoded data removed]",
            "text/plain": [
              "<Figure size 576x504 with 1 Axes>"
            ]
          },
          "metadata": {
            "needs_background": "light"
          },
          "output_type": "display_data"
        }
      ],
      "source": [
        "features_new = SelectKBest().fit(tfeatures, labels)\n",
        "df_scores = pd.DataFrame(features_new.scores_)\n",
        "df_columns = pd.DataFrame(tfeatures.columns)\n",
        "# concatenate dataframes\n",
        "anova_scores = pd.concat([df_columns, df_scores],axis=1)\n",
        "anova_scores.columns = ['Feature_Name','ANOVA Score']  # name output columns\n",
        "\n",
        "anova_scores.set_index('Feature_Name', inplace=True)\n",
        "anova_scores.sort_values(by='ANOVA Score').plot(kind='barh', figsize=(8, 7)) # plot these as a bar plot"
      ]
    },
    {
      "cell_type": "code",
      "execution_count": null,
      "metadata": {
        "id": "qOG9tP2y1fHD",
        "outputId": "debcf60d-12d1-48f2-e477-9f0577b5403a"
      },
      "outputs": [
        {
          "name": "stdout",
          "output_type": "stream",
          "text": [
            "ANOVA F test for SelectKBest with 4 features\n",
            "Metrics for LogisticRegression(penalty='none')\n",
            "Accuracy  0.951\n",
            "Precision  0.927\n",
            "Recall  0.944\n",
            "\n",
            "\n"
          ]
        }
      ],
      "source": [
        "features_anova = SelectKBest(k=4).fit_transform(tfeatures, labels)\n",
        "\n",
        "print('ANOVA F test for SelectKBest with 4 features')\n",
        "logreg = LogisticRegression(penalty='none')\n",
        "accuracy, precision, recall = model_accuracy(logreg, features_anova, labels)\n"
      ]
    },
    {
      "cell_type": "markdown",
      "metadata": {
        "id": "NtL6ShHi1fHD"
      },
      "source": [
        "As a comparison we can compare the scores for the three tests we have so far undertaken. Generally as one increases the other also increase, but there are some anomalies for the three different tests.\n",
        "\n",
        "In this case, since each test is simple and quick, the best approach is to try each method and use the method that gives the best balance between bias and variance for your particular dataset."
      ]
    },
    {
      "cell_type": "code",
      "execution_count": null,
      "metadata": {
        "id": "WAfWzH7q1fHD",
        "outputId": "eca2d0bd-8753-410f-bb0d-f2d3f4b640a7"
      },
      "outputs": [
        {
          "data": {
            "text/html": [
              "<div>\n",
              "<style scoped>\n",
              "    .dataframe tbody tr th:only-of-type {\n",
              "        vertical-align: middle;\n",
              "    }\n",
              "\n",
              "    .dataframe tbody tr th {\n",
              "        vertical-align: top;\n",
              "    }\n",
              "\n",
              "    .dataframe thead th {\n",
              "        text-align: right;\n",
              "    }\n",
              "</style>\n",
              "<table border=\"1\" class=\"dataframe\">\n",
              "  <thead>\n",
              "    <tr style=\"text-align: right;\">\n",
              "      <th></th>\n",
              "      <th>Std</th>\n",
              "      <th>Chi2</th>\n",
              "      <th>Anova</th>\n",
              "    </tr>\n",
              "  </thead>\n",
              "  <tbody>\n",
              "    <tr>\n",
              "      <th>fractal_dimension_se</th>\n",
              "      <td>0.002646</td>\n",
              "      <td>0.006371</td>\n",
              "      <td>3.468275</td>\n",
              "    </tr>\n",
              "    <tr>\n",
              "      <th>smoothness_se</th>\n",
              "      <td>0.003003</td>\n",
              "      <td>0.003266</td>\n",
              "      <td>2.557968</td>\n",
              "    </tr>\n",
              "    <tr>\n",
              "      <th>concave points_se</th>\n",
              "      <td>0.006170</td>\n",
              "      <td>0.305232</td>\n",
              "      <td>113.262760</td>\n",
              "    </tr>\n",
              "    <tr>\n",
              "      <th>fractal_dimension_mean</th>\n",
              "      <td>0.007060</td>\n",
              "      <td>0.000074</td>\n",
              "      <td>0.093459</td>\n",
              "    </tr>\n",
              "    <tr>\n",
              "      <th>symmetry_se</th>\n",
              "      <td>0.008266</td>\n",
              "      <td>0.000080</td>\n",
              "      <td>0.024117</td>\n",
              "    </tr>\n",
              "    <tr>\n",
              "      <th>smoothness_mean</th>\n",
              "      <td>0.014064</td>\n",
              "      <td>0.149899</td>\n",
              "      <td>83.651123</td>\n",
              "    </tr>\n",
              "    <tr>\n",
              "      <th>compactness_se</th>\n",
              "      <td>0.017908</td>\n",
              "      <td>0.613785</td>\n",
              "      <td>53.247339</td>\n",
              "    </tr>\n",
              "    <tr>\n",
              "      <th>fractal_dimension_worst</th>\n",
              "      <td>0.018061</td>\n",
              "      <td>0.231522</td>\n",
              "      <td>66.443961</td>\n",
              "    </tr>\n",
              "    <tr>\n",
              "      <th>smoothness_worst</th>\n",
              "      <td>0.022832</td>\n",
              "      <td>0.397366</td>\n",
              "      <td>122.472880</td>\n",
              "    </tr>\n",
              "    <tr>\n",
              "      <th>symmetry_mean</th>\n",
              "      <td>0.027414</td>\n",
              "      <td>0.257380</td>\n",
              "      <td>69.527444</td>\n",
              "    </tr>\n",
              "    <tr>\n",
              "      <th>concavity_se</th>\n",
              "      <td>0.030186</td>\n",
              "      <td>1.044718</td>\n",
              "      <td>39.014482</td>\n",
              "    </tr>\n",
              "    <tr>\n",
              "      <th>concave points_mean</th>\n",
              "      <td>0.038803</td>\n",
              "      <td>10.544035</td>\n",
              "      <td>861.676020</td>\n",
              "    </tr>\n",
              "    <tr>\n",
              "      <th>compactness_mean</th>\n",
              "      <td>0.052813</td>\n",
              "      <td>5.403075</td>\n",
              "      <td>313.233079</td>\n",
              "    </tr>\n",
              "    <tr>\n",
              "      <th>symmetry_worst</th>\n",
              "      <td>0.061867</td>\n",
              "      <td>1.298861</td>\n",
              "      <td>118.860232</td>\n",
              "    </tr>\n",
              "    <tr>\n",
              "      <th>concave points_worst</th>\n",
              "      <td>0.065732</td>\n",
              "      <td>13.485419</td>\n",
              "      <td>964.385393</td>\n",
              "    </tr>\n",
              "    <tr>\n",
              "      <th>concavity_mean</th>\n",
              "      <td>0.079720</td>\n",
              "      <td>19.712354</td>\n",
              "      <td>533.793126</td>\n",
              "    </tr>\n",
              "    <tr>\n",
              "      <th>compactness_worst</th>\n",
              "      <td>0.157336</td>\n",
              "      <td>19.314922</td>\n",
              "      <td>304.341063</td>\n",
              "    </tr>\n",
              "    <tr>\n",
              "      <th>concavity_worst</th>\n",
              "      <td>0.208624</td>\n",
              "      <td>39.516915</td>\n",
              "      <td>436.691939</td>\n",
              "    </tr>\n",
              "    <tr>\n",
              "      <th>radius_se</th>\n",
              "      <td>0.277313</td>\n",
              "      <td>34.675247</td>\n",
              "      <td>268.840327</td>\n",
              "    </tr>\n",
              "    <tr>\n",
              "      <th>texture_se</th>\n",
              "      <td>0.551648</td>\n",
              "      <td>0.009794</td>\n",
              "      <td>0.039095</td>\n",
              "    </tr>\n",
              "    <tr>\n",
              "      <th>radius_mean</th>\n",
              "      <td>3.524049</td>\n",
              "      <td>266.104917</td>\n",
              "      <td>646.981021</td>\n",
              "    </tr>\n",
              "    <tr>\n",
              "      <th>texture_mean</th>\n",
              "      <td>4.301036</td>\n",
              "      <td>93.897508</td>\n",
              "      <td>118.096059</td>\n",
              "    </tr>\n",
              "    <tr>\n",
              "      <th>texture_worst</th>\n",
              "      <td>6.146258</td>\n",
              "      <td>174.449400</td>\n",
              "      <td>149.596905</td>\n",
              "    </tr>\n",
              "  </tbody>\n",
              "</table>\n",
              "</div>"
            ],
            "text/plain": [
              "                              Std        Chi2       Anova\n",
              "fractal_dimension_se     0.002646    0.006371    3.468275\n",
              "smoothness_se            0.003003    0.003266    2.557968\n",
              "concave points_se        0.006170    0.305232  113.262760\n",
              "fractal_dimension_mean   0.007060    0.000074    0.093459\n",
              "symmetry_se              0.008266    0.000080    0.024117\n",
              "smoothness_mean          0.014064    0.149899   83.651123\n",
              "compactness_se           0.017908    0.613785   53.247339\n",
              "fractal_dimension_worst  0.018061    0.231522   66.443961\n",
              "smoothness_worst         0.022832    0.397366  122.472880\n",
              "symmetry_mean            0.027414    0.257380   69.527444\n",
              "concavity_se             0.030186    1.044718   39.014482\n",
              "concave points_mean      0.038803   10.544035  861.676020\n",
              "compactness_mean         0.052813    5.403075  313.233079\n",
              "symmetry_worst           0.061867    1.298861  118.860232\n",
              "concave points_worst     0.065732   13.485419  964.385393\n",
              "concavity_mean           0.079720   19.712354  533.793126\n",
              "compactness_worst        0.157336   19.314922  304.341063\n",
              "concavity_worst          0.208624   39.516915  436.691939\n",
              "radius_se                0.277313   34.675247  268.840327\n",
              "texture_se               0.551648    0.009794    0.039095\n",
              "radius_mean              3.524049  266.104917  646.981021\n",
              "texture_mean             4.301036   93.897508  118.096059\n",
              "texture_worst            6.146258  174.449400  149.596905"
            ]
          },
          "execution_count": 16,
          "metadata": {},
          "output_type": "execute_result"
        }
      ],
      "source": [
        "scores = pd.concat([std_scores, chi2_scores, anova_scores], axis=1)\n",
        "scores.columns = ['Std', 'Chi2', 'Anova']\n",
        "scores.sort_values(by='Std')"
      ]
    },
    {
      "cell_type": "markdown",
      "metadata": {
        "id": "tdK2GoeX1fHD"
      },
      "source": [
        "## SelectFromModel"
      ]
    },
    {
      "cell_type": "markdown",
      "metadata": {
        "id": "Wohr9ONr1fHD"
      },
      "source": [
        "The sklearn function `SelectFromModel` is our first example of a wrapper routine. This takes the output of a model and uses attributes of the model to rank the features and then extract features based on some threshold. The simplest way to understand this for Decision Tree type models which output a feature importance for each feature. This can then be used to rank the features, such that those with the highest importance are retained. The default threshold is to keep features with feature importance greater than the mean value.\n",
        "\n",
        "`SelectFromModel` can also use the coefficients of a model such a linear or logistic regression or SVM to rank the features.\n",
        "\n",
        "We will use `RandomForestClassifier` to illustrate the use of `SelectFromModel`, hence we first need to create a baseline for the accuracy metrics. Again, this baseline does not use optimization of parameters or cross-validation, but is rather just for reference."
      ]
    },
    {
      "cell_type": "code",
      "execution_count": null,
      "metadata": {
        "id": "K1_tI0hw1fHF",
        "outputId": "77ed283a-bc53-4eee-920f-9d67e4d2d0b9"
      },
      "outputs": [
        {
          "name": "stdout",
          "output_type": "stream",
          "text": [
            "Metrics for RandomForestClassifier()\n",
            "Accuracy  0.951\n",
            "Precision  0.943\n",
            "Recall  0.926\n",
            "\n",
            "\n"
          ]
        }
      ],
      "source": [
        "from sklearn.ensemble import RandomForestClassifier\n",
        "\n",
        "rfc = RandomForestClassifier()\n",
        "accuracy, precision, recall = model_accuracy(rfc, tfeatures, labels)\n"
      ]
    },
    {
      "cell_type": "markdown",
      "metadata": {
        "id": "RoDl2uzz1fHF"
      },
      "source": [
        "To use this model we need to specify an estimator, which is in this case `RandomForestClassifier`, and a threshold for choosing features. For this classifier the feature importance will be used to select features, whereas for `LogisticRegression` the model coefficients would be used. The default for the threshold is the mean of the feature importance. This could be the median or a fraction of the mean, by specifying, for example, `threshold=\"0.5*mean\"`. We then fit the model to the features and labels. For comparison with later routines we display the time taken."
      ]
    },
    {
      "cell_type": "code",
      "execution_count": null,
      "metadata": {
        "id": "Wl4qjJ8g1fHG",
        "outputId": "d7ce16cd-aa2f-4176-b5f6-8d3ab3e51eca"
      },
      "outputs": [
        {
          "name": "stdout",
          "output_type": "stream",
          "text": [
            "193 ms ± 14 ms per loop (mean ± std. dev. of 7 runs, 1 loop each)\n"
          ]
        }
      ],
      "source": [
        "from sklearn.feature_selection import SelectFromModel\n",
        "\n",
        "selector = SelectFromModel(estimator=RandomForestClassifier(), threshold=\"mean\")\n",
        "%timeit selector.fit(tfeatures, labels)"
      ]
    },
    {
      "cell_type": "markdown",
      "metadata": {
        "id": "4i_YSZrh1fHG"
      },
      "source": [
        "The scores for each feature then can be extracted using the object `estimator_.feature_importances_`, and the critical value for the scores can be extracted using the object `threshold_`. Then we can view the ranking of the features. Using the mean value gives that six features are selected."
      ]
    },
    {
      "cell_type": "code",
      "execution_count": null,
      "metadata": {
        "id": "eLJRN_H91fHG",
        "outputId": "cf5e12ad-ebc7-49a2-f055-90755bc14619"
      },
      "outputs": [
        {
          "data": {
            "text/plain": [
              "<matplotlib.lines.Line2D at 0x1b18717ed0>"
            ]
          },
          "execution_count": 19,
          "metadata": {},
          "output_type": "execute_result"
        },
        {
          "data": {
            "image/png": "[encoded data removed]",
            "text/plain": [
              "<Figure size 576x504 with 1 Axes>"
            ]
          },
          "metadata": {
            "needs_background": "light"
          },
          "output_type": "display_data"
        }
      ],
      "source": [
        "df_scores = pd.DataFrame(selector.estimator_.feature_importances_)\n",
        "msfm = selector.threshold_\n",
        "df_columns = pd.DataFrame(tfeatures.columns)\n",
        "# concatenate dataframes\n",
        "sfm_scores = pd.concat([df_columns, df_scores],axis=1)\n",
        "sfm_scores.columns = ['Feature_Name','Feature Importance']  # name output columns\n",
        "sfm_scores.set_index('Feature_Name', inplace=True)\n",
        "\n",
        "sfm_scores.sort_values(by='Feature Importance').plot(kind='barh', figsize=(8, 7)) # plot these as a bar plot\n",
        "plt.axvline(x=msfm, color='.5') # add the reference line y = 0"
      ]
    },
    {
      "cell_type": "markdown",
      "metadata": {
        "id": "_Bx8hVMK1fHH"
      },
      "source": [
        "To view the features that are selected we can retrieve the output of the method `get_support()`. This returns a binary array which is True if the feature is selected and otherwise False. For example, this can then be used to display the selected features."
      ]
    },
    {
      "cell_type": "code",
      "execution_count": null,
      "metadata": {
        "id": "gbq951D_1fHH",
        "outputId": "4b7dab0a-757a-480e-fa91-766e340509d2"
      },
      "outputs": [
        {
          "data": {
            "text/plain": [
              "Index(['radius_mean', 'concavity_mean', 'concave points_mean', 'radius_se',\n",
              "       'concavity_worst', 'concave points_worst'],\n",
              "      dtype='object')"
            ]
          },
          "execution_count": 20,
          "metadata": {},
          "output_type": "execute_result"
        }
      ],
      "source": [
        "tfeatures.columns[selector.get_support()]"
      ]
    },
    {
      "cell_type": "markdown",
      "metadata": {
        "id": "luWymlG21fHI"
      },
      "source": [
        "Then we can create the reduced set of features using the `transform()` method. With this reduced dataset the accuracy and precision are slightly reduced, but the recall remains the same as the reference."
      ]
    },
    {
      "cell_type": "code",
      "execution_count": null,
      "metadata": {
        "id": "ELl1VU7f1fHI",
        "outputId": "8f0f5a6c-4194-4028-a13b-8097a1e1f47f"
      },
      "outputs": [
        {
          "name": "stdout",
          "output_type": "stream",
          "text": [
            "Metrics for RandomForestClassifier()\n",
            "Accuracy  0.944\n",
            "Precision  0.926\n",
            "Recall  0.926\n",
            "\n",
            "\n"
          ]
        }
      ],
      "source": [
        "Xt = selector.transform(tfeatures)\n",
        "\n",
        "rfc = RandomForestClassifier()\n",
        "accuracy, precision, recall = model_accuracy(rfc, Xt, labels)\n"
      ]
    },
    {
      "cell_type": "markdown",
      "metadata": {
        "id": "MC4OSMo41fHI"
      },
      "source": [
        "## Recursive Feature Elimination"
      ]
    },
    {
      "cell_type": "markdown",
      "metadata": {
        "id": "PgTZhAuh1fHJ"
      },
      "source": [
        "The function `RFE` (Recursive Feature Elimination) again uses the scores of an estimator, but recursively eliminates features until the required number of features are obtained. For example, on the first step the model is fitted and the feature which contributes the least as measured by the estimator scores is eliminated. The process is then repeated. At each step one fitting of the model occurs, but as the number of features is reduced, subsequent steps will take less time.\n",
        "\n",
        "`RFECV` implements this with cross-validation.\n",
        "\n",
        "The model is set-up in the same way as `SelectFromModel`. The two main parameters to specify are `n_features_to_select` and `step`, which respectively corresponds to the final number of features selected and the number of features eliminated on each step. Due to the number of iterations, this takes significantly longer to run compared to `SelectFromModel`."
      ]
    },
    {
      "cell_type": "code",
      "execution_count": null,
      "metadata": {
        "id": "eWq0UC-q1fHJ",
        "outputId": "41f84323-1bda-4f35-9cbb-10e26a247b8a"
      },
      "outputs": [
        {
          "name": "stdout",
          "output_type": "stream",
          "text": [
            "3.58 s ± 33.3 ms per loop (mean ± std. dev. of 7 runs, 1 loop each)\n"
          ]
        }
      ],
      "source": [
        "from sklearn.feature_selection import RFE\n",
        "\n",
        "estimator = RandomForestClassifier()\n",
        "selector = RFE(estimator, n_features_to_select=5, step=1)\n",
        "%timeit selector.fit(tfeatures, labels)"
      ]
    },
    {
      "cell_type": "markdown",
      "metadata": {
        "id": "lMvd8hfr1fHJ"
      },
      "source": [
        "The relevant output of this model is the model is the ranking (`ranking_`), which details at which step that feature was eliminated. All features that are selected have a ranking of 1, the feature eliminated on the final step has a ranking of 2, and as the ranking increases that indicates the feature was eliminated on an earlier step."
      ]
    },
    {
      "cell_type": "code",
      "execution_count": null,
      "metadata": {
        "id": "qLEhp0Fz1fHJ",
        "outputId": "dd64ff4f-9c72-478c-c510-3bce0a947d34"
      },
      "outputs": [
        {
          "data": {
            "text/plain": [
              "<matplotlib.axes._subplots.AxesSubplot at 0x1b18781390>"
            ]
          },
          "execution_count": 23,
          "metadata": {},
          "output_type": "execute_result"
        },
        {
          "data": {
            "image/png": "[encoded data removed]",
            "text/plain": [
              "<Figure size 576x504 with 1 Axes>"
            ]
          },
          "metadata": {
            "needs_background": "light"
          },
          "output_type": "display_data"
        }
      ],
      "source": [
        "df_scores = pd.DataFrame(selector.ranking_)\n",
        "df_columns = pd.DataFrame(tfeatures.columns)\n",
        "# concatenate dataframes\n",
        "rfe_scores = pd.concat([df_columns, df_scores],axis=1)\n",
        "rfe_scores.columns = ['Feature_Name','Feature Ranking']  # name output columns\n",
        "rfe_scores.set_index('Feature_Name', inplace=True)\n",
        "\n",
        "rfe_scores.sort_values(by='Feature Ranking', ascending=False).plot(kind='barh', figsize=(8, 7)) # plot these as a bar plot"
      ]
    },
    {
      "cell_type": "markdown",
      "metadata": {
        "id": "EsiYPNrw1fHJ"
      },
      "source": [
        "Again the selected features can be displayed using `get_support()`."
      ]
    },
    {
      "cell_type": "code",
      "execution_count": null,
      "metadata": {
        "id": "yR1Rx2xO1fHK",
        "outputId": "eb2f9499-6f9a-4cbe-c98c-4a10f0cfdff1"
      },
      "outputs": [
        {
          "data": {
            "text/plain": [
              "Index(['radius_mean', 'concavity_mean', 'concave points_mean',\n",
              "       'concavity_worst', 'concave points_worst'],\n",
              "      dtype='object')"
            ]
          },
          "execution_count": 24,
          "metadata": {},
          "output_type": "execute_result"
        }
      ],
      "source": [
        "tfeatures.columns[selector.get_support()]"
      ]
    },
    {
      "cell_type": "markdown",
      "metadata": {
        "id": "gvekVzmi1fHK"
      },
      "source": [
        "For this selection all the metrics for the model are reduced in comparison with the reference run."
      ]
    },
    {
      "cell_type": "code",
      "execution_count": null,
      "metadata": {
        "id": "tUNUusgk1fHK",
        "outputId": "74822824-0f4b-4fc2-c7e6-8a71abe77a3e"
      },
      "outputs": [
        {
          "name": "stdout",
          "output_type": "stream",
          "text": [
            "Metrics for RandomForestClassifier()\n",
            "Accuracy  0.937\n",
            "Precision  0.909\n",
            "Recall  0.926\n",
            "\n",
            "\n"
          ]
        }
      ],
      "source": [
        "Xt = selector.transform(tfeatures)\n",
        "\n",
        "rfc = RandomForestClassifier()\n",
        "accuracy, precision, recall = model_accuracy(rfc, Xt, labels)"
      ]
    },
    {
      "cell_type": "markdown",
      "metadata": {
        "id": "5FwGLfVE1fHK"
      },
      "source": [
        "## Sequential Feature Selector"
      ]
    },
    {
      "cell_type": "markdown",
      "metadata": {
        "id": "AB9crZ__1fHK"
      },
      "source": [
        "The final method considered here is `SequentialFeatureSelector`, which is new in Version 0.24 of sklearn. This has the advantages that it chooses features based on an accuracy measurement and can use cross-validation. The main disadvantage is that it is costly to run.\n",
        "\n",
        "`SequentialFeatureSelector` can be run in forward or backward mode. In forward mode at the first iteration the feature is chosen which maximizes the particular accuracy measurement. Then on the next iteration one feature is added which again maximizes the metric. This continues until the chosen number of features is reached. In backward mode the first iteration includes all features and features are eliminated at each step. By default 5-fold cross-validation is used.\n",
        "\n",
        "The setup is the same as previous models, except for the keywords `direction`, `scoring` and `cv`. `direction` controls whether forward or backward mode is used, with forward being the default. `scoring` controls the metric to be used. For example, we could use accuracy, precision or recall for classification, and r2_score for regression.\n",
        "\n",
        "Due to the large number of models that need to be fitted, the runtime is significantly longer than for `SelectFromModel` and `RFE`."
      ]
    },
    {
      "cell_type": "code",
      "execution_count": null,
      "metadata": {
        "id": "mN5w8rvt1fHK",
        "outputId": "52d8643b-c8a1-4f41-e0e9-d931fcf5bddc"
      },
      "outputs": [
        {
          "name": "stdout",
          "output_type": "stream",
          "text": [
            "1min 25s ± 3.51 s per loop (mean ± std. dev. of 7 runs, 1 loop each)\n"
          ]
        }
      ],
      "source": [
        "from sklearn.feature_selection import SequentialFeatureSelector\n",
        "\n",
        "estimator = RandomForestClassifier()\n",
        "selector = SequentialFeatureSelector(estimator, n_features_to_select=5, scoring='recall')\n",
        "%timeit selector.fit(tfeatures, labels)"
      ]
    },
    {
      "cell_type": "markdown",
      "metadata": {
        "id": "LTKKM_SR1fHL"
      },
      "source": [
        "Again, we can view the chose features using `get_support()`."
      ]
    },
    {
      "cell_type": "code",
      "execution_count": null,
      "metadata": {
        "id": "NaUfR22V1fHL",
        "outputId": "2cb27030-bb38-4389-b37c-4aac60ff87f7"
      },
      "outputs": [
        {
          "data": {
            "text/plain": [
              "Index(['radius_mean', 'texture_worst', 'smoothness_worst',\n",
              "       'concave points_worst', 'fractal_dimension_worst'],\n",
              "      dtype='object')"
            ]
          },
          "execution_count": 27,
          "metadata": {},
          "output_type": "execute_result"
        }
      ],
      "source": [
        "tfeatures.columns[selector.get_support()]"
      ]
    },
    {
      "cell_type": "markdown",
      "metadata": {
        "id": "QXBca3U_1fHL"
      },
      "source": [
        "Now although the model takes longer to run, the accuracy measurements are all at least as good as for the reference run."
      ]
    },
    {
      "cell_type": "code",
      "execution_count": null,
      "metadata": {
        "id": "qcCiIqwC1fHL",
        "outputId": "b520ae32-3a16-4026-b520-94a4ade9f210"
      },
      "outputs": [
        {
          "name": "stdout",
          "output_type": "stream",
          "text": [
            "Metrics for RandomForestClassifier()\n",
            "Accuracy  0.951\n",
            "Precision  0.927\n",
            "Recall  0.944\n",
            "\n",
            "\n"
          ]
        }
      ],
      "source": [
        "Xt = selector.transform(tfeatures)\n",
        "\n",
        "rfc = RandomForestClassifier()\n",
        "accuracy, precision, recall = model_accuracy(rfc, Xt, labels)"
      ]
    },
    {
      "cell_type": "markdown",
      "metadata": {
        "id": "FbEzNwgg1fHL"
      },
      "source": [
        "## Exercises"
      ]
    },
    {
      "cell_type": "markdown",
      "metadata": {
        "id": "y_oBjN041fHL"
      },
      "source": [
        "For the exercises we will use the [Boston Housing dataset](https://www.kaggle.com/c/boston-housing), which is part of the sklearn datasets. The function below fits an sklearn regression models, such as linear regresssion, SVR or Random Forest Regression."
      ]
    },
    {
      "cell_type": "code",
      "execution_count": null,
      "metadata": {
        "id": "6tWkHqgi1fHM"
      },
      "outputs": [],
      "source": [
        "def reg_model_accuracy(model, features, labels, randomnumb=42):\n",
        "    '''Convenience function to fit an sklearn regression model and calculate the r2 score'''\n",
        "    import numpy as np\n",
        "    from sklearn.pipeline import make_pipeline\n",
        "    from sklearn.preprocessing import StandardScaler\n",
        "    from sklearn.metrics import r2_score # import the score functions\n",
        "    from sklearn.model_selection import train_test_split\n",
        "\n",
        "    X_train, X_test, y_train, y_test = train_test_split(features, labels, random_state=randomnumb)\n",
        "    pipe = make_pipeline(StandardScaler(), model)\n",
        "    pipe.fit(X_train, y_train)  # apply scaling on training data\n",
        "    y_pred= pipe.predict(X_test) # calculate the predicted values of the model for the test features\n",
        "\n",
        "    rsq = np.round(r2_score(y_test, y_pred),3)\n",
        "\n",
        "    return rsq"
      ]
    },
    {
      "cell_type": "markdown",
      "metadata": {
        "id": "kuRtY1vW1fHM"
      },
      "source": [
        "Load and display the dataset."
      ]
    },
    {
      "cell_type": "code",
      "execution_count": null,
      "metadata": {
        "scrolled": true,
        "id": "yZbjT3aC1fHM",
        "outputId": "0325e08e-c92d-4d9b-ab27-3c68935f0f73"
      },
      "outputs": [
        {
          "data": {
            "text/html": [
              "<div>\n",
              "<style scoped>\n",
              "    .dataframe tbody tr th:only-of-type {\n",
              "        vertical-align: middle;\n",
              "    }\n",
              "\n",
              "    .dataframe tbody tr th {\n",
              "        vertical-align: top;\n",
              "    }\n",
              "\n",
              "    .dataframe thead th {\n",
              "        text-align: right;\n",
              "    }\n",
              "</style>\n",
              "<table border=\"1\" class=\"dataframe\">\n",
              "  <thead>\n",
              "    <tr style=\"text-align: right;\">\n",
              "      <th></th>\n",
              "      <th>CRIM</th>\n",
              "      <th>ZN</th>\n",
              "      <th>INDUS</th>\n",
              "      <th>CHAS</th>\n",
              "      <th>NOX</th>\n",
              "      <th>RM</th>\n",
              "      <th>AGE</th>\n",
              "      <th>DIS</th>\n",
              "      <th>RAD</th>\n",
              "      <th>TAX</th>\n",
              "      <th>PTRATIO</th>\n",
              "      <th>B</th>\n",
              "      <th>LSTAT</th>\n",
              "      <th>MEDV</th>\n",
              "    </tr>\n",
              "  </thead>\n",
              "  <tbody>\n",
              "    <tr>\n",
              "      <th>0</th>\n",
              "      <td>0.00632</td>\n",
              "      <td>18.0</td>\n",
              "      <td>2.31</td>\n",
              "      <td>0</td>\n",
              "      <td>0.538</td>\n",
              "      <td>6.575</td>\n",
              "      <td>65.2</td>\n",
              "      <td>4.0900</td>\n",
              "      <td>1</td>\n",
              "      <td>296</td>\n",
              "      <td>15.3</td>\n",
              "      <td>396.90</td>\n",
              "      <td>4.98</td>\n",
              "      <td>24.0</td>\n",
              "    </tr>\n",
              "    <tr>\n",
              "      <th>1</th>\n",
              "      <td>0.02731</td>\n",
              "      <td>0.0</td>\n",
              "      <td>7.07</td>\n",
              "      <td>0</td>\n",
              "      <td>0.469</td>\n",
              "      <td>6.421</td>\n",
              "      <td>78.9</td>\n",
              "      <td>4.9671</td>\n",
              "      <td>2</td>\n",
              "      <td>242</td>\n",
              "      <td>17.8</td>\n",
              "      <td>396.90</td>\n",
              "      <td>9.14</td>\n",
              "      <td>21.6</td>\n",
              "    </tr>\n",
              "    <tr>\n",
              "      <th>2</th>\n",
              "      <td>0.02729</td>\n",
              "      <td>0.0</td>\n",
              "      <td>7.07</td>\n",
              "      <td>0</td>\n",
              "      <td>0.469</td>\n",
              "      <td>7.185</td>\n",
              "      <td>61.1</td>\n",
              "      <td>4.9671</td>\n",
              "      <td>2</td>\n",
              "      <td>242</td>\n",
              "      <td>17.8</td>\n",
              "      <td>392.83</td>\n",
              "      <td>4.03</td>\n",
              "      <td>34.7</td>\n",
              "    </tr>\n",
              "    <tr>\n",
              "      <th>3</th>\n",
              "      <td>0.03237</td>\n",
              "      <td>0.0</td>\n",
              "      <td>2.18</td>\n",
              "      <td>0</td>\n",
              "      <td>0.458</td>\n",
              "      <td>6.998</td>\n",
              "      <td>45.8</td>\n",
              "      <td>6.0622</td>\n",
              "      <td>3</td>\n",
              "      <td>222</td>\n",
              "      <td>18.7</td>\n",
              "      <td>394.63</td>\n",
              "      <td>2.94</td>\n",
              "      <td>33.4</td>\n",
              "    </tr>\n",
              "    <tr>\n",
              "      <th>4</th>\n",
              "      <td>0.06905</td>\n",
              "      <td>0.0</td>\n",
              "      <td>2.18</td>\n",
              "      <td>0</td>\n",
              "      <td>0.458</td>\n",
              "      <td>7.147</td>\n",
              "      <td>54.2</td>\n",
              "      <td>6.0622</td>\n",
              "      <td>3</td>\n",
              "      <td>222</td>\n",
              "      <td>18.7</td>\n",
              "      <td>396.90</td>\n",
              "      <td>5.33</td>\n",
              "      <td>36.2</td>\n",
              "    </tr>\n",
              "    <tr>\n",
              "      <th>...</th>\n",
              "      <td>...</td>\n",
              "      <td>...</td>\n",
              "      <td>...</td>\n",
              "      <td>...</td>\n",
              "      <td>...</td>\n",
              "      <td>...</td>\n",
              "      <td>...</td>\n",
              "      <td>...</td>\n",
              "      <td>...</td>\n",
              "      <td>...</td>\n",
              "      <td>...</td>\n",
              "      <td>...</td>\n",
              "      <td>...</td>\n",
              "      <td>...</td>\n",
              "    </tr>\n",
              "    <tr>\n",
              "      <th>501</th>\n",
              "      <td>0.06263</td>\n",
              "      <td>0.0</td>\n",
              "      <td>11.93</td>\n",
              "      <td>0</td>\n",
              "      <td>0.573</td>\n",
              "      <td>6.593</td>\n",
              "      <td>69.1</td>\n",
              "      <td>2.4786</td>\n",
              "      <td>1</td>\n",
              "      <td>273</td>\n",
              "      <td>21.0</td>\n",
              "      <td>391.99</td>\n",
              "      <td>9.67</td>\n",
              "      <td>22.4</td>\n",
              "    </tr>\n",
              "    <tr>\n",
              "      <th>502</th>\n",
              "      <td>0.04527</td>\n",
              "      <td>0.0</td>\n",
              "      <td>11.93</td>\n",
              "      <td>0</td>\n",
              "      <td>0.573</td>\n",
              "      <td>6.120</td>\n",
              "      <td>76.7</td>\n",
              "      <td>2.2875</td>\n",
              "      <td>1</td>\n",
              "      <td>273</td>\n",
              "      <td>21.0</td>\n",
              "      <td>396.90</td>\n",
              "      <td>9.08</td>\n",
              "      <td>20.6</td>\n",
              "    </tr>\n",
              "    <tr>\n",
              "      <th>503</th>\n",
              "      <td>0.06076</td>\n",
              "      <td>0.0</td>\n",
              "      <td>11.93</td>\n",
              "      <td>0</td>\n",
              "      <td>0.573</td>\n",
              "      <td>6.976</td>\n",
              "      <td>91.0</td>\n",
              "      <td>2.1675</td>\n",
              "      <td>1</td>\n",
              "      <td>273</td>\n",
              "      <td>21.0</td>\n",
              "      <td>396.90</td>\n",
              "      <td>5.64</td>\n",
              "      <td>23.9</td>\n",
              "    </tr>\n",
              "    <tr>\n",
              "      <th>504</th>\n",
              "      <td>0.10959</td>\n",
              "      <td>0.0</td>\n",
              "      <td>11.93</td>\n",
              "      <td>0</td>\n",
              "      <td>0.573</td>\n",
              "      <td>6.794</td>\n",
              "      <td>89.3</td>\n",
              "      <td>2.3889</td>\n",
              "      <td>1</td>\n",
              "      <td>273</td>\n",
              "      <td>21.0</td>\n",
              "      <td>393.45</td>\n",
              "      <td>6.48</td>\n",
              "      <td>22.0</td>\n",
              "    </tr>\n",
              "    <tr>\n",
              "      <th>505</th>\n",
              "      <td>0.04741</td>\n",
              "      <td>0.0</td>\n",
              "      <td>11.93</td>\n",
              "      <td>0</td>\n",
              "      <td>0.573</td>\n",
              "      <td>6.030</td>\n",
              "      <td>80.8</td>\n",
              "      <td>2.5050</td>\n",
              "      <td>1</td>\n",
              "      <td>273</td>\n",
              "      <td>21.0</td>\n",
              "      <td>396.90</td>\n",
              "      <td>7.88</td>\n",
              "      <td>11.9</td>\n",
              "    </tr>\n",
              "  </tbody>\n",
              "</table>\n",
              "<p>506 rows × 14 columns</p>\n",
              "</div>"
            ],
            "text/plain": [
              "        CRIM    ZN  INDUS  CHAS    NOX     RM   AGE     DIS  RAD  TAX  \\\n",
              "0    0.00632  18.0   2.31     0  0.538  6.575  65.2  4.0900    1  296   \n",
              "1    0.02731   0.0   7.07     0  0.469  6.421  78.9  4.9671    2  242   \n",
              "2    0.02729   0.0   7.07     0  0.469  7.185  61.1  4.9671    2  242   \n",
              "3    0.03237   0.0   2.18     0  0.458  6.998  45.8  6.0622    3  222   \n",
              "4    0.06905   0.0   2.18     0  0.458  7.147  54.2  6.0622    3  222   \n",
              "..       ...   ...    ...   ...    ...    ...   ...     ...  ...  ...   \n",
              "501  0.06263   0.0  11.93     0  0.573  6.593  69.1  2.4786    1  273   \n",
              "502  0.04527   0.0  11.93     0  0.573  6.120  76.7  2.2875    1  273   \n",
              "503  0.06076   0.0  11.93     0  0.573  6.976  91.0  2.1675    1  273   \n",
              "504  0.10959   0.0  11.93     0  0.573  6.794  89.3  2.3889    1  273   \n",
              "505  0.04741   0.0  11.93     0  0.573  6.030  80.8  2.5050    1  273   \n",
              "\n",
              "     PTRATIO       B  LSTAT  MEDV  \n",
              "0       15.3  396.90   4.98  24.0  \n",
              "1       17.8  396.90   9.14  21.6  \n",
              "2       17.8  392.83   4.03  34.7  \n",
              "3       18.7  394.63   2.94  33.4  \n",
              "4       18.7  396.90   5.33  36.2  \n",
              "..       ...     ...    ...   ...  \n",
              "501     21.0  391.99   9.67  22.4  \n",
              "502     21.0  396.90   9.08  20.6  \n",
              "503     21.0  396.90   5.64  23.9  \n",
              "504     21.0  393.45   6.48  22.0  \n",
              "505     21.0  396.90   7.88  11.9  \n",
              "\n",
              "[506 rows x 14 columns]"
            ]
          },
          "execution_count": 35,
          "metadata": {},
          "output_type": "execute_result"
        }
      ],
      "source": [
        "Boston = pd.read_csv('housing.csv')\n",
        "BostonFeatures = Boston.drop(columns=['MEDV'])\n",
        "BostonLabels = Boston['MEDV']\n",
        "Boston"
      ]
    },
    {
      "cell_type": "markdown",
      "metadata": {
        "id": "L-3ujMpf1fHM"
      },
      "source": [
        "### Exercise 1 (2 marks)"
      ]
    },
    {
      "cell_type": "markdown",
      "metadata": {
        "id": "DyyVAYqi1fHM"
      },
      "source": [
        "Create a base regression model using the RandomForestRegressor."
      ]
    },
    {
      "cell_type": "code",
      "execution_count": null,
      "metadata": {
        "id": "lceh7_rd1fHM",
        "outputId": "01cd007f-0738-478a-c2a6-ce23ba8cde2a"
      },
      "outputs": [
        {
          "name": "stdout",
          "output_type": "stream",
          "text": [
            "0.847\n"
          ]
        }
      ],
      "source": [
        "from sklearn.ensemble import RandomForestRegressor\n",
        "\n",
        "random = RandomForestRegressor()\n",
        "base = reg_model_accuracy(random, BostonFeatures, BostonLabels)\n",
        "print(base)\n"
      ]
    },
    {
      "cell_type": "markdown",
      "metadata": {
        "id": "CFJ76gEC1fHN"
      },
      "source": [
        "### Exercise 2 (4 marks)"
      ]
    },
    {
      "cell_type": "markdown",
      "metadata": {
        "id": "afnnAe7j1fHN"
      },
      "source": [
        "Use SelectKBest using f_regression to select the best 5 features. Print out these features and determine the accuracy of the RandomForestRegressor with this reduced dataset."
      ]
    },
    {
      "cell_type": "code",
      "execution_count": null,
      "metadata": {
        "id": "n2SI47qH1fHN",
        "outputId": "98128f6f-f1cc-4955-a86c-cbc00c93f507"
      },
      "outputs": [
        {
          "name": "stdout",
          "output_type": "stream",
          "text": [
            "Index(['INDUS', 'RM', 'TAX', 'PTRATIO', 'LSTAT'], dtype='object')\n",
            "0.767\n"
          ]
        }
      ],
      "source": [
        "select_k = SelectKBest(f_regression, k=5)\n",
        "new_feat = select_k.fit_transform(BostonFeatures, BostonLabels)\n",
        "print(BostonFeatures.columns[select_k.get_support()])\n",
        "\n",
        "lin_reg = RandomForestRegressor()\n",
        "acc = reg_model_accuracy(lin_reg, new_feat, BostonLabels)\n",
        "print(acc)\n"
      ]
    },
    {
      "cell_type": "markdown",
      "metadata": {
        "id": "DhAvNpA_1fHN"
      },
      "source": [
        "### Exercise 3 (4 marks)"
      ]
    },
    {
      "cell_type": "markdown",
      "metadata": {
        "id": "ruGzd8Mi1fHN"
      },
      "source": [
        "Repeat Exercise 2, but use RFE (Recursive Feature Elimination)."
      ]
    },
    {
      "cell_type": "code",
      "execution_count": null,
      "metadata": {
        "id": "d9mScwkw1fHO",
        "outputId": "fa3a3a71-b0ba-4693-ea69-778f89e527cc"
      },
      "outputs": [
        {
          "name": "stdout",
          "output_type": "stream",
          "text": [
            "Index(['CRIM', 'NOX', 'RM', 'DIS', 'LSTAT'], dtype='object')\n",
            "0.839\n"
          ]
        }
      ],
      "source": [
        "estimate = RandomForestRegressor()\n",
        "select = RFE(estimate, n_features_to_select=5, step=1)\n",
        "feat_new = select.fit_transform(BostonFeatures, BostonLabels)\n",
        "print(BostonFeatures.columns[select.get_support()])\n",
        "\n",
        "reg_for = RandomForestRegressor()\n",
        "acc_2 = reg_model_accuracy(reg_for, feat_new, BostonLabels)\n",
        "print(acc_2)\n"
      ]
    },
    {
      "cell_type": "markdown",
      "metadata": {
        "id": "oNGeG_US1fHO"
      },
      "source": [
        "### Generative AI Acknowledgement"
      ]
    },
    {
      "cell_type": "markdown",
      "metadata": {
        "id": "w0MZRJL41fHO"
      },
      "source": [
        "If you used generative AI to assist you with these excercises, document your use below following the guidelines here: https://www.monash.edu/learnhq/build-digital-capabilities/create-online/acknowledging-the-use-of-generative-artificial-intelligence"
      ]
    },
    {
      "cell_type": "code",
      "execution_count": null,
      "metadata": {
        "id": "QGiRjnkS1fHP"
      },
      "outputs": [],
      "source": [
        "N/A"
      ]
    }
  ],
  "metadata": {
    "kernelspec": {
      "display_name": "Python 3 (ipykernel)",
      "language": "python",
      "name": "python3"
    },
    "language_info": {
      "codemirror_mode": {
        "name": "ipython",
        "version": 3
      },
      "file_extension": ".py",
      "mimetype": "text/x-python",
      "name": "python",
      "nbconvert_exporter": "python",
      "pygments_lexer": "ipython3",
      "version": "3.9.7"
    },
    "colab": {
      "provenance": [],
      "include_colab_link": true
    }
  },
  "nbformat": 4,
  "nbformat_minor": 0
}