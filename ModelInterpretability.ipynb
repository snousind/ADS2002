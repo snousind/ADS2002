{
  "cells": [
    {
      "cell_type": "markdown",
      "metadata": {
        "id": "view-in-github",
        "colab_type": "text"
      },
      "source": [
        "<a href=\"https://colab.research.google.com/github/snousind/ADS2002/blob/main/ModelInterpretability.ipynb\" target=\"_parent\"><img src=\"https://colab.research.google.com/assets/colab-badge.svg\" alt=\"Open In Colab\"/></a>"
      ]
    },
    {
      "cell_type": "markdown",
      "metadata": {
        "id": "eIlJvw51mbUq"
      },
      "source": [
        "# Model Interpretability"
      ]
    },
    {
      "cell_type": "code",
      "execution_count": null,
      "metadata": {
        "colab": {
          "base_uri": "https://localhost:8080/"
        },
        "id": "8yC4sXpHoVVg",
        "outputId": "a937219d-ed65-4674-e812-53d097beaba4"
      },
      "outputs": [
        {
          "name": "stdout",
          "output_type": "stream",
          "text": [
            "Drive already mounted at /content/drive; to attempt to forcibly remount, call drive.mount(\"/content/drive\", force_remount=True).\n"
          ]
        }
      ],
      "source": [
        "from google.colab import drive\n",
        "drive.mount('/content/drive')"
      ]
    },
    {
      "cell_type": "markdown",
      "metadata": {
        "id": "XsIL3S5VmbUv"
      },
      "source": [
        "One of the advantages of linear models is that it is simple to interpret the effect of features on the predictions of the model. By inspecting the coefficients you can determine the final effect of the model prediction. For example, for a linear regression model\n",
        "\n",
        "$$ y = c_1 x_1 + c_2 x_2 + \\cdots + c_n x_n, $$\n",
        "\n",
        "then if $x_1$ is changed by a small amount $\\Delta x$, then the resulting change in $y$ will be $c_1 \\Delta x$. For a classification problem this change in $y$ is then an input to the logistic function which determines the probability. If $c_1$ is negative then $y$ and $x_1$ are then negatively correlated, i.e., a positive value of $\\Delta x$ will decrease $y$. Hence, for a linear model, which includes Ridge and Lasso regularization, and linear SVM, the coefficients give us global and local interpretability. That is, they inform us about the consequence of small changes in the features for individual observations and for the overall output of the model. The other advantage of the coefficients of linear models, is that there is no extra cost to calculate these.\n",
        "\n",
        "We have also discussed model interpretability with tree based models such as Decision Trees and Random Forests. These models return the feature importance field, which determines how much a feature contributes to reducing the weighted Gini score (impurity) or entropy for classification problems, or the variance for regression problems. By ranking the features we can investigate which features have the most significant effect on creating the tree. Again this is easy to interpret and fast to calculate. However, these do not inform us about changes in individual observations, including the directionality of changes. The feature importance also favours continuous features or categorial features with a large number of options.\n",
        "\n",
        "For black box models such as k-Nearest Neighbours or artificial neural networks it becomes much more difficult to interpret the output of a model, and having such observations could be crucial in convincing a client of the suitability of a model, or trying to understand why a model predicts a medical condition.\n",
        "\n",
        "In this activity we will introduce two modern techniques for interpreting models: LIME and SHAP."
      ]
    },
    {
      "cell_type": "markdown",
      "metadata": {
        "id": "mYHNaKozmbUw"
      },
      "source": [
        "## Contents\n",
        "\n",
        "* Problem setup\n",
        "* Coefficients of the linear model\n",
        "* Feature importance for tree models\n",
        "* LIME values\n",
        "* SHAP values\n",
        "* Exercises"
      ]
    },
    {
      "cell_type": "markdown",
      "metadata": {
        "id": "6iGFq9QmmbUw"
      },
      "source": [
        "## Problem setup"
      ]
    },
    {
      "cell_type": "markdown",
      "metadata": {
        "id": "taiu93H0CrGM"
      },
      "source": [
        "We will again use the Abalone dataset, which can be downloaded from [Monash Gitlab](https://gitlab.erc.monash.edu.au/bads/data-challenges-resources/-/tree/main/Machine-Learning/Imputation/abalone.csv). This will need to be saved in your working directory.\n",
        "\n",
        "You will probably need to uncomment the following cell to install the required packages."
      ]
    },
    {
      "cell_type": "code",
      "execution_count": null,
      "metadata": {
        "colab": {
          "base_uri": "https://localhost:8080/"
        },
        "id": "2PkF3EHAmbUx",
        "outputId": "183e41d6-9548-4a7c-baab-8fe04b7fbf25"
      },
      "outputs": [
        {
          "name": "stdout",
          "output_type": "stream",
          "text": [
            "Looking in indexes: https://pypi.org/simple, https://us-python.pkg.dev/colab-wheels/public/simple/\n",
            "Requirement already satisfied: lime in /usr/local/lib/python3.7/dist-packages (0.2.0.1)\n",
            "Requirement already satisfied: scikit-learn>=0.18 in /usr/local/lib/python3.7/dist-packages (from lime) (1.0.2)\n",
            "Requirement already satisfied: scikit-image>=0.12 in /usr/local/lib/python3.7/dist-packages (from lime) (0.18.3)\n",
            "Requirement already satisfied: scipy in /usr/local/lib/python3.7/dist-packages (from lime) (1.7.3)\n",
            "Requirement already satisfied: tqdm in /usr/local/lib/python3.7/dist-packages (from lime) (4.64.0)\n",
            "Requirement already satisfied: numpy in /usr/local/lib/python3.7/dist-packages (from lime) (1.21.6)\n",
            "Requirement already satisfied: matplotlib in /usr/local/lib/python3.7/dist-packages (from lime) (3.2.2)\n",
            "Requirement already satisfied: tifffile>=2019.7.26 in /usr/local/lib/python3.7/dist-packages (from scikit-image>=0.12->lime) (2021.11.2)\n",
            "Requirement already satisfied: networkx>=2.0 in /usr/local/lib/python3.7/dist-packages (from scikit-image>=0.12->lime) (2.6.3)\n",
            "Requirement already satisfied: PyWavelets>=1.1.1 in /usr/local/lib/python3.7/dist-packages (from scikit-image>=0.12->lime) (1.3.0)\n",
            "Requirement already satisfied: imageio>=2.3.0 in /usr/local/lib/python3.7/dist-packages (from scikit-image>=0.12->lime) (2.9.0)\n",
            "Requirement already satisfied: pillow!=7.1.0,!=7.1.1,>=4.3.0 in /usr/local/lib/python3.7/dist-packages (from scikit-image>=0.12->lime) (7.1.2)\n",
            "Requirement already satisfied: pyparsing!=2.0.4,!=2.1.2,!=2.1.6,>=2.0.1 in /usr/local/lib/python3.7/dist-packages (from matplotlib->lime) (3.0.9)\n",
            "Requirement already satisfied: cycler>=0.10 in /usr/local/lib/python3.7/dist-packages (from matplotlib->lime) (0.11.0)\n",
            "Requirement already satisfied: kiwisolver>=1.0.1 in /usr/local/lib/python3.7/dist-packages (from matplotlib->lime) (1.4.4)\n",
            "Requirement already satisfied: python-dateutil>=2.1 in /usr/local/lib/python3.7/dist-packages (from matplotlib->lime) (2.8.2)\n",
            "Requirement already satisfied: typing-extensions in /usr/local/lib/python3.7/dist-packages (from kiwisolver>=1.0.1->matplotlib->lime) (4.1.1)\n",
            "Requirement already satisfied: six>=1.5 in /usr/local/lib/python3.7/dist-packages (from python-dateutil>=2.1->matplotlib->lime) (1.15.0)\n",
            "Requirement already satisfied: joblib>=0.11 in /usr/local/lib/python3.7/dist-packages (from scikit-learn>=0.18->lime) (1.1.0)\n",
            "Requirement already satisfied: threadpoolctl>=2.0.0 in /usr/local/lib/python3.7/dist-packages (from scikit-learn>=0.18->lime) (3.1.0)\n",
            "Looking in indexes: https://pypi.org/simple, https://us-python.pkg.dev/colab-wheels/public/simple/\n",
            "Requirement already satisfied: shap in /usr/local/lib/python3.7/dist-packages (0.41.0)\n",
            "Requirement already satisfied: numpy in /usr/local/lib/python3.7/dist-packages (from shap) (1.21.6)\n",
            "Requirement already satisfied: tqdm>4.25.0 in /usr/local/lib/python3.7/dist-packages (from shap) (4.64.0)\n",
            "Requirement already satisfied: pandas in /usr/local/lib/python3.7/dist-packages (from shap) (1.3.5)\n",
            "Requirement already satisfied: slicer==0.0.7 in /usr/local/lib/python3.7/dist-packages (from shap) (0.0.7)\n",
            "Requirement already satisfied: numba in /usr/local/lib/python3.7/dist-packages (from shap) (0.56.0)\n",
            "Requirement already satisfied: packaging>20.9 in /usr/local/lib/python3.7/dist-packages (from shap) (21.3)\n",
            "Requirement already satisfied: scikit-learn in /usr/local/lib/python3.7/dist-packages (from shap) (1.0.2)\n",
            "Requirement already satisfied: cloudpickle in /usr/local/lib/python3.7/dist-packages (from shap) (1.3.0)\n",
            "Requirement already satisfied: scipy in /usr/local/lib/python3.7/dist-packages (from shap) (1.7.3)\n",
            "Requirement already satisfied: pyparsing!=3.0.5,>=2.0.2 in /usr/local/lib/python3.7/dist-packages (from packaging>20.9->shap) (3.0.9)\n",
            "Requirement already satisfied: setuptools in /usr/local/lib/python3.7/dist-packages (from numba->shap) (57.4.0)\n",
            "Requirement already satisfied: importlib-metadata in /usr/local/lib/python3.7/dist-packages (from numba->shap) (4.12.0)\n",
            "Requirement already satisfied: llvmlite<0.40,>=0.39.0dev0 in /usr/local/lib/python3.7/dist-packages (from numba->shap) (0.39.0)\n",
            "Requirement already satisfied: typing-extensions>=3.6.4 in /usr/local/lib/python3.7/dist-packages (from importlib-metadata->numba->shap) (4.1.1)\n",
            "Requirement already satisfied: zipp>=0.5 in /usr/local/lib/python3.7/dist-packages (from importlib-metadata->numba->shap) (3.8.1)\n",
            "Requirement already satisfied: python-dateutil>=2.7.3 in /usr/local/lib/python3.7/dist-packages (from pandas->shap) (2.8.2)\n",
            "Requirement already satisfied: pytz>=2017.3 in /usr/local/lib/python3.7/dist-packages (from pandas->shap) (2022.1)\n",
            "Requirement already satisfied: six>=1.5 in /usr/local/lib/python3.7/dist-packages (from python-dateutil>=2.7.3->pandas->shap) (1.15.0)\n",
            "Requirement already satisfied: joblib>=0.11 in /usr/local/lib/python3.7/dist-packages (from scikit-learn->shap) (1.1.0)\n",
            "Requirement already satisfied: threadpoolctl>=2.0.0 in /usr/local/lib/python3.7/dist-packages (from scikit-learn->shap) (3.1.0)\n",
            "Looking in indexes: https://pypi.org/simple, https://us-python.pkg.dev/colab-wheels/public/simple/\n",
            "Requirement already satisfied: seaborn in /usr/local/lib/python3.7/dist-packages (0.11.2)\n",
            "Requirement already satisfied: matplotlib>=2.2 in /usr/local/lib/python3.7/dist-packages (from seaborn) (3.2.2)\n",
            "Requirement already satisfied: numpy>=1.15 in /usr/local/lib/python3.7/dist-packages (from seaborn) (1.21.6)\n",
            "Requirement already satisfied: scipy>=1.0 in /usr/local/lib/python3.7/dist-packages (from seaborn) (1.7.3)\n",
            "Requirement already satisfied: pandas>=0.23 in /usr/local/lib/python3.7/dist-packages (from seaborn) (1.3.5)\n",
            "Requirement already satisfied: kiwisolver>=1.0.1 in /usr/local/lib/python3.7/dist-packages (from matplotlib>=2.2->seaborn) (1.4.4)\n",
            "Requirement already satisfied: python-dateutil>=2.1 in /usr/local/lib/python3.7/dist-packages (from matplotlib>=2.2->seaborn) (2.8.2)\n",
            "Requirement already satisfied: cycler>=0.10 in /usr/local/lib/python3.7/dist-packages (from matplotlib>=2.2->seaborn) (0.11.0)\n",
            "Requirement already satisfied: pyparsing!=2.0.4,!=2.1.2,!=2.1.6,>=2.0.1 in /usr/local/lib/python3.7/dist-packages (from matplotlib>=2.2->seaborn) (3.0.9)\n",
            "Requirement already satisfied: typing-extensions in /usr/local/lib/python3.7/dist-packages (from kiwisolver>=1.0.1->matplotlib>=2.2->seaborn) (4.1.1)\n",
            "Requirement already satisfied: pytz>=2017.3 in /usr/local/lib/python3.7/dist-packages (from pandas>=0.23->seaborn) (2022.1)\n",
            "Requirement already satisfied: six>=1.5 in /usr/local/lib/python3.7/dist-packages (from python-dateutil>=2.1->matplotlib>=2.2->seaborn) (1.15.0)\n"
          ]
        }
      ],
      "source": [
        "!pip3 install -U lime\n",
        "!pip3 install -U shap\n",
        "!pip3 install -U seaborn"
      ]
    },
    {
      "cell_type": "markdown",
      "metadata": {
        "id": "UM4qUGQ6mbUx"
      },
      "source": [
        "Now we import the usual libraries, and the LIME and SHAP libraries."
      ]
    },
    {
      "cell_type": "code",
      "execution_count": null,
      "metadata": {
        "id": "uv07U-n0CrGO"
      },
      "outputs": [],
      "source": [
        "import pandas as pd\n",
        "import numpy as np\n",
        "from matplotlib import pyplot as plt\n",
        "import seaborn as sns\n",
        "import lime\n",
        "import shap"
      ]
    },
    {
      "cell_type": "markdown",
      "metadata": {
        "id": "2JcMg_39mbUz"
      },
      "source": [
        "Then we can read in the abalone dataset and save to a dataframe. This is a clean dataset, so no need for any extensive preprocessing. Recall that the age can be calculated as $Age = Rings+1.5$."
      ]
    },
    {
      "cell_type": "code",
      "execution_count": null,
      "metadata": {
        "colab": {
          "base_uri": "https://localhost:8080/",
          "height": 206
        },
        "id": "hc4xjwCpCrGQ",
        "outputId": "31236c33-bc10-4571-8cfe-ebc341c50963"
      },
      "outputs": [
        {
          "data": {
            "text/html": [
              "\n",
              "  <div id=\"df-ba70ca4a-0b8b-4333-9868-56c7c2fcd8af\">\n",
              "    <div class=\"colab-df-container\">\n",
              "      <div>\n",
              "<style scoped>\n",
              "    .dataframe tbody tr th:only-of-type {\n",
              "        vertical-align: middle;\n",
              "    }\n",
              "\n",
              "    .dataframe tbody tr th {\n",
              "        vertical-align: top;\n",
              "    }\n",
              "\n",
              "    .dataframe thead th {\n",
              "        text-align: right;\n",
              "    }\n",
              "</style>\n",
              "<table border=\"1\" class=\"dataframe\">\n",
              "  <thead>\n",
              "    <tr style=\"text-align: right;\">\n",
              "      <th></th>\n",
              "      <th>Sex</th>\n",
              "      <th>Length</th>\n",
              "      <th>Diameter</th>\n",
              "      <th>Height</th>\n",
              "      <th>Whole weight</th>\n",
              "      <th>Shucked weight</th>\n",
              "      <th>Viscera weight</th>\n",
              "      <th>Shell weight</th>\n",
              "      <th>Rings</th>\n",
              "    </tr>\n",
              "  </thead>\n",
              "  <tbody>\n",
              "    <tr>\n",
              "      <th>0</th>\n",
              "      <td>M</td>\n",
              "      <td>0.455</td>\n",
              "      <td>0.365</td>\n",
              "      <td>0.095</td>\n",
              "      <td>0.5140</td>\n",
              "      <td>0.2245</td>\n",
              "      <td>0.1010</td>\n",
              "      <td>0.150</td>\n",
              "      <td>15</td>\n",
              "    </tr>\n",
              "    <tr>\n",
              "      <th>1</th>\n",
              "      <td>M</td>\n",
              "      <td>0.350</td>\n",
              "      <td>0.265</td>\n",
              "      <td>0.090</td>\n",
              "      <td>0.2255</td>\n",
              "      <td>0.0995</td>\n",
              "      <td>0.0485</td>\n",
              "      <td>0.070</td>\n",
              "      <td>7</td>\n",
              "    </tr>\n",
              "    <tr>\n",
              "      <th>2</th>\n",
              "      <td>F</td>\n",
              "      <td>0.530</td>\n",
              "      <td>0.420</td>\n",
              "      <td>0.135</td>\n",
              "      <td>0.6770</td>\n",
              "      <td>0.2565</td>\n",
              "      <td>0.1415</td>\n",
              "      <td>0.210</td>\n",
              "      <td>9</td>\n",
              "    </tr>\n",
              "    <tr>\n",
              "      <th>3</th>\n",
              "      <td>M</td>\n",
              "      <td>0.440</td>\n",
              "      <td>0.365</td>\n",
              "      <td>0.125</td>\n",
              "      <td>0.5160</td>\n",
              "      <td>0.2155</td>\n",
              "      <td>0.1140</td>\n",
              "      <td>0.155</td>\n",
              "      <td>10</td>\n",
              "    </tr>\n",
              "    <tr>\n",
              "      <th>4</th>\n",
              "      <td>I</td>\n",
              "      <td>0.330</td>\n",
              "      <td>0.255</td>\n",
              "      <td>0.080</td>\n",
              "      <td>0.2050</td>\n",
              "      <td>0.0895</td>\n",
              "      <td>0.0395</td>\n",
              "      <td>0.055</td>\n",
              "      <td>7</td>\n",
              "    </tr>\n",
              "  </tbody>\n",
              "</table>\n",
              "</div>\n",
              "      <button class=\"colab-df-convert\" onclick=\"convertToInteractive('df-ba70ca4a-0b8b-4333-9868-56c7c2fcd8af')\"\n",
              "              title=\"Convert this dataframe to an interactive table.\"\n",
              "              style=\"display:none;\">\n",
              "        \n",
              "  <svg xmlns=\"http://www.w3.org/2000/svg\" height=\"24px\"viewBox=\"0 0 24 24\"\n",
              "       width=\"24px\">\n",
              "    <path d=\"M0 0h24v24H0V0z\" fill=\"none\"/>\n",
              "    <path d=\"M18.56 5.44l.94 2.06.94-2.06 2.06-.94-2.06-.94-.94-2.06-.94 2.06-2.06.94zm-11 1L8.5 8.5l.94-2.06 2.06-.94-2.06-.94L8.5 2.5l-.94 2.06-2.06.94zm10 10l.94 2.06.94-2.06 2.06-.94-2.06-.94-.94-2.06-.94 2.06-2.06.94z\"/><path d=\"M17.41 7.96l-1.37-1.37c-.4-.4-.92-.59-1.43-.59-.52 0-1.04.2-1.43.59L10.3 9.45l-7.72 7.72c-.78.78-.78 2.05 0 2.83L4 21.41c.39.39.9.59 1.41.59.51 0 1.02-.2 1.41-.59l7.78-7.78 2.81-2.81c.8-.78.8-2.07 0-2.86zM5.41 20L4 18.59l7.72-7.72 1.47 1.35L5.41 20z\"/>\n",
              "  </svg>\n",
              "      </button>\n",
              "      \n",
              "  <style>\n",
              "    .colab-df-container {\n",
              "      display:flex;\n",
              "      flex-wrap:wrap;\n",
              "      gap: 12px;\n",
              "    }\n",
              "\n",
              "    .colab-df-convert {\n",
              "      background-color: #E8F0FE;\n",
              "      border: none;\n",
              "      border-radius: 50%;\n",
              "      cursor: pointer;\n",
              "      display: none;\n",
              "      fill: #1967D2;\n",
              "      height: 32px;\n",
              "      padding: 0 0 0 0;\n",
              "      width: 32px;\n",
              "    }\n",
              "\n",
              "    .colab-df-convert:hover {\n",
              "      background-color: #E2EBFA;\n",
              "      box-shadow: 0px 1px 2px rgba(60, 64, 67, 0.3), 0px 1px 3px 1px rgba(60, 64, 67, 0.15);\n",
              "      fill: #174EA6;\n",
              "    }\n",
              "\n",
              "    [theme=dark] .colab-df-convert {\n",
              "      background-color: #3B4455;\n",
              "      fill: #D2E3FC;\n",
              "    }\n",
              "\n",
              "    [theme=dark] .colab-df-convert:hover {\n",
              "      background-color: #434B5C;\n",
              "      box-shadow: 0px 1px 3px 1px rgba(0, 0, 0, 0.15);\n",
              "      filter: drop-shadow(0px 1px 2px rgba(0, 0, 0, 0.3));\n",
              "      fill: #FFFFFF;\n",
              "    }\n",
              "  </style>\n",
              "\n",
              "      <script>\n",
              "        const buttonEl =\n",
              "          document.querySelector('#df-ba70ca4a-0b8b-4333-9868-56c7c2fcd8af button.colab-df-convert');\n",
              "        buttonEl.style.display =\n",
              "          google.colab.kernel.accessAllowed ? 'block' : 'none';\n",
              "\n",
              "        async function convertToInteractive(key) {\n",
              "          const element = document.querySelector('#df-ba70ca4a-0b8b-4333-9868-56c7c2fcd8af');\n",
              "          const dataTable =\n",
              "            await google.colab.kernel.invokeFunction('convertToInteractive',\n",
              "                                                     [key], {});\n",
              "          if (!dataTable) return;\n",
              "\n",
              "          const docLinkHtml = 'Like what you see? Visit the ' +\n",
              "            '<a target=\"_blank\" href=https://colab.research.google.com/notebooks/data_table.ipynb>data table notebook</a>'\n",
              "            + ' to learn more about interactive tables.';\n",
              "          element.innerHTML = '';\n",
              "          dataTable['output_type'] = 'display_data';\n",
              "          await google.colab.output.renderOutput(dataTable, element);\n",
              "          const docLink = document.createElement('div');\n",
              "          docLink.innerHTML = docLinkHtml;\n",
              "          element.appendChild(docLink);\n",
              "        }\n",
              "      </script>\n",
              "    </div>\n",
              "  </div>\n",
              "  "
            ],
            "text/plain": [
              "  Sex  Length  Diameter  Height  Whole weight  Shucked weight  Viscera weight  \\\n",
              "0   M   0.455     0.365   0.095        0.5140          0.2245          0.1010   \n",
              "1   M   0.350     0.265   0.090        0.2255          0.0995          0.0485   \n",
              "2   F   0.530     0.420   0.135        0.6770          0.2565          0.1415   \n",
              "3   M   0.440     0.365   0.125        0.5160          0.2155          0.1140   \n",
              "4   I   0.330     0.255   0.080        0.2050          0.0895          0.0395   \n",
              "\n",
              "   Shell weight  Rings  \n",
              "0         0.150     15  \n",
              "1         0.070      7  \n",
              "2         0.210      9  \n",
              "3         0.155     10  \n",
              "4         0.055      7  "
            ]
          },
          "execution_count": 31,
          "metadata": {},
          "output_type": "execute_result"
        }
      ],
      "source": [
        "abalone = pd.read_csv(\"/content/drive/MyDrive/ColabData/abalone.csv\")\n",
        "abalone.head()"
      ]
    },
    {
      "cell_type": "markdown",
      "metadata": {
        "id": "UYHlwOnombU1"
      },
      "source": [
        "The only requirement for modelling is that we convert the `Sex` field to categorical columns. This field has three values: `M` - male, `F` - female and `I` - infant. Then the `Sex` field can be dropped."
      ]
    },
    {
      "cell_type": "code",
      "execution_count": null,
      "metadata": {
        "colab": {
          "base_uri": "https://localhost:8080/",
          "height": 206
        },
        "id": "e64hMSoaCrGQ",
        "outputId": "e128802e-bf2e-4cf1-ce50-0ce6c493f191"
      },
      "outputs": [
        {
          "data": {
            "text/html": [
              "\n",
              "  <div id=\"df-d2ea92ec-b61b-46b2-95f9-e7d01789caf5\">\n",
              "    <div class=\"colab-df-container\">\n",
              "      <div>\n",
              "<style scoped>\n",
              "    .dataframe tbody tr th:only-of-type {\n",
              "        vertical-align: middle;\n",
              "    }\n",
              "\n",
              "    .dataframe tbody tr th {\n",
              "        vertical-align: top;\n",
              "    }\n",
              "\n",
              "    .dataframe thead th {\n",
              "        text-align: right;\n",
              "    }\n",
              "</style>\n",
              "<table border=\"1\" class=\"dataframe\">\n",
              "  <thead>\n",
              "    <tr style=\"text-align: right;\">\n",
              "      <th></th>\n",
              "      <th>Length</th>\n",
              "      <th>Diameter</th>\n",
              "      <th>Height</th>\n",
              "      <th>Whole weight</th>\n",
              "      <th>Shucked weight</th>\n",
              "      <th>Viscera weight</th>\n",
              "      <th>Shell weight</th>\n",
              "      <th>Rings</th>\n",
              "      <th>F</th>\n",
              "      <th>I</th>\n",
              "      <th>M</th>\n",
              "    </tr>\n",
              "  </thead>\n",
              "  <tbody>\n",
              "    <tr>\n",
              "      <th>0</th>\n",
              "      <td>0.455</td>\n",
              "      <td>0.365</td>\n",
              "      <td>0.095</td>\n",
              "      <td>0.5140</td>\n",
              "      <td>0.2245</td>\n",
              "      <td>0.1010</td>\n",
              "      <td>0.150</td>\n",
              "      <td>15</td>\n",
              "      <td>0</td>\n",
              "      <td>0</td>\n",
              "      <td>1</td>\n",
              "    </tr>\n",
              "    <tr>\n",
              "      <th>1</th>\n",
              "      <td>0.350</td>\n",
              "      <td>0.265</td>\n",
              "      <td>0.090</td>\n",
              "      <td>0.2255</td>\n",
              "      <td>0.0995</td>\n",
              "      <td>0.0485</td>\n",
              "      <td>0.070</td>\n",
              "      <td>7</td>\n",
              "      <td>0</td>\n",
              "      <td>0</td>\n",
              "      <td>1</td>\n",
              "    </tr>\n",
              "    <tr>\n",
              "      <th>2</th>\n",
              "      <td>0.530</td>\n",
              "      <td>0.420</td>\n",
              "      <td>0.135</td>\n",
              "      <td>0.6770</td>\n",
              "      <td>0.2565</td>\n",
              "      <td>0.1415</td>\n",
              "      <td>0.210</td>\n",
              "      <td>9</td>\n",
              "      <td>1</td>\n",
              "      <td>0</td>\n",
              "      <td>0</td>\n",
              "    </tr>\n",
              "    <tr>\n",
              "      <th>3</th>\n",
              "      <td>0.440</td>\n",
              "      <td>0.365</td>\n",
              "      <td>0.125</td>\n",
              "      <td>0.5160</td>\n",
              "      <td>0.2155</td>\n",
              "      <td>0.1140</td>\n",
              "      <td>0.155</td>\n",
              "      <td>10</td>\n",
              "      <td>0</td>\n",
              "      <td>0</td>\n",
              "      <td>1</td>\n",
              "    </tr>\n",
              "    <tr>\n",
              "      <th>4</th>\n",
              "      <td>0.330</td>\n",
              "      <td>0.255</td>\n",
              "      <td>0.080</td>\n",
              "      <td>0.2050</td>\n",
              "      <td>0.0895</td>\n",
              "      <td>0.0395</td>\n",
              "      <td>0.055</td>\n",
              "      <td>7</td>\n",
              "      <td>0</td>\n",
              "      <td>1</td>\n",
              "      <td>0</td>\n",
              "    </tr>\n",
              "  </tbody>\n",
              "</table>\n",
              "</div>\n",
              "      <button class=\"colab-df-convert\" onclick=\"convertToInteractive('df-d2ea92ec-b61b-46b2-95f9-e7d01789caf5')\"\n",
              "              title=\"Convert this dataframe to an interactive table.\"\n",
              "              style=\"display:none;\">\n",
              "        \n",
              "  <svg xmlns=\"http://www.w3.org/2000/svg\" height=\"24px\"viewBox=\"0 0 24 24\"\n",
              "       width=\"24px\">\n",
              "    <path d=\"M0 0h24v24H0V0z\" fill=\"none\"/>\n",
              "    <path d=\"M18.56 5.44l.94 2.06.94-2.06 2.06-.94-2.06-.94-.94-2.06-.94 2.06-2.06.94zm-11 1L8.5 8.5l.94-2.06 2.06-.94-2.06-.94L8.5 2.5l-.94 2.06-2.06.94zm10 10l.94 2.06.94-2.06 2.06-.94-2.06-.94-.94-2.06-.94 2.06-2.06.94z\"/><path d=\"M17.41 7.96l-1.37-1.37c-.4-.4-.92-.59-1.43-.59-.52 0-1.04.2-1.43.59L10.3 9.45l-7.72 7.72c-.78.78-.78 2.05 0 2.83L4 21.41c.39.39.9.59 1.41.59.51 0 1.02-.2 1.41-.59l7.78-7.78 2.81-2.81c.8-.78.8-2.07 0-2.86zM5.41 20L4 18.59l7.72-7.72 1.47 1.35L5.41 20z\"/>\n",
              "  </svg>\n",
              "      </button>\n",
              "      \n",
              "  <style>\n",
              "    .colab-df-container {\n",
              "      display:flex;\n",
              "      flex-wrap:wrap;\n",
              "      gap: 12px;\n",
              "    }\n",
              "\n",
              "    .colab-df-convert {\n",
              "      background-color: #E8F0FE;\n",
              "      border: none;\n",
              "      border-radius: 50%;\n",
              "      cursor: pointer;\n",
              "      display: none;\n",
              "      fill: #1967D2;\n",
              "      height: 32px;\n",
              "      padding: 0 0 0 0;\n",
              "      width: 32px;\n",
              "    }\n",
              "\n",
              "    .colab-df-convert:hover {\n",
              "      background-color: #E2EBFA;\n",
              "      box-shadow: 0px 1px 2px rgba(60, 64, 67, 0.3), 0px 1px 3px 1px rgba(60, 64, 67, 0.15);\n",
              "      fill: #174EA6;\n",
              "    }\n",
              "\n",
              "    [theme=dark] .colab-df-convert {\n",
              "      background-color: #3B4455;\n",
              "      fill: #D2E3FC;\n",
              "    }\n",
              "\n",
              "    [theme=dark] .colab-df-convert:hover {\n",
              "      background-color: #434B5C;\n",
              "      box-shadow: 0px 1px 3px 1px rgba(0, 0, 0, 0.15);\n",
              "      filter: drop-shadow(0px 1px 2px rgba(0, 0, 0, 0.3));\n",
              "      fill: #FFFFFF;\n",
              "    }\n",
              "  </style>\n",
              "\n",
              "      <script>\n",
              "        const buttonEl =\n",
              "          document.querySelector('#df-d2ea92ec-b61b-46b2-95f9-e7d01789caf5 button.colab-df-convert');\n",
              "        buttonEl.style.display =\n",
              "          google.colab.kernel.accessAllowed ? 'block' : 'none';\n",
              "\n",
              "        async function convertToInteractive(key) {\n",
              "          const element = document.querySelector('#df-d2ea92ec-b61b-46b2-95f9-e7d01789caf5');\n",
              "          const dataTable =\n",
              "            await google.colab.kernel.invokeFunction('convertToInteractive',\n",
              "                                                     [key], {});\n",
              "          if (!dataTable) return;\n",
              "\n",
              "          const docLinkHtml = 'Like what you see? Visit the ' +\n",
              "            '<a target=\"_blank\" href=https://colab.research.google.com/notebooks/data_table.ipynb>data table notebook</a>'\n",
              "            + ' to learn more about interactive tables.';\n",
              "          element.innerHTML = '';\n",
              "          dataTable['output_type'] = 'display_data';\n",
              "          await google.colab.output.renderOutput(dataTable, element);\n",
              "          const docLink = document.createElement('div');\n",
              "          docLink.innerHTML = docLinkHtml;\n",
              "          element.appendChild(docLink);\n",
              "        }\n",
              "      </script>\n",
              "    </div>\n",
              "  </div>\n",
              "  "
            ],
            "text/plain": [
              "   Length  Diameter  Height  Whole weight  Shucked weight  Viscera weight  \\\n",
              "0   0.455     0.365   0.095        0.5140          0.2245          0.1010   \n",
              "1   0.350     0.265   0.090        0.2255          0.0995          0.0485   \n",
              "2   0.530     0.420   0.135        0.6770          0.2565          0.1415   \n",
              "3   0.440     0.365   0.125        0.5160          0.2155          0.1140   \n",
              "4   0.330     0.255   0.080        0.2050          0.0895          0.0395   \n",
              "\n",
              "   Shell weight  Rings  F  I  M  \n",
              "0         0.150     15  0  0  1  \n",
              "1         0.070      7  0  0  1  \n",
              "2         0.210      9  1  0  0  \n",
              "3         0.155     10  0  0  1  \n",
              "4         0.055      7  0  1  0  "
            ]
          },
          "execution_count": 32,
          "metadata": {},
          "output_type": "execute_result"
        }
      ],
      "source": [
        "dummy = pd.get_dummies(abalone['Sex'])\n",
        "abalone = pd.concat([abalone, dummy], axis=1)\n",
        "abalone.drop(columns=['Sex'], inplace=True)\n",
        "abalone.head()"
      ]
    },
    {
      "cell_type": "markdown",
      "metadata": {
        "id": "ArhW0uOGYe9S"
      },
      "source": [
        "As this is a regression problem the simplest understanding comes from inspecting the correlation coefficients. We drop the categorical fields and then can compare the correlation for all the other variables. There is considerable multi-collinearity, especially between `Diameter` and `Length`, however we will ignore that here. We can set up reduced models, but these do not have the same accuracy as the full dataset. The length measurements all seem to have a similar effect on `Rings`, while the weight measurements have slightly varying effect."
      ]
    },
    {
      "cell_type": "code",
      "execution_count": null,
      "metadata": {
        "colab": {
          "base_uri": "https://localhost:8080/",
          "height": 552
        },
        "id": "hyYfXuxWWho6",
        "outputId": "a9b197b2-aeda-4ecb-babf-01bc875a79fd"
      },
      "outputs": [
        {
          "data": {
            "image/png": "[encoded data removed]",
            "text/plain": [
              "<Figure size 720x576 with 2 Axes>"
            ]
          },
          "metadata": {
            "needs_background": "light"
          },
          "output_type": "display_data"
        }
      ],
      "source": [
        "corrs = abalone.drop(columns=['M', 'F', 'I']).corr() # calculate the correlation table\n",
        "# as this is a symmetric table, set up a mask so that we only plot values below the main diagonal\n",
        "mask = np.triu(np.ones_like(corrs, dtype=bool))\n",
        "f, ax = plt.subplots(figsize=(10, 8)) # initialise the plots and axes\n",
        "# plot the correlations as a seaborn heatmap, with a colourbar\n",
        "sns.heatmap(corrs, mask=mask, center=0, annot=True, square=True, linewidths=.5)\n",
        "# do some fiddling so that the top and bottom are not obscured\n",
        "bottom, top = ax.get_ylim()\n",
        "ax.set_ylim(bottom + 0.5, top - 0.5);"
      ]
    },
    {
      "cell_type": "markdown",
      "metadata": {
        "id": "R8QsLSgymbU2"
      },
      "source": [
        "## Coefficients of the linear model"
      ]
    },
    {
      "cell_type": "markdown",
      "metadata": {
        "id": "wGGGIABombU2"
      },
      "source": [
        "For the linear model we set up a features array and a target array. The routine `np.ravel()` flattens the target array to a vector. We can eliminate one of the variables `M`, `F` or `I`, since the sum of these is one. In this case we eliminate `I`. This is done to make all the coefficients of similar magnitude."
      ]
    },
    {
      "cell_type": "code",
      "execution_count": null,
      "metadata": {
        "id": "4uxyNnK7CrGQ"
      },
      "outputs": [],
      "source": [
        "Xf = abalone.drop(columns=['I', 'Rings'])\n",
        "Yf = np.ravel(abalone[['Rings']])"
      ]
    },
    {
      "cell_type": "markdown",
      "metadata": {
        "id": "UTDpVRNombU3"
      },
      "source": [
        "The creation of the linear model with `sklearn` follows the usual workflow: split the dataset, instantatiate the model, fit the training data to the model, create predictions for the testing set and compare these with the actual labels. The accuracy is reasonable, considering there is no tuning of the model."
      ]
    },
    {
      "cell_type": "code",
      "execution_count": null,
      "metadata": {
        "colab": {
          "base_uri": "https://localhost:8080/"
        },
        "id": "m8MGYd2gVORm",
        "outputId": "4aff8db7-0829-4ae2-ba82-0947c571e675"
      },
      "outputs": [
        {
          "name": "stdout",
          "output_type": "stream",
          "text": [
            "Testing score is 0.539\n"
          ]
        }
      ],
      "source": [
        "from sklearn.linear_model import LinearRegression\n",
        "from sklearn.model_selection import train_test_split\n",
        "from sklearn.metrics import r2_score\n",
        "\n",
        "X_train, X_test, Y_train, Y_test = train_test_split(Xf, Yf, test_size=0.2, random_state=0)\n",
        "\n",
        "linmodel = LinearRegression()\n",
        "linmodel.fit(X_train, Y_train)\n",
        "Y_pred = linmodel.predict(X_test)\n",
        "acc = r2_score(Y_test,Y_pred)\n",
        "print(\"Testing score is %5.3f\" % acc)"
      ]
    },
    {
      "cell_type": "markdown",
      "metadata": {
        "id": "nb0jujrhmbU3"
      },
      "source": [
        "By inspecting the coefficients we can now understand what features have the most significant effect on the output of the model. This shows that if the features increase by the same amount, then `Shucked weight`, followed by `Diameter` and `Viscera weight`, have the largest effect. However, we see that the model predicts that as `Shucked weight` and `Viscera weight` increase, then the age decreases, which appears to be counterintuitive."
      ]
    },
    {
      "cell_type": "code",
      "execution_count": null,
      "metadata": {
        "colab": {
          "base_uri": "https://localhost:8080/",
          "height": 279
        },
        "id": "M4Tq2DwQXsC1",
        "outputId": "41abab47-05a7-4810-d94f-3c9aab0c958a"
      },
      "outputs": [
        {
          "data": {
            "image/png": "[encoded data removed]",
            "text/plain": [
              "<Figure size 432x288 with 1 Axes>"
            ]
          },
          "metadata": {
            "needs_background": "light"
          },
          "output_type": "display_data"
        }
      ],
      "source": [
        "importances = linmodel.coef_\n",
        "indices = np.argsort(np.abs(importances))\n",
        "\n",
        "features = X_train.columns\n",
        "plt.barh(range(len(indices)), importances[indices], color='b', align='center')\n",
        "plt.yticks(range(len(indices)), [features[i] for i in indices])\n",
        "plt.xlabel('Model Coefficients');"
      ]
    },
    {
      "cell_type": "markdown",
      "metadata": {
        "id": "nBIL19ZImbU3"
      },
      "source": [
        "To understand the feature importance, i.e., the overall significance of the feature on the model, we need to take into account how much each variable changes, which is characterised by the standard deviation. For example, when `M` and `F` vary they will always vary by one, whereas the variation of all the other variables depends on the units they are measured in. Therefore we can calculate the feature importance by multiplying the coefficients by the standard deviation of each variable. This gives that for the linear model that `Whole weight` is the most significant variable. This is again to be expected as `Whole weight` is the sum of all the other weights, and so should have higher variance. The negative effects of `Shucked weight` and `Viscera weight` can then be understood as compensatory effects for the increase in `Whole weight`. Now the effect of the length variables drops in comparison to all the other variables."
      ]
    },
    {
      "cell_type": "code",
      "execution_count": null,
      "metadata": {
        "colab": {
          "base_uri": "https://localhost:8080/",
          "height": 279
        },
        "id": "WEcx9GqZmbU3",
        "outputId": "70c695fb-fb97-4c1b-ef1f-c71af56e0682"
      },
      "outputs": [
        {
          "data": {
            "image/png": "[encoded data removed]",
            "text/plain": [
              "<Figure size 432x288 with 1 Axes>"
            ]
          },
          "metadata": {
            "needs_background": "light"
          },
          "output_type": "display_data"
        }
      ],
      "source": [
        "scaled_importances = importances*Xf.std()\n",
        "indices = np.argsort(np.abs(scaled_importances))\n",
        "\n",
        "features = X_train.columns\n",
        "plt.barh(range(len(indices)), scaled_importances[indices], color='b', align='center')\n",
        "plt.yticks(range(len(indices)), [features[i] for i in indices])\n",
        "plt.xlabel('Feature Importance');"
      ]
    },
    {
      "cell_type": "markdown",
      "metadata": {
        "id": "lNnCcERmmbU3"
      },
      "source": [
        "## Feature importance for tree models"
      ]
    },
    {
      "cell_type": "markdown",
      "metadata": {
        "id": "oPW6CfmQmbU4"
      },
      "source": [
        "To investigate feature importance for tree models we just need to access the corresponding field for the model. First, we will set up a simple Random Forest regression model. Since this is a nonlinear model, this gives an improved accuracy compared the linear regression model."
      ]
    },
    {
      "cell_type": "code",
      "execution_count": null,
      "metadata": {
        "colab": {
          "base_uri": "https://localhost:8080/"
        },
        "id": "DWGMjfVKCrGR",
        "outputId": "f0ac8e92-8950-4cb9-dcf0-646ce10b7dc4"
      },
      "outputs": [
        {
          "name": "stdout",
          "output_type": "stream",
          "text": [
            "Testing score is 0.572\n"
          ]
        }
      ],
      "source": [
        "from sklearn.ensemble import RandomForestRegressor\n",
        "\n",
        "X_train, X_test, Y_train, Y_test = train_test_split(Xf, Yf, test_size=0.2, random_state=0)\n",
        "rfc = RandomForestRegressor()\n",
        "rfc.fit(X_train, Y_train) # fit the data to the model\n",
        "Y_pred = rfc.predict(X_test)\n",
        "acc = r2_score(Y_test,Y_pred)\n",
        "print(\"Testing score is %5.3f\" % acc)"
      ]
    },
    {
      "cell_type": "markdown",
      "metadata": {
        "id": "2m-_wIE4X83_"
      },
      "source": [
        "We can now access the feature importance. In this case it corresponds to the weighted effect on the splitting of the variance in creating the ensemble of trees. This is a relative effect, where the sum of the feature importance is one, hence there is no need to normalize this variable to understand the importance. Now we see that the feature importance generally follows the ranking that was obtained for the linear regression model. However, there is no indication of whether the particular variables have a positive or negative effect."
      ]
    },
    {
      "cell_type": "code",
      "execution_count": null,
      "metadata": {
        "colab": {
          "base_uri": "https://localhost:8080/",
          "height": 279
        },
        "id": "ltiNEHvgCrGR",
        "outputId": "9983681f-645c-414b-ae77-79091b4773d2"
      },
      "outputs": [
        {
          "data": {
            "image/png": "[encoded data removed]",
            "text/plain": [
              "<Figure size 432x288 with 1 Axes>"
            ]
          },
          "metadata": {
            "needs_background": "light"
          },
          "output_type": "display_data"
        }
      ],
      "source": [
        "importances = rfc.feature_importances_\n",
        "indices = np.argsort(importances)\n",
        "\n",
        "features = X_train.columns\n",
        "plt.barh(range(len(indices)), importances[indices], color='b', align='center')\n",
        "plt.yticks(range(len(indices)), [features[i] for i in indices])\n",
        "plt.xlabel('Relative Importance');"
      ]
    },
    {
      "cell_type": "markdown",
      "metadata": {
        "id": "WuIGHBS_mbU4"
      },
      "source": [
        "## LIME values"
      ]
    },
    {
      "cell_type": "markdown",
      "metadata": {
        "id": "n-B0jaZ5mbU4"
      },
      "source": [
        "Lime (local interpretable model-agnostic explanations) is a package which can be used to explain individual observations from a model. A full explanation of the package can be found on [github](https://github.com/marcotcr/lime). Essentially what the package does is to take observations in the vicinity of the observation of interest and create a linear model, where the importance of the other observations is weighted by distance from the observation of interest. This then causes any nonlinear regression or classification boundary to become linear. In terms of multivariable calculus, this can be thought of as taking the tangent to the model. Hence, Lime only gives local interpretability. However, its main advantage is that it is relatively quick to calculate and can be used for any machine learning model.\n",
        "\n",
        "Lime can be used for classification, multi-label classification and regression problems. We will just consider regression problems.\n",
        "\n",
        "The first step is to create an explainer for the model that you want to interpret. We will do this for the Random Forest model we previously created."
      ]
    },
    {
      "cell_type": "code",
      "execution_count": null,
      "metadata": {
        "id": "9GDeniqYN0bE"
      },
      "outputs": [],
      "source": [
        "import lime\n",
        "import lime.lime_tabular\n",
        "\n",
        "explainer = lime.lime_tabular.LimeTabularExplainer(np.array(X_train),\n",
        "                                                   feature_names=features,\n",
        "                                                   verbose=True,\n",
        "                                                   mode='regression')"
      ]
    },
    {
      "cell_type": "markdown",
      "metadata": {
        "id": "nrcWFKp4mcRQ"
      },
      "source": [
        "Then we use the explainer to interpret a particular instance for this model. We also need to pass the prediction function for the model, so that the labels around this particular instance can be calculated. The explainer outputs three diagnostics. The first is the intercept, which is the value for the local model when all Lime values are zero. The second value is the prediction of the linear model, and the third is the prediction of the nonlinear model (i.e., in this case the Random Forest regressor).\n",
        "\n",
        "Once we have instantatiated the explainer for this particular instance, we can print the Lime values as a list. The Lime values are the second value in the array, while the first field shows the variance of that particular feature. The Lime values can be thought of as the local linear feature importance for the nonlinear model, i.e., coefficients values multiplied by the standard deviation. In this particular instance we again see that the weights are the most important features. The `Whole weight`  and `Shell weight` have negative effects, and so, reduce the number of rings from the value at the intercept, whereas `Shucked weight` will increase the number of rings."
      ]
    },
    {
      "cell_type": "code",
      "execution_count": null,
      "metadata": {
        "colab": {
          "base_uri": "https://localhost:8080/"
        },
        "id": "6NnIpoViSnrk",
        "outputId": "e3d9cf9b-10e4-48c7-db69-14d7fe17950d"
      },
      "outputs": [
        {
          "name": "stdout",
          "output_type": "stream",
          "text": [
            "Explainer diagnostics\n",
            "\n",
            "\n",
            "Intercept 12.045896684223427\n",
            "Prediction_local [11.37566846]\n",
            "Right: 10.58\n",
            "\n",
            "\n",
            "Lime values\n"
          ]
        },
        {
          "name": "stderr",
          "output_type": "stream",
          "text": [
            "X does not have valid feature names, but RandomForestRegressor was fitted with feature names\n"
          ]
        },
        {
          "data": {
            "text/plain": [
              "[('0.19 < Shucked weight <= 0.34', 0.7666057973168767),\n",
              " ('0.13 < Shell weight <= 0.23', -0.6470755085610765),\n",
              " ('0.44 < Whole weight <= 0.81', -0.3849474834624852),\n",
              " ('0.09 < Viscera weight <= 0.17', 0.3552357254211633),\n",
              " ('M <= 0.00', -0.31807057072434447),\n",
              " ('0.12 < Height <= 0.14', -0.2311436389252327),\n",
              " ('0.45 < Length <= 0.55', -0.17999491169861465),\n",
              " ('F <= 0.00', -0.04431214897477972),\n",
              " ('0.35 < Diameter <= 0.42', 0.013474512472460325)]"
            ]
          },
          "execution_count": 41,
          "metadata": {},
          "output_type": "execute_result"
        }
      ],
      "source": [
        "print(\"Explainer diagnostics\")\n",
        "print(\"\\n\")\n",
        "exp = explainer.explain_instance(X_test.iloc[1,:], rfc.predict)\n",
        "print(\"\\n\")\n",
        "print(\"Lime values\")\n",
        "exp.as_list()"
      ]
    },
    {
      "cell_type": "markdown",
      "metadata": {
        "id": "DQJoqO5vmbU4"
      },
      "source": [
        "By summing the Intercept and Lime values, we obtain the Local Prediction (check this for yourself)."
      ]
    },
    {
      "cell_type": "markdown",
      "metadata": {
        "id": "NLd60iTdmbU4"
      },
      "source": [
        "A more useful way to show this is graphically as a `matplotlib` figure, by using the method `as_pyplot_figure()`. There is also a javascript method `show_in_notebook()`, which shows extra information. However, this is not as transferable."
      ]
    },
    {
      "cell_type": "code",
      "execution_count": null,
      "metadata": {
        "colab": {
          "base_uri": "https://localhost:8080/",
          "height": 295
        },
        "id": "w8w-_iYymbU5",
        "outputId": "39ec0e9b-0740-485e-912a-92fb137d0c60"
      },
      "outputs": [
        {
          "data": {
            "image/png": "[encoded data removed]",
            "text/plain": [
              "<Figure size 432x288 with 1 Axes>"
            ]
          },
          "metadata": {
            "needs_background": "light"
          },
          "output_type": "display_data"
        }
      ],
      "source": [
        "exp.as_pyplot_figure()\n",
        "plt.xlabel('Lime values');"
      ]
    },
    {
      "cell_type": "markdown",
      "metadata": {
        "id": "zJOb2NhImbU5"
      },
      "source": [
        "The javascript figure also shows where the nonlinear model value lies on the continuum of predicted values, and displays the Lime values graphically along with the feature values for this particular instance."
      ]
    },
    {
      "cell_type": "markdown",
      "metadata": {
        "id": "qMkmrkMbmbU5"
      },
      "source": [
        "For another instance the most important feature is now `Shell weight`, although the other variables have Lime values similar to previously."
      ]
    },
    {
      "cell_type": "code",
      "execution_count": null,
      "metadata": {
        "colab": {
          "base_uri": "https://localhost:8080/",
          "height": 366
        },
        "id": "PQ4edq1MoxEM",
        "outputId": "bdfb9d61-e777-4e78-b31b-36bdc1ce6133"
      },
      "outputs": [
        {
          "name": "stderr",
          "output_type": "stream",
          "text": [
            "X does not have valid feature names, but RandomForestRegressor was fitted with feature names\n"
          ]
        },
        {
          "name": "stdout",
          "output_type": "stream",
          "text": [
            "Intercept 13.128802819680914\n",
            "Prediction_local [8.17465847]\n",
            "Right: 8.13\n"
          ]
        },
        {
          "data": {
            "image/png": "[encoded data removed]",
            "text/plain": [
              "<Figure size 432x288 with 1 Axes>"
            ]
          },
          "metadata": {
            "needs_background": "light"
          },
          "output_type": "display_data"
        }
      ],
      "source": [
        "exp = explainer.explain_instance(X_test.iloc[10,:], rfc.predict)\n",
        "exp.as_pyplot_figure()\n",
        "plt.xlabel('Lime values');"
      ]
    },
    {
      "cell_type": "markdown",
      "metadata": {
        "id": "hJVkqwbFm1Gr"
      },
      "source": [
        "## SHAP values"
      ]
    },
    {
      "cell_type": "markdown",
      "metadata": {
        "id": "_3FuWyN5mbU6"
      },
      "source": [
        "Although Lime values are fast to calculate, they only give local interpretability. A package which attempts to show both local and global interpretability is the Shap package. For a detailed description of this package see this [documentation](https://shap.readthedocs.io/en/latest/overviews.html). The output of this package is very helpful in interpreting models, but it has the disadvantages that:\n",
        "* It is very computationally expensive, especially for general nonlinear models.\n",
        "* Documentation is sketchy.\n",
        "* It may not work on laptops.\n",
        "\n",
        "What the Shap package calculates is the mean contribution of each feature to the deviation of the labels from the mean value, over all possible permutations of the features. If you have a large number of features you can see this will become very expensive to calculate. The output is the Shap values, which are similar to Lime values, in that they show how much the feature causes the label to change from the mean value for the dataset.\n",
        "\n",
        "The computationally expensive part is calculating the explainer, and then calculating the Shap values for the particular dataset. We use the testing dataset here, as it is signicantly smaller than the training set. Again we introduce the Shap values using the Random Forest regression model. As with the Lime package, the Shap package can also be used to interpret classification problems."
      ]
    },
    {
      "cell_type": "code",
      "execution_count": null,
      "metadata": {
        "id": "hr78uQmbpW4S"
      },
      "outputs": [],
      "source": [
        "explainer = shap.TreeExplainer(rfc)\n",
        "shap_values = explainer.shap_values(X_test)"
      ]
    },
    {
      "cell_type": "markdown",
      "metadata": {
        "id": "wIa-LtiumbU6"
      },
      "source": [
        "This can be used to inspect the overall feature importance, similar to what was done using the output of the Random Forest regression. The ranking of variables is similar to that from the Random Forest regression."
      ]
    },
    {
      "cell_type": "code",
      "execution_count": null,
      "metadata": {
        "colab": {
          "base_uri": "https://localhost:8080/",
          "height": 376
        },
        "id": "MIwUkQvRpzBS",
        "outputId": "fb52b781-21b0-459e-af21-31a1903afd92"
      },
      "outputs": [
        {
          "data": {
            "image/png": "[encoded data removed]",
            "text/plain": [
              "<Figure size 576x367.2 with 1 Axes>"
            ]
          },
          "metadata": {
            "needs_background": "light"
          },
          "output_type": "display_data"
        }
      ],
      "source": [
        "shap.summary_plot(shap_values, X_test, plot_type=\"bar\")"
      ]
    },
    {
      "cell_type": "markdown",
      "metadata": {
        "id": "XLir2HgUmbU6"
      },
      "source": [
        "We can now inspect the Shap values for particular instances. The sum of the Shap values for a particular instance correspond to the difference between the mean label value for the dataset and the actual model value for this instance. Blue Shap values cause the model value to decrease, and red values cause the model value to increase. This is depicted by the arrow directions in the force plot. Then shown at the bottom of the figure are the feature values for this instance. Here the main contributers are `Shell weight` which has a value of 0.1935 and a negative effect, and `Shucked weight` which has a value of 0.261 and a positive effect. The overall 'force' from the red values in this case is greater than for the blue values, which causes the label value for this instance to be slightly higher than the mean."
      ]
    },
    {
      "cell_type": "code",
      "execution_count": null,
      "metadata": {
        "colab": {
          "base_uri": "https://localhost:8080/",
          "height": 272
        },
        "id": "iiQjymQTCrGS",
        "outputId": "49278b49-1218-418a-9044-e7ce76978c8b"
      },
      "outputs": [
        {
          "data": {
            "image/png": "[encoded data removed]",
            "text/plain": [
              "<Figure size 1440x216 with 1 Axes>"
            ]
          },
          "metadata": {
            "needs_background": "light"
          },
          "output_type": "display_data"
        }
      ],
      "source": [
        "shap.force_plot(explainer.expected_value, shap_values[1,:], X_test.iloc[1,:], matplotlib=True)"
      ]
    },
    {
      "cell_type": "markdown",
      "metadata": {
        "id": "Ye3Px_F3mbU7"
      },
      "source": [
        "For another instance we now see that the blue effects are much stronger than the red effects, which causes a significant decrease in the label value for this instance from the mean value. The value of `Shell weight` has decreased which has caused the magnitude of the Shap value to increase, whereas for `Shucked weight` the feature value has also decreased, but this has caused the magnitude of the Shap value to decrease."
      ]
    },
    {
      "cell_type": "code",
      "execution_count": null,
      "metadata": {
        "colab": {
          "base_uri": "https://localhost:8080/",
          "height": 271
        },
        "id": "eoJdUCg4CrGS",
        "outputId": "93f84cdb-3a82-4015-83ec-a2bb1245a390"
      },
      "outputs": [
        {
          "data": {
            "image/png": "[encoded data removed]",
            "text/plain": [
              "<Figure size 1440x216 with 1 Axes>"
            ]
          },
          "metadata": {
            "needs_background": "light"
          },
          "output_type": "display_data"
        }
      ],
      "source": [
        "shap.force_plot(explainer.expected_value, shap_values[20,:], X_test.iloc[20,:], matplotlib=True)"
      ]
    },
    {
      "cell_type": "markdown",
      "metadata": {
        "id": "PAReqBFDmbU7"
      },
      "source": [
        "The global effect of all the Shap values can be demonstrated using the summary plot. This shows all the Shap values on a 'swarm' plot, where the thickness of the line corresponds to the density of instances for that value. Each individual point is then coloured by the relative feature value. To interpret this figure, we see that `Shell weight` has the widest distribution of Shap values, and consequently has the most significant effect on the variation of the label. For relatively low values of `Shell weight` the Shap value is negative, whereas for relatively high values of `Shell weight` the Shap value is positive. Whereas for the next ranked feature `Shucked weight` the opposite applies. Hence `Shucked weight` is a compensatory effect for `Shell weight`. For these two features the Shap values have a smooth distribution. However for all the features from `Viscera weight` downwards, the Shap values are centred about zero, which suggests that these features do not have a significant effect on the model output."
      ]
    },
    {
      "cell_type": "code",
      "execution_count": null,
      "metadata": {
        "colab": {
          "base_uri": "https://localhost:8080/",
          "height": 377
        },
        "id": "hEBCAjHkH7Bt",
        "outputId": "2efbce24-69dc-4233-b41f-dfc9552c725b"
      },
      "outputs": [
        {
          "data": {
            "image/png": "[encoded data removed]",
            "text/plain": [
              "<Figure size 576x367.2 with 2 Axes>"
            ]
          },
          "metadata": {
            "needs_background": "light"
          },
          "output_type": "display_data"
        }
      ],
      "source": [
        "shap.summary_plot(shap_values, X_test)"
      ]
    },
    {
      "cell_type": "markdown",
      "metadata": {
        "id": "yhdTRIdXmbU8"
      },
      "source": [
        "## Exercises"
      ]
    },
    {
      "cell_type": "markdown",
      "metadata": {
        "id": "lzIO3isTs7wh"
      },
      "source": [
        "## Exercise 1 (2 marks)"
      ]
    },
    {
      "cell_type": "markdown",
      "metadata": {
        "id": "a2rDG_rps_Mb"
      },
      "source": [
        "Fit a kNN regression model with 10 nearest neighbours to the abalone data and calculate the accuracy."
      ]
    },
    {
      "cell_type": "code",
      "execution_count": null,
      "metadata": {
        "colab": {
          "base_uri": "https://localhost:8080/"
        },
        "id": "CgSrN61BZcKd",
        "outputId": "b79883b8-bd96-49ec-a701-855ab11108cb"
      },
      "outputs": [
        {
          "name": "stdout",
          "output_type": "stream",
          "text": [
            "Testing score is 0.553\n"
          ]
        }
      ],
      "source": [
        "from sklearn.neighbors import KNeighborsRegressor\n",
        "\n",
        "X_train, X_test, Y_train, Y_test = train_test_split(Xf, Yf, test_size=0.2, random_state=0)\n",
        "knn = KNeighborsRegressor(n_neighbors=10)\n",
        "knn.fit(X_train, Y_train)\n",
        "Y_pred = knn.predict(X_test)\n",
        "acc = r2_score(Y_test,Y_pred)\n",
        "print(\"Testing score is %5.3f\" % acc)"
      ]
    },
    {
      "cell_type": "markdown",
      "metadata": {
        "id": "KCdMPUnc0d_y"
      },
      "source": [
        "2/2"
      ]
    },
    {
      "cell_type": "markdown",
      "metadata": {
        "id": "ZpljtayHtNQS"
      },
      "source": [
        "## Exercise 2 (2 marks)"
      ]
    },
    {
      "cell_type": "markdown",
      "metadata": {
        "id": "l5aLpyoTtQhC"
      },
      "source": [
        "Calculate and display the Lime values for the kNN model for one particular instance of the test data. (You should be able to use similar code as used earlier in the notebook.)"
      ]
    },
    {
      "cell_type": "code",
      "execution_count": null,
      "metadata": {
        "colab": {
          "base_uri": "https://localhost:8080/",
          "height": 420
        },
        "id": "pKBu4qXbfIst",
        "outputId": "b4e01391-c210-47ed-8075-89d9db9262ff"
      },
      "outputs": [
        {
          "name": "stdout",
          "output_type": "stream",
          "text": [
            "Explainer diagnostics\n",
            "\n",
            "\n"
          ]
        },
        {
          "name": "stderr",
          "output_type": "stream",
          "text": [
            "X does not have valid feature names, but KNeighborsRegressor was fitted with feature names\n"
          ]
        },
        {
          "name": "stdout",
          "output_type": "stream",
          "text": [
            "Intercept 11.69399264443209\n",
            "Prediction_local [10.24774777]\n",
            "Right: 8.7\n"
          ]
        },
        {
          "data": {
            "image/png": "[encoded data removed]",
            "text/plain": [
              "<Figure size 432x288 with 1 Axes>"
            ]
          },
          "metadata": {
            "needs_background": "light"
          },
          "output_type": "display_data"
        }
      ],
      "source": [
        "explainer = lime.lime_tabular.LimeTabularExplainer(np.array(X_train),\n",
        "                                                   feature_names=features,\n",
        "                                                   verbose=True,\n",
        "                                                   mode='regression')\n",
        "print(\"Explainer diagnostics\")\n",
        "print(\"\\n\")\n",
        "exp = explainer.explain_instance(X_test.iloc[1,:], knn.predict)\n",
        "exp.as_pyplot_figure()\n",
        "plt.xlabel('Lime values');\n"
      ]
    },
    {
      "cell_type": "markdown",
      "metadata": {
        "id": "OXHUxKJo5b76"
      },
      "source": [
        "0/2\n",
        "\n",
        "*Incomplete. Need to first create an explainer for this dataset, see cell [18].*"
      ]
    },
    {
      "cell_type": "markdown",
      "metadata": {
        "id": "9RoLw2BJt6Vm"
      },
      "source": [
        "## Exercise 3 (2 marks)"
      ]
    },
    {
      "cell_type": "markdown",
      "metadata": {
        "id": "UaczWpcNt9wb"
      },
      "source": [
        "Using a random sample of 200 observations from the test data (use df.sample()), calculate the Shap values for the kNN model. You will need to use `shap.KernelExplainer()` (see the [documentation](https://shap-lrjball.readthedocs.io/en/latest/generated/shap.KernelExplainer.html), the two inputs are the model prediction and the feature sample). On Google Colab this calculation will take about 10 minutes."
      ]
    },
    {
      "cell_type": "code",
      "execution_count": null,
      "metadata": {
        "colab": {
          "base_uri": "https://localhost:8080/",
          "height": 1000,
          "referenced_widgets": [
            "3ae0c485df5c4dcfb947a9502b62b56c",
            "6e865e85a0d946fa9afc228f49ed8975",
            "26c1bc692c124f0181f43768ac5d9ea8",
            "7c42d5d5880643d8a5ac571b4155a6db",
            "e070fedbb5524a5da4f43d6890a4ceb5",
            "d94f9dc44b594312af22a3dbb755de29",
            "5232b93a99bb4bc388aa77cf0e5a9844",
            "ea504a51da4b4da3b104844f28726c42",
            "314f823825804ba6bdb5e6920e8504e2",
            "0bf6c8bbcf2640e78e9b7fc73a519b7d",
            "e1d946a1fda74e8ca9297fbc085d9cfc"
          ]
        },
        "id": "dBF2J4_xZcKf",
        "outputId": "cfad6316-6265-47af-86a9-90a565a452a6"
      },
      "outputs": [
        {
          "name": "stderr",
          "output_type": "stream",
          "text": [
            "X does not have valid feature names, but KNeighborsRegressor was fitted with feature names\n",
            "WARNING:shap:Using 200 background data samples could cause slower run times. Consider using shap.sample(data, K) or shap.kmeans(data, K) to summarize the background as K samples.\n"
          ]
        },
        {
          "data": {
            "application/vnd.jupyter.widget-view+json": {
              "model_id": "3ae0c485df5c4dcfb947a9502b62b56c",
              "version_major": 2,
              "version_minor": 0
            },
            "text/plain": [
              "  0%|          | 0/200 [00:00<?, ?it/s]"
            ]
          },
          "metadata": {},
          "output_type": "display_data"
        },
        {
          "name": "stderr",
          "output_type": "stream",
          "text": [
            "X does not have valid feature names, but KNeighborsRegressor was fitted with feature names\n",
            "X does not have valid feature names, but KNeighborsRegressor was fitted with feature names\n",
            "X does not have valid feature names, but KNeighborsRegressor was fitted with feature names\n",
            "X does not have valid feature names, but KNeighborsRegressor was fitted with feature names\n",
            "X does not have valid feature names, but KNeighborsRegressor was fitted with feature names\n",
            "X does not have valid feature names, but KNeighborsRegressor was fitted with feature names\n",
            "X does not have valid feature names, but KNeighborsRegressor was fitted with feature names\n",
            "X does not have valid feature names, but KNeighborsRegressor was fitted with feature names\n",
            "X does not have valid feature names, but KNeighborsRegressor was fitted with feature names\n",
            "X does not have valid feature names, but KNeighborsRegressor was fitted with feature names\n",
            "X does not have valid feature names, but KNeighborsRegressor was fitted with feature names\n",
            "X does not have valid feature names, but KNeighborsRegressor was fitted with feature names\n",
            "X does not have valid feature names, but KNeighborsRegressor was fitted with feature names\n",
            "X does not have valid feature names, but KNeighborsRegressor was fitted with feature names\n",
            "X does not have valid feature names, but KNeighborsRegressor was fitted with feature names\n",
            "X does not have valid feature names, but KNeighborsRegressor was fitted with feature names\n",
            "X does not have valid feature names, but KNeighborsRegressor was fitted with feature names\n",
            "X does not have valid feature names, but KNeighborsRegressor was fitted with feature names\n",
            "X does not have valid feature names, but KNeighborsRegressor was fitted with feature names\n",
            "X does not have valid feature names, but KNeighborsRegressor was fitted with feature names\n",
            "X does not have valid feature names, but KNeighborsRegressor was fitted with feature names\n",
            "X does not have valid feature names, but KNeighborsRegressor was fitted with feature names\n",
            "X does not have valid feature names, but KNeighborsRegressor was fitted with feature names\n",
            "X does not have valid feature names, but KNeighborsRegressor was fitted with feature names\n",
            "X does not have valid feature names, but KNeighborsRegressor was fitted with feature names\n",
            "X does not have valid feature names, but KNeighborsRegressor was fitted with feature names\n",
            "X does not have valid feature names, but KNeighborsRegressor was fitted with feature names\n",
            "X does not have valid feature names, but KNeighborsRegressor was fitted with feature names\n",
            "X does not have valid feature names, but KNeighborsRegressor was fitted with feature names\n",
            "X does not have valid feature names, but KNeighborsRegressor was fitted with feature names\n",
            "X does not have valid feature names, but KNeighborsRegressor was fitted with feature names\n",
            "X does not have valid feature names, but KNeighborsRegressor was fitted with feature names\n",
            "X does not have valid feature names, but KNeighborsRegressor was fitted with feature names\n",
            "X does not have valid feature names, but KNeighborsRegressor was fitted with feature names\n",
            "X does not have valid feature names, but KNeighborsRegressor was fitted with feature names\n",
            "X does not have valid feature names, but KNeighborsRegressor was fitted with feature names\n",
            "X does not have valid feature names, but KNeighborsRegressor was fitted with feature names\n",
            "X does not have valid feature names, but KNeighborsRegressor was fitted with feature names\n",
            "X does not have valid feature names, but KNeighborsRegressor was fitted with feature names\n",
            "X does not have valid feature names, but KNeighborsRegressor was fitted with feature names\n",
            "X does not have valid feature names, but KNeighborsRegressor was fitted with feature names\n",
            "X does not have valid feature names, but KNeighborsRegressor was fitted with feature names\n",
            "X does not have valid feature names, but KNeighborsRegressor was fitted with feature names\n",
            "X does not have valid feature names, but KNeighborsRegressor was fitted with feature names\n",
            "X does not have valid feature names, but KNeighborsRegressor was fitted with feature names\n",
            "X does not have valid feature names, but KNeighborsRegressor was fitted with feature names\n",
            "X does not have valid feature names, but KNeighborsRegressor was fitted with feature names\n",
            "X does not have valid feature names, but KNeighborsRegressor was fitted with feature names\n",
            "X does not have valid feature names, but KNeighborsRegressor was fitted with feature names\n",
            "X does not have valid feature names, but KNeighborsRegressor was fitted with feature names\n",
            "X does not have valid feature names, but KNeighborsRegressor was fitted with feature names\n",
            "X does not have valid feature names, but KNeighborsRegressor was fitted with feature names\n",
            "X does not have valid feature names, but KNeighborsRegressor was fitted with feature names\n",
            "X does not have valid feature names, but KNeighborsRegressor was fitted with feature names\n",
            "X does not have valid feature names, but KNeighborsRegressor was fitted with feature names\n",
            "X does not have valid feature names, but KNeighborsRegressor was fitted with feature names\n",
            "X does not have valid feature names, but KNeighborsRegressor was fitted with feature names\n",
            "X does not have valid feature names, but KNeighborsRegressor was fitted with feature names\n",
            "X does not have valid feature names, but KNeighborsRegressor was fitted with feature names\n",
            "X does not have valid feature names, but KNeighborsRegressor was fitted with feature names\n",
            "X does not have valid feature names, but KNeighborsRegressor was fitted with feature names\n",
            "X does not have valid feature names, but KNeighborsRegressor was fitted with feature names\n",
            "X does not have valid feature names, but KNeighborsRegressor was fitted with feature names\n",
            "X does not have valid feature names, but KNeighborsRegressor was fitted with feature names\n",
            "X does not have valid feature names, but KNeighborsRegressor was fitted with feature names\n",
            "X does not have valid feature names, but KNeighborsRegressor was fitted with feature names\n",
            "X does not have valid feature names, but KNeighborsRegressor was fitted with feature names\n",
            "X does not have valid feature names, but KNeighborsRegressor was fitted with feature names\n",
            "X does not have valid feature names, but KNeighborsRegressor was fitted with feature names\n",
            "X does not have valid feature names, but KNeighborsRegressor was fitted with feature names\n",
            "X does not have valid feature names, but KNeighborsRegressor was fitted with feature names\n",
            "X does not have valid feature names, but KNeighborsRegressor was fitted with feature names\n",
            "X does not have valid feature names, but KNeighborsRegressor was fitted with feature names\n",
            "X does not have valid feature names, but KNeighborsRegressor was fitted with feature names\n",
            "X does not have valid feature names, but KNeighborsRegressor was fitted with feature names\n",
            "X does not have valid feature names, but KNeighborsRegressor was fitted with feature names\n",
            "X does not have valid feature names, but KNeighborsRegressor was fitted with feature names\n",
            "X does not have valid feature names, but KNeighborsRegressor was fitted with feature names\n",
            "X does not have valid feature names, but KNeighborsRegressor was fitted with feature names\n",
            "X does not have valid feature names, but KNeighborsRegressor was fitted with feature names\n",
            "X does not have valid feature names, but KNeighborsRegressor was fitted with feature names\n",
            "X does not have valid feature names, but KNeighborsRegressor was fitted with feature names\n",
            "X does not have valid feature names, but KNeighborsRegressor was fitted with feature names\n",
            "X does not have valid feature names, but KNeighborsRegressor was fitted with feature names\n",
            "X does not have valid feature names, but KNeighborsRegressor was fitted with feature names\n",
            "X does not have valid feature names, but KNeighborsRegressor was fitted with feature names\n",
            "X does not have valid feature names, but KNeighborsRegressor was fitted with feature names\n",
            "X does not have valid feature names, but KNeighborsRegressor was fitted with feature names\n",
            "X does not have valid feature names, but KNeighborsRegressor was fitted with feature names\n",
            "X does not have valid feature names, but KNeighborsRegressor was fitted with feature names\n",
            "X does not have valid feature names, but KNeighborsRegressor was fitted with feature names\n",
            "X does not have valid feature names, but KNeighborsRegressor was fitted with feature names\n",
            "X does not have valid feature names, but KNeighborsRegressor was fitted with feature names\n",
            "X does not have valid feature names, but KNeighborsRegressor was fitted with feature names\n",
            "X does not have valid feature names, but KNeighborsRegressor was fitted with feature names\n",
            "X does not have valid feature names, but KNeighborsRegressor was fitted with feature names\n",
            "X does not have valid feature names, but KNeighborsRegressor was fitted with feature names\n",
            "X does not have valid feature names, but KNeighborsRegressor was fitted with feature names\n",
            "X does not have valid feature names, but KNeighborsRegressor was fitted with feature names\n",
            "X does not have valid feature names, but KNeighborsRegressor was fitted with feature names\n",
            "X does not have valid feature names, but KNeighborsRegressor was fitted with feature names\n",
            "X does not have valid feature names, but KNeighborsRegressor was fitted with feature names\n",
            "X does not have valid feature names, but KNeighborsRegressor was fitted with feature names\n",
            "X does not have valid feature names, but KNeighborsRegressor was fitted with feature names\n",
            "X does not have valid feature names, but KNeighborsRegressor was fitted with feature names\n",
            "X does not have valid feature names, but KNeighborsRegressor was fitted with feature names\n",
            "X does not have valid feature names, but KNeighborsRegressor was fitted with feature names\n",
            "X does not have valid feature names, but KNeighborsRegressor was fitted with feature names\n",
            "X does not have valid feature names, but KNeighborsRegressor was fitted with feature names\n",
            "X does not have valid feature names, but KNeighborsRegressor was fitted with feature names\n",
            "X does not have valid feature names, but KNeighborsRegressor was fitted with feature names\n",
            "X does not have valid feature names, but KNeighborsRegressor was fitted with feature names\n",
            "X does not have valid feature names, but KNeighborsRegressor was fitted with feature names\n",
            "X does not have valid feature names, but KNeighborsRegressor was fitted with feature names\n",
            "X does not have valid feature names, but KNeighborsRegressor was fitted with feature names\n",
            "X does not have valid feature names, but KNeighborsRegressor was fitted with feature names\n",
            "X does not have valid feature names, but KNeighborsRegressor was fitted with feature names\n",
            "X does not have valid feature names, but KNeighborsRegressor was fitted with feature names\n",
            "X does not have valid feature names, but KNeighborsRegressor was fitted with feature names\n",
            "X does not have valid feature names, but KNeighborsRegressor was fitted with feature names\n",
            "X does not have valid feature names, but KNeighborsRegressor was fitted with feature names\n",
            "X does not have valid feature names, but KNeighborsRegressor was fitted with feature names\n",
            "X does not have valid feature names, but KNeighborsRegressor was fitted with feature names\n",
            "X does not have valid feature names, but KNeighborsRegressor was fitted with feature names\n",
            "X does not have valid feature names, but KNeighborsRegressor was fitted with feature names\n",
            "X does not have valid feature names, but KNeighborsRegressor was fitted with feature names\n",
            "X does not have valid feature names, but KNeighborsRegressor was fitted with feature names\n",
            "X does not have valid feature names, but KNeighborsRegressor was fitted with feature names\n",
            "X does not have valid feature names, but KNeighborsRegressor was fitted with feature names\n",
            "X does not have valid feature names, but KNeighborsRegressor was fitted with feature names\n",
            "X does not have valid feature names, but KNeighborsRegressor was fitted with feature names\n",
            "X does not have valid feature names, but KNeighborsRegressor was fitted with feature names\n",
            "X does not have valid feature names, but KNeighborsRegressor was fitted with feature names\n",
            "X does not have valid feature names, but KNeighborsRegressor was fitted with feature names\n",
            "X does not have valid feature names, but KNeighborsRegressor was fitted with feature names\n",
            "X does not have valid feature names, but KNeighborsRegressor was fitted with feature names\n",
            "X does not have valid feature names, but KNeighborsRegressor was fitted with feature names\n",
            "X does not have valid feature names, but KNeighborsRegressor was fitted with feature names\n",
            "X does not have valid feature names, but KNeighborsRegressor was fitted with feature names\n",
            "X does not have valid feature names, but KNeighborsRegressor was fitted with feature names\n",
            "X does not have valid feature names, but KNeighborsRegressor was fitted with feature names\n",
            "X does not have valid feature names, but KNeighborsRegressor was fitted with feature names\n",
            "X does not have valid feature names, but KNeighborsRegressor was fitted with feature names\n",
            "X does not have valid feature names, but KNeighborsRegressor was fitted with feature names\n",
            "X does not have valid feature names, but KNeighborsRegressor was fitted with feature names\n",
            "X does not have valid feature names, but KNeighborsRegressor was fitted with feature names\n",
            "X does not have valid feature names, but KNeighborsRegressor was fitted with feature names\n",
            "X does not have valid feature names, but KNeighborsRegressor was fitted with feature names\n",
            "X does not have valid feature names, but KNeighborsRegressor was fitted with feature names\n",
            "X does not have valid feature names, but KNeighborsRegressor was fitted with feature names\n",
            "X does not have valid feature names, but KNeighborsRegressor was fitted with feature names\n",
            "X does not have valid feature names, but KNeighborsRegressor was fitted with feature names\n",
            "X does not have valid feature names, but KNeighborsRegressor was fitted with feature names\n",
            "X does not have valid feature names, but KNeighborsRegressor was fitted with feature names\n",
            "X does not have valid feature names, but KNeighborsRegressor was fitted with feature names\n",
            "X does not have valid feature names, but KNeighborsRegressor was fitted with feature names\n",
            "X does not have valid feature names, but KNeighborsRegressor was fitted with feature names\n",
            "X does not have valid feature names, but KNeighborsRegressor was fitted with feature names\n",
            "X does not have valid feature names, but KNeighborsRegressor was fitted with feature names\n",
            "X does not have valid feature names, but KNeighborsRegressor was fitted with feature names\n",
            "X does not have valid feature names, but KNeighborsRegressor was fitted with feature names\n",
            "X does not have valid feature names, but KNeighborsRegressor was fitted with feature names\n",
            "X does not have valid feature names, but KNeighborsRegressor was fitted with feature names\n",
            "X does not have valid feature names, but KNeighborsRegressor was fitted with feature names\n",
            "X does not have valid feature names, but KNeighborsRegressor was fitted with feature names\n",
            "X does not have valid feature names, but KNeighborsRegressor was fitted with feature names\n",
            "X does not have valid feature names, but KNeighborsRegressor was fitted with feature names\n",
            "X does not have valid feature names, but KNeighborsRegressor was fitted with feature names\n",
            "X does not have valid feature names, but KNeighborsRegressor was fitted with feature names\n",
            "X does not have valid feature names, but KNeighborsRegressor was fitted with feature names\n",
            "X does not have valid feature names, but KNeighborsRegressor was fitted with feature names\n",
            "X does not have valid feature names, but KNeighborsRegressor was fitted with feature names\n",
            "X does not have valid feature names, but KNeighborsRegressor was fitted with feature names\n",
            "X does not have valid feature names, but KNeighborsRegressor was fitted with feature names\n",
            "X does not have valid feature names, but KNeighborsRegressor was fitted with feature names\n",
            "X does not have valid feature names, but KNeighborsRegressor was fitted with feature names\n",
            "X does not have valid feature names, but KNeighborsRegressor was fitted with feature names\n",
            "X does not have valid feature names, but KNeighborsRegressor was fitted with feature names\n",
            "X does not have valid feature names, but KNeighborsRegressor was fitted with feature names\n",
            "X does not have valid feature names, but KNeighborsRegressor was fitted with feature names\n",
            "X does not have valid feature names, but KNeighborsRegressor was fitted with feature names\n",
            "X does not have valid feature names, but KNeighborsRegressor was fitted with feature names\n",
            "X does not have valid feature names, but KNeighborsRegressor was fitted with feature names\n",
            "X does not have valid feature names, but KNeighborsRegressor was fitted with feature names\n",
            "X does not have valid feature names, but KNeighborsRegressor was fitted with feature names\n",
            "X does not have valid feature names, but KNeighborsRegressor was fitted with feature names\n",
            "X does not have valid feature names, but KNeighborsRegressor was fitted with feature names\n",
            "X does not have valid feature names, but KNeighborsRegressor was fitted with feature names\n",
            "X does not have valid feature names, but KNeighborsRegressor was fitted with feature names\n",
            "X does not have valid feature names, but KNeighborsRegressor was fitted with feature names\n",
            "X does not have valid feature names, but KNeighborsRegressor was fitted with feature names\n",
            "X does not have valid feature names, but KNeighborsRegressor was fitted with feature names\n",
            "X does not have valid feature names, but KNeighborsRegressor was fitted with feature names\n",
            "X does not have valid feature names, but KNeighborsRegressor was fitted with feature names\n",
            "X does not have valid feature names, but KNeighborsRegressor was fitted with feature names\n",
            "X does not have valid feature names, but KNeighborsRegressor was fitted with feature names\n",
            "X does not have valid feature names, but KNeighborsRegressor was fitted with feature names\n",
            "X does not have valid feature names, but KNeighborsRegressor was fitted with feature names\n",
            "X does not have valid feature names, but KNeighborsRegressor was fitted with feature names\n",
            "X does not have valid feature names, but KNeighborsRegressor was fitted with feature names\n",
            "X does not have valid feature names, but KNeighborsRegressor was fitted with feature names\n",
            "X does not have valid feature names, but KNeighborsRegressor was fitted with feature names\n",
            "X does not have valid feature names, but KNeighborsRegressor was fitted with feature names\n",
            "X does not have valid feature names, but KNeighborsRegressor was fitted with feature names\n",
            "X does not have valid feature names, but KNeighborsRegressor was fitted with feature names\n",
            "X does not have valid feature names, but KNeighborsRegressor was fitted with feature names\n",
            "X does not have valid feature names, but KNeighborsRegressor was fitted with feature names\n",
            "X does not have valid feature names, but KNeighborsRegressor was fitted with feature names\n",
            "X does not have valid feature names, but KNeighborsRegressor was fitted with feature names\n",
            "X does not have valid feature names, but KNeighborsRegressor was fitted with feature names\n",
            "X does not have valid feature names, but KNeighborsRegressor was fitted with feature names\n",
            "X does not have valid feature names, but KNeighborsRegressor was fitted with feature names\n",
            "X does not have valid feature names, but KNeighborsRegressor was fitted with feature names\n",
            "X does not have valid feature names, but KNeighborsRegressor was fitted with feature names\n",
            "X does not have valid feature names, but KNeighborsRegressor was fitted with feature names\n",
            "X does not have valid feature names, but KNeighborsRegressor was fitted with feature names\n",
            "X does not have valid feature names, but KNeighborsRegressor was fitted with feature names\n",
            "X does not have valid feature names, but KNeighborsRegressor was fitted with feature names\n",
            "X does not have valid feature names, but KNeighborsRegressor was fitted with feature names\n",
            "X does not have valid feature names, but KNeighborsRegressor was fitted with feature names\n",
            "X does not have valid feature names, but KNeighborsRegressor was fitted with feature names\n",
            "X does not have valid feature names, but KNeighborsRegressor was fitted with feature names\n",
            "X does not have valid feature names, but KNeighborsRegressor was fitted with feature names\n",
            "X does not have valid feature names, but KNeighborsRegressor was fitted with feature names\n",
            "X does not have valid feature names, but KNeighborsRegressor was fitted with feature names\n",
            "X does not have valid feature names, but KNeighborsRegressor was fitted with feature names\n",
            "X does not have valid feature names, but KNeighborsRegressor was fitted with feature names\n",
            "X does not have valid feature names, but KNeighborsRegressor was fitted with feature names\n",
            "X does not have valid feature names, but KNeighborsRegressor was fitted with feature names\n",
            "X does not have valid feature names, but KNeighborsRegressor was fitted with feature names\n",
            "X does not have valid feature names, but KNeighborsRegressor was fitted with feature names\n",
            "X does not have valid feature names, but KNeighborsRegressor was fitted with feature names\n",
            "X does not have valid feature names, but KNeighborsRegressor was fitted with feature names\n",
            "X does not have valid feature names, but KNeighborsRegressor was fitted with feature names\n",
            "X does not have valid feature names, but KNeighborsRegressor was fitted with feature names\n",
            "X does not have valid feature names, but KNeighborsRegressor was fitted with feature names\n",
            "X does not have valid feature names, but KNeighborsRegressor was fitted with feature names\n",
            "X does not have valid feature names, but KNeighborsRegressor was fitted with feature names\n",
            "X does not have valid feature names, but KNeighborsRegressor was fitted with feature names\n",
            "X does not have valid feature names, but KNeighborsRegressor was fitted with feature names\n",
            "X does not have valid feature names, but KNeighborsRegressor was fitted with feature names\n",
            "X does not have valid feature names, but KNeighborsRegressor was fitted with feature names\n",
            "X does not have valid feature names, but KNeighborsRegressor was fitted with feature names\n",
            "X does not have valid feature names, but KNeighborsRegressor was fitted with feature names\n",
            "X does not have valid feature names, but KNeighborsRegressor was fitted with feature names\n",
            "X does not have valid feature names, but KNeighborsRegressor was fitted with feature names\n",
            "X does not have valid feature names, but KNeighborsRegressor was fitted with feature names\n",
            "X does not have valid feature names, but KNeighborsRegressor was fitted with feature names\n",
            "X does not have valid feature names, but KNeighborsRegressor was fitted with feature names\n",
            "X does not have valid feature names, but KNeighborsRegressor was fitted with feature names\n",
            "X does not have valid feature names, but KNeighborsRegressor was fitted with feature names\n",
            "X does not have valid feature names, but KNeighborsRegressor was fitted with feature names\n",
            "X does not have valid feature names, but KNeighborsRegressor was fitted with feature names\n",
            "X does not have valid feature names, but KNeighborsRegressor was fitted with feature names\n",
            "X does not have valid feature names, but KNeighborsRegressor was fitted with feature names\n",
            "X does not have valid feature names, but KNeighborsRegressor was fitted with feature names\n",
            "X does not have valid feature names, but KNeighborsRegressor was fitted with feature names\n",
            "X does not have valid feature names, but KNeighborsRegressor was fitted with feature names\n",
            "X does not have valid feature names, but KNeighborsRegressor was fitted with feature names\n",
            "X does not have valid feature names, but KNeighborsRegressor was fitted with feature names\n",
            "X does not have valid feature names, but KNeighborsRegressor was fitted with feature names\n",
            "X does not have valid feature names, but KNeighborsRegressor was fitted with feature names\n",
            "X does not have valid feature names, but KNeighborsRegressor was fitted with feature names\n",
            "X does not have valid feature names, but KNeighborsRegressor was fitted with feature names\n",
            "X does not have valid feature names, but KNeighborsRegressor was fitted with feature names\n",
            "X does not have valid feature names, but KNeighborsRegressor was fitted with feature names\n",
            "X does not have valid feature names, but KNeighborsRegressor was fitted with feature names\n",
            "X does not have valid feature names, but KNeighborsRegressor was fitted with feature names\n",
            "X does not have valid feature names, but KNeighborsRegressor was fitted with feature names\n",
            "X does not have valid feature names, but KNeighborsRegressor was fitted with feature names\n",
            "X does not have valid feature names, but KNeighborsRegressor was fitted with feature names\n",
            "X does not have valid feature names, but KNeighborsRegressor was fitted with feature names\n",
            "X does not have valid feature names, but KNeighborsRegressor was fitted with feature names\n",
            "X does not have valid feature names, but KNeighborsRegressor was fitted with feature names\n",
            "X does not have valid feature names, but KNeighborsRegressor was fitted with feature names\n",
            "X does not have valid feature names, but KNeighborsRegressor was fitted with feature names\n",
            "X does not have valid feature names, but KNeighborsRegressor was fitted with feature names\n",
            "X does not have valid feature names, but KNeighborsRegressor was fitted with feature names\n",
            "X does not have valid feature names, but KNeighborsRegressor was fitted with feature names\n",
            "X does not have valid feature names, but KNeighborsRegressor was fitted with feature names\n",
            "X does not have valid feature names, but KNeighborsRegressor was fitted with feature names\n",
            "X does not have valid feature names, but KNeighborsRegressor was fitted with feature names\n",
            "X does not have valid feature names, but KNeighborsRegressor was fitted with feature names\n",
            "X does not have valid feature names, but KNeighborsRegressor was fitted with feature names\n",
            "X does not have valid feature names, but KNeighborsRegressor was fitted with feature names\n",
            "X does not have valid feature names, but KNeighborsRegressor was fitted with feature names\n",
            "X does not have valid feature names, but KNeighborsRegressor was fitted with feature names\n",
            "X does not have valid feature names, but KNeighborsRegressor was fitted with feature names\n",
            "X does not have valid feature names, but KNeighborsRegressor was fitted with feature names\n",
            "X does not have valid feature names, but KNeighborsRegressor was fitted with feature names\n",
            "X does not have valid feature names, but KNeighborsRegressor was fitted with feature names\n",
            "X does not have valid feature names, but KNeighborsRegressor was fitted with feature names\n",
            "X does not have valid feature names, but KNeighborsRegressor was fitted with feature names\n",
            "X does not have valid feature names, but KNeighborsRegressor was fitted with feature names\n",
            "X does not have valid feature names, but KNeighborsRegressor was fitted with feature names\n",
            "X does not have valid feature names, but KNeighborsRegressor was fitted with feature names\n",
            "X does not have valid feature names, but KNeighborsRegressor was fitted with feature names\n",
            "X does not have valid feature names, but KNeighborsRegressor was fitted with feature names\n",
            "X does not have valid feature names, but KNeighborsRegressor was fitted with feature names\n",
            "X does not have valid feature names, but KNeighborsRegressor was fitted with feature names\n",
            "X does not have valid feature names, but KNeighborsRegressor was fitted with feature names\n",
            "X does not have valid feature names, but KNeighborsRegressor was fitted with feature names\n",
            "X does not have valid feature names, but KNeighborsRegressor was fitted with feature names\n",
            "X does not have valid feature names, but KNeighborsRegressor was fitted with feature names\n",
            "X does not have valid feature names, but KNeighborsRegressor was fitted with feature names\n",
            "X does not have valid feature names, but KNeighborsRegressor was fitted with feature names\n",
            "X does not have valid feature names, but KNeighborsRegressor was fitted with feature names\n",
            "X does not have valid feature names, but KNeighborsRegressor was fitted with feature names\n",
            "X does not have valid feature names, but KNeighborsRegressor was fitted with feature names\n",
            "X does not have valid feature names, but KNeighborsRegressor was fitted with feature names\n",
            "X does not have valid feature names, but KNeighborsRegressor was fitted with feature names\n",
            "X does not have valid feature names, but KNeighborsRegressor was fitted with feature names\n",
            "X does not have valid feature names, but KNeighborsRegressor was fitted with feature names\n",
            "X does not have valid feature names, but KNeighborsRegressor was fitted with feature names\n",
            "X does not have valid feature names, but KNeighborsRegressor was fitted with feature names\n",
            "X does not have valid feature names, but KNeighborsRegressor was fitted with feature names\n",
            "X does not have valid feature names, but KNeighborsRegressor was fitted with feature names\n",
            "X does not have valid feature names, but KNeighborsRegressor was fitted with feature names\n",
            "X does not have valid feature names, but KNeighborsRegressor was fitted with feature names\n",
            "X does not have valid feature names, but KNeighborsRegressor was fitted with feature names\n",
            "X does not have valid feature names, but KNeighborsRegressor was fitted with feature names\n",
            "X does not have valid feature names, but KNeighborsRegressor was fitted with feature names\n",
            "X does not have valid feature names, but KNeighborsRegressor was fitted with feature names\n",
            "X does not have valid feature names, but KNeighborsRegressor was fitted with feature names\n",
            "X does not have valid feature names, but KNeighborsRegressor was fitted with feature names\n",
            "X does not have valid feature names, but KNeighborsRegressor was fitted with feature names\n",
            "X does not have valid feature names, but KNeighborsRegressor was fitted with feature names\n",
            "X does not have valid feature names, but KNeighborsRegressor was fitted with feature names\n",
            "X does not have valid feature names, but KNeighborsRegressor was fitted with feature names\n",
            "X does not have valid feature names, but KNeighborsRegressor was fitted with feature names\n",
            "X does not have valid feature names, but KNeighborsRegressor was fitted with feature names\n",
            "X does not have valid feature names, but KNeighborsRegressor was fitted with feature names\n",
            "X does not have valid feature names, but KNeighborsRegressor was fitted with feature names\n",
            "X does not have valid feature names, but KNeighborsRegressor was fitted with feature names\n",
            "X does not have valid feature names, but KNeighborsRegressor was fitted with feature names\n",
            "X does not have valid feature names, but KNeighborsRegressor was fitted with feature names\n",
            "X does not have valid feature names, but KNeighborsRegressor was fitted with feature names\n",
            "X does not have valid feature names, but KNeighborsRegressor was fitted with feature names\n",
            "X does not have valid feature names, but KNeighborsRegressor was fitted with feature names\n",
            "X does not have valid feature names, but KNeighborsRegressor was fitted with feature names\n",
            "X does not have valid feature names, but KNeighborsRegressor was fitted with feature names\n",
            "X does not have valid feature names, but KNeighborsRegressor was fitted with feature names\n",
            "X does not have valid feature names, but KNeighborsRegressor was fitted with feature names\n",
            "X does not have valid feature names, but KNeighborsRegressor was fitted with feature names\n",
            "X does not have valid feature names, but KNeighborsRegressor was fitted with feature names\n",
            "X does not have valid feature names, but KNeighborsRegressor was fitted with feature names\n",
            "X does not have valid feature names, but KNeighborsRegressor was fitted with feature names\n",
            "X does not have valid feature names, but KNeighborsRegressor was fitted with feature names\n",
            "X does not have valid feature names, but KNeighborsRegressor was fitted with feature names\n",
            "X does not have valid feature names, but KNeighborsRegressor was fitted with feature names\n",
            "X does not have valid feature names, but KNeighborsRegressor was fitted with feature names\n",
            "X does not have valid feature names, but KNeighborsRegressor was fitted with feature names\n",
            "X does not have valid feature names, but KNeighborsRegressor was fitted with feature names\n",
            "X does not have valid feature names, but KNeighborsRegressor was fitted with feature names\n",
            "X does not have valid feature names, but KNeighborsRegressor was fitted with feature names\n",
            "X does not have valid feature names, but KNeighborsRegressor was fitted with feature names\n",
            "X does not have valid feature names, but KNeighborsRegressor was fitted with feature names\n",
            "X does not have valid feature names, but KNeighborsRegressor was fitted with feature names\n",
            "X does not have valid feature names, but KNeighborsRegressor was fitted with feature names\n",
            "X does not have valid feature names, but KNeighborsRegressor was fitted with feature names\n",
            "X does not have valid feature names, but KNeighborsRegressor was fitted with feature names\n",
            "X does not have valid feature names, but KNeighborsRegressor was fitted with feature names\n",
            "X does not have valid feature names, but KNeighborsRegressor was fitted with feature names\n",
            "X does not have valid feature names, but KNeighborsRegressor was fitted with feature names\n",
            "X does not have valid feature names, but KNeighborsRegressor was fitted with feature names\n",
            "X does not have valid feature names, but KNeighborsRegressor was fitted with feature names\n",
            "X does not have valid feature names, but KNeighborsRegressor was fitted with feature names\n",
            "X does not have valid feature names, but KNeighborsRegressor was fitted with feature names\n",
            "X does not have valid feature names, but KNeighborsRegressor was fitted with feature names\n",
            "X does not have valid feature names, but KNeighborsRegressor was fitted with feature names\n",
            "X does not have valid feature names, but KNeighborsRegressor was fitted with feature names\n",
            "X does not have valid feature names, but KNeighborsRegressor was fitted with feature names\n",
            "X does not have valid feature names, but KNeighborsRegressor was fitted with feature names\n",
            "X does not have valid feature names, but KNeighborsRegressor was fitted with feature names\n",
            "X does not have valid feature names, but KNeighborsRegressor was fitted with feature names\n",
            "X does not have valid feature names, but KNeighborsRegressor was fitted with feature names\n",
            "X does not have valid feature names, but KNeighborsRegressor was fitted with feature names\n",
            "X does not have valid feature names, but KNeighborsRegressor was fitted with feature names\n",
            "X does not have valid feature names, but KNeighborsRegressor was fitted with feature names\n",
            "X does not have valid feature names, but KNeighborsRegressor was fitted with feature names\n",
            "X does not have valid feature names, but KNeighborsRegressor was fitted with feature names\n",
            "X does not have valid feature names, but KNeighborsRegressor was fitted with feature names\n",
            "X does not have valid feature names, but KNeighborsRegressor was fitted with feature names\n",
            "X does not have valid feature names, but KNeighborsRegressor was fitted with feature names\n",
            "X does not have valid feature names, but KNeighborsRegressor was fitted with feature names\n",
            "X does not have valid feature names, but KNeighborsRegressor was fitted with feature names\n",
            "X does not have valid feature names, but KNeighborsRegressor was fitted with feature names\n",
            "X does not have valid feature names, but KNeighborsRegressor was fitted with feature names\n",
            "X does not have valid feature names, but KNeighborsRegressor was fitted with feature names\n",
            "X does not have valid feature names, but KNeighborsRegressor was fitted with feature names\n",
            "X does not have valid feature names, but KNeighborsRegressor was fitted with feature names\n",
            "X does not have valid feature names, but KNeighborsRegressor was fitted with feature names\n",
            "X does not have valid feature names, but KNeighborsRegressor was fitted with feature names\n",
            "X does not have valid feature names, but KNeighborsRegressor was fitted with feature names\n",
            "X does not have valid feature names, but KNeighborsRegressor was fitted with feature names\n",
            "X does not have valid feature names, but KNeighborsRegressor was fitted with feature names\n",
            "X does not have valid feature names, but KNeighborsRegressor was fitted with feature names\n",
            "X does not have valid feature names, but KNeighborsRegressor was fitted with feature names\n",
            "X does not have valid feature names, but KNeighborsRegressor was fitted with feature names\n",
            "X does not have valid feature names, but KNeighborsRegressor was fitted with feature names\n"
          ]
        }
      ],
      "source": [
        "X_test_sample = X_test.sample(200)\n",
        "explainer = shap.KernelExplainer(knn.predict, X_test_sample)\n",
        "shap_values = explainer.shap_values(X_test_sample)"
      ]
    },
    {
      "cell_type": "markdown",
      "metadata": {
        "id": "EqDdiaFO5hYa"
      },
      "source": [
        "0/2\n",
        "\n",
        "*Incomplete, but includes part of Exercise 4. See documentation for shap.KernelExplainer(). Need to also include prediction function for regressor.*"
      ]
    },
    {
      "cell_type": "markdown",
      "metadata": {
        "id": "LvhA_4SsuWv8"
      },
      "source": [
        "## Exercise 4 (4 marks)"
      ]
    },
    {
      "cell_type": "markdown",
      "metadata": {
        "id": "Mod75SGTuZVz"
      },
      "source": [
        "Create a 'swarm' summary plot of the Shap values. List two significant conclusions regarding the model you can draw from this plot."
      ]
    },
    {
      "cell_type": "code",
      "execution_count": null,
      "metadata": {
        "colab": {
          "base_uri": "https://localhost:8080/",
          "height": 377
        },
        "id": "tS9swnByZcKg",
        "outputId": "6d9d6558-6532-43f7-b3c4-d750e873581c"
      },
      "outputs": [
        {
          "data": {
            "image/png": "[encoded data removed]",
            "text/plain": [
              "<Figure size 576x367.2 with 2 Axes>"
            ]
          },
          "metadata": {
            "needs_background": "light"
          },
          "output_type": "display_data"
        }
      ],
      "source": [
        " shap.summary_plot(shap_values, X_test_sample)"
      ]
    },
    {
      "cell_type": "code",
      "execution_count": null,
      "metadata": {
        "id": "YFtfv-6_ZcKg"
      },
      "outputs": [],
      "source": [
        "Whole weight, Shucked weight and Shell weight are the most important features.\n",
        "Shap values increase with Whole weight and Shell weight, but decrease with Shucked weight."
      ]
    },
    {
      "cell_type": "markdown",
      "metadata": {
        "id": "ryaDFT8088jF"
      },
      "source": [
        " #### Generative AI Acknowledgement"
      ]
    },
    {
      "cell_type": "markdown",
      "metadata": {
        "id": "xZyPekUC88jF"
      },
      "source": [
        "If you used generative AI to assist you with these excercises, document your use below following the guidelines here: https://www.monash.edu/learnhq/build-digital-capabilities/create-online/acknowledging-the-use-of-generative-artificial-intelligence"
      ]
    },
    {
      "cell_type": "code",
      "execution_count": null,
      "metadata": {
        "id": "gSuqPIXD88jG"
      },
      "outputs": [],
      "source": []
    }
  ],
  "metadata": {
    "colab": {
      "provenance": [],
      "include_colab_link": true
    },
    "kernelspec": {
      "display_name": "Python 3 (ipykernel)",
      "language": "python",
      "name": "python3"
    },
    "language_info": {
      "codemirror_mode": {
        "name": "ipython",
        "version": 3
      },
      "file_extension": ".py",
      "mimetype": "text/x-python",
      "name": "python",
      "nbconvert_exporter": "python",
      "pygments_lexer": "ipython3",
      "version": "3.9.7"
    },
    "widgets": {
      "application/vnd.jupyter.widget-state+json": {
        "0bf6c8bbcf2640e78e9b7fc73a519b7d": {
          "model_module": "@jupyter-widgets/base",
          "model_module_version": "1.2.0",
          "model_name": "LayoutModel",
          "state": {
            "_model_module": "@jupyter-widgets/base",
            "_model_module_version": "1.2.0",
            "_model_name": "LayoutModel",
            "_view_count": null,
            "_view_module": "@jupyter-widgets/base",
            "_view_module_version": "1.2.0",
            "_view_name": "LayoutView",
            "align_content": null,
            "align_items": null,
            "align_self": null,
            "border": null,
            "bottom": null,
            "display": null,
            "flex": null,
            "flex_flow": null,
            "grid_area": null,
            "grid_auto_columns": null,
            "grid_auto_flow": null,
            "grid_auto_rows": null,
            "grid_column": null,
            "grid_gap": null,
            "grid_row": null,
            "grid_template_areas": null,
            "grid_template_columns": null,
            "grid_template_rows": null,
            "height": null,
            "justify_content": null,
            "justify_items": null,
            "left": null,
            "margin": null,
            "max_height": null,
            "max_width": null,
            "min_height": null,
            "min_width": null,
            "object_fit": null,
            "object_position": null,
            "order": null,
            "overflow": null,
            "overflow_x": null,
            "overflow_y": null,
            "padding": null,
            "right": null,
            "top": null,
            "visibility": null,
            "width": null
          }
        },
        "26c1bc692c124f0181f43768ac5d9ea8": {
          "model_module": "@jupyter-widgets/controls",
          "model_module_version": "1.5.0",
          "model_name": "FloatProgressModel",
          "state": {
            "_dom_classes": [],
            "_model_module": "@jupyter-widgets/controls",
            "_model_module_version": "1.5.0",
            "_model_name": "FloatProgressModel",
            "_view_count": null,
            "_view_module": "@jupyter-widgets/controls",
            "_view_module_version": "1.5.0",
            "_view_name": "ProgressView",
            "bar_style": "success",
            "description": "",
            "description_tooltip": null,
            "layout": "IPY_MODEL_ea504a51da4b4da3b104844f28726c42",
            "max": 200,
            "min": 0,
            "orientation": "horizontal",
            "style": "IPY_MODEL_314f823825804ba6bdb5e6920e8504e2",
            "value": 200
          }
        },
        "314f823825804ba6bdb5e6920e8504e2": {
          "model_module": "@jupyter-widgets/controls",
          "model_module_version": "1.5.0",
          "model_name": "ProgressStyleModel",
          "state": {
            "_model_module": "@jupyter-widgets/controls",
            "_model_module_version": "1.5.0",
            "_model_name": "ProgressStyleModel",
            "_view_count": null,
            "_view_module": "@jupyter-widgets/base",
            "_view_module_version": "1.2.0",
            "_view_name": "StyleView",
            "bar_color": null,
            "description_width": ""
          }
        },
        "3ae0c485df5c4dcfb947a9502b62b56c": {
          "model_module": "@jupyter-widgets/controls",
          "model_module_version": "1.5.0",
          "model_name": "HBoxModel",
          "state": {
            "_dom_classes": [],
            "_model_module": "@jupyter-widgets/controls",
            "_model_module_version": "1.5.0",
            "_model_name": "HBoxModel",
            "_view_count": null,
            "_view_module": "@jupyter-widgets/controls",
            "_view_module_version": "1.5.0",
            "_view_name": "HBoxView",
            "box_style": "",
            "children": [
              "IPY_MODEL_6e865e85a0d946fa9afc228f49ed8975",
              "IPY_MODEL_26c1bc692c124f0181f43768ac5d9ea8",
              "IPY_MODEL_7c42d5d5880643d8a5ac571b4155a6db"
            ],
            "layout": "IPY_MODEL_e070fedbb5524a5da4f43d6890a4ceb5"
          }
        },
        "5232b93a99bb4bc388aa77cf0e5a9844": {
          "model_module": "@jupyter-widgets/controls",
          "model_module_version": "1.5.0",
          "model_name": "DescriptionStyleModel",
          "state": {
            "_model_module": "@jupyter-widgets/controls",
            "_model_module_version": "1.5.0",
            "_model_name": "DescriptionStyleModel",
            "_view_count": null,
            "_view_module": "@jupyter-widgets/base",
            "_view_module_version": "1.2.0",
            "_view_name": "StyleView",
            "description_width": ""
          }
        },
        "6e865e85a0d946fa9afc228f49ed8975": {
          "model_module": "@jupyter-widgets/controls",
          "model_module_version": "1.5.0",
          "model_name": "HTMLModel",
          "state": {
            "_dom_classes": [],
            "_model_module": "@jupyter-widgets/controls",
            "_model_module_version": "1.5.0",
            "_model_name": "HTMLModel",
            "_view_count": null,
            "_view_module": "@jupyter-widgets/controls",
            "_view_module_version": "1.5.0",
            "_view_name": "HTMLView",
            "description": "",
            "description_tooltip": null,
            "layout": "IPY_MODEL_d94f9dc44b594312af22a3dbb755de29",
            "placeholder": "​",
            "style": "IPY_MODEL_5232b93a99bb4bc388aa77cf0e5a9844",
            "value": "100%"
          }
        },
        "7c42d5d5880643d8a5ac571b4155a6db": {
          "model_module": "@jupyter-widgets/controls",
          "model_module_version": "1.5.0",
          "model_name": "HTMLModel",
          "state": {
            "_dom_classes": [],
            "_model_module": "@jupyter-widgets/controls",
            "_model_module_version": "1.5.0",
            "_model_name": "HTMLModel",
            "_view_count": null,
            "_view_module": "@jupyter-widgets/controls",
            "_view_module_version": "1.5.0",
            "_view_name": "HTMLView",
            "description": "",
            "description_tooltip": null,
            "layout": "IPY_MODEL_0bf6c8bbcf2640e78e9b7fc73a519b7d",
            "placeholder": "​",
            "style": "IPY_MODEL_e1d946a1fda74e8ca9297fbc085d9cfc",
            "value": " 200/200 [07:22&lt;00:00,  2.24s/it]"
          }
        },
        "d94f9dc44b594312af22a3dbb755de29": {
          "model_module": "@jupyter-widgets/base",
          "model_module_version": "1.2.0",
          "model_name": "LayoutModel",
          "state": {
            "_model_module": "@jupyter-widgets/base",
            "_model_module_version": "1.2.0",
            "_model_name": "LayoutModel",
            "_view_count": null,
            "_view_module": "@jupyter-widgets/base",
            "_view_module_version": "1.2.0",
            "_view_name": "LayoutView",
            "align_content": null,
            "align_items": null,
            "align_self": null,
            "border": null,
            "bottom": null,
            "display": null,
            "flex": null,
            "flex_flow": null,
            "grid_area": null,
            "grid_auto_columns": null,
            "grid_auto_flow": null,
            "grid_auto_rows": null,
            "grid_column": null,
            "grid_gap": null,
            "grid_row": null,
            "grid_template_areas": null,
            "grid_template_columns": null,
            "grid_template_rows": null,
            "height": null,
            "justify_content": null,
            "justify_items": null,
            "left": null,
            "margin": null,
            "max_height": null,
            "max_width": null,
            "min_height": null,
            "min_width": null,
            "object_fit": null,
            "object_position": null,
            "order": null,
            "overflow": null,
            "overflow_x": null,
            "overflow_y": null,
            "padding": null,
            "right": null,
            "top": null,
            "visibility": null,
            "width": null
          }
        },
        "e070fedbb5524a5da4f43d6890a4ceb5": {
          "model_module": "@jupyter-widgets/base",
          "model_module_version": "1.2.0",
          "model_name": "LayoutModel",
          "state": {
            "_model_module": "@jupyter-widgets/base",
            "_model_module_version": "1.2.0",
            "_model_name": "LayoutModel",
            "_view_count": null,
            "_view_module": "@jupyter-widgets/base",
            "_view_module_version": "1.2.0",
            "_view_name": "LayoutView",
            "align_content": null,
            "align_items": null,
            "align_self": null,
            "border": null,
            "bottom": null,
            "display": null,
            "flex": null,
            "flex_flow": null,
            "grid_area": null,
            "grid_auto_columns": null,
            "grid_auto_flow": null,
            "grid_auto_rows": null,
            "grid_column": null,
            "grid_gap": null,
            "grid_row": null,
            "grid_template_areas": null,
            "grid_template_columns": null,
            "grid_template_rows": null,
            "height": null,
            "justify_content": null,
            "justify_items": null,
            "left": null,
            "margin": null,
            "max_height": null,
            "max_width": null,
            "min_height": null,
            "min_width": null,
            "object_fit": null,
            "object_position": null,
            "order": null,
            "overflow": null,
            "overflow_x": null,
            "overflow_y": null,
            "padding": null,
            "right": null,
            "top": null,
            "visibility": null,
            "width": null
          }
        },
        "e1d946a1fda74e8ca9297fbc085d9cfc": {
          "model_module": "@jupyter-widgets/controls",
          "model_module_version": "1.5.0",
          "model_name": "DescriptionStyleModel",
          "state": {
            "_model_module": "@jupyter-widgets/controls",
            "_model_module_version": "1.5.0",
            "_model_name": "DescriptionStyleModel",
            "_view_count": null,
            "_view_module": "@jupyter-widgets/base",
            "_view_module_version": "1.2.0",
            "_view_name": "StyleView",
            "description_width": ""
          }
        },
        "ea504a51da4b4da3b104844f28726c42": {
          "model_module": "@jupyter-widgets/base",
          "model_module_version": "1.2.0",
          "model_name": "LayoutModel",
          "state": {
            "_model_module": "@jupyter-widgets/base",
            "_model_module_version": "1.2.0",
            "_model_name": "LayoutModel",
            "_view_count": null,
            "_view_module": "@jupyter-widgets/base",
            "_view_module_version": "1.2.0",
            "_view_name": "LayoutView",
            "align_content": null,
            "align_items": null,
            "align_self": null,
            "border": null,
            "bottom": null,
            "display": null,
            "flex": null,
            "flex_flow": null,
            "grid_area": null,
            "grid_auto_columns": null,
            "grid_auto_flow": null,
            "grid_auto_rows": null,
            "grid_column": null,
            "grid_gap": null,
            "grid_row": null,
            "grid_template_areas": null,
            "grid_template_columns": null,
            "grid_template_rows": null,
            "height": null,
            "justify_content": null,
            "justify_items": null,
            "left": null,
            "margin": null,
            "max_height": null,
            "max_width": null,
            "min_height": null,
            "min_width": null,
            "object_fit": null,
            "object_position": null,
            "order": null,
            "overflow": null,
            "overflow_x": null,
            "overflow_y": null,
            "padding": null,
            "right": null,
            "top": null,
            "visibility": null,
            "width": null
          }
        }
      }
    }
  },
  "nbformat": 4,
  "nbformat_minor": 0
}